{
 "cells": [
  {
   "cell_type": "markdown",
   "metadata": {
    "slideshow": {
     "slide_type": "slide"
    }
   },
   "source": [
    "# 웹 스크랩 2"
   ]
  },
  {
   "cell_type": "markdown",
   "metadata": {
    "slideshow": {
     "slide_type": "subslide"
    }
   },
   "source": [
    "## 학습 목표\n",
    "\n",
    "- 헤더 정보를 교체하는 방법\n",
    "  - 유저 에이전트\n",
    "  - 리퍼러\n",
    "- 인코딩"
   ]
  },
  {
   "cell_type": "markdown",
   "metadata": {
    "slideshow": {
     "slide_type": "slide"
    }
   },
   "source": [
    "## 네이버 의사모\n",
    "\n",
    "- PC버전: https://cafe.naver.com/duoin\n",
    "- 모바일버전: https://m.cafe.naver.com/duoin\n",
    "\n",
    "모바일 버전은 주소 m이 들어가있는 형태가 많음"
   ]
  },
  {
   "cell_type": "markdown",
   "metadata": {
    "slideshow": {
     "slide_type": "subslide"
    }
   },
   "source": [
    "## 본문 긁기\n",
    "\n",
    "https://m.cafe.naver.com/ArticleRead.nhn?clubid=19773565&articleid=83048&page=1&boardtype=L&menuid=366"
   ]
  },
  {
   "cell_type": "code",
   "execution_count": 2,
   "metadata": {
    "slideshow": {
     "slide_type": "fragment"
    }
   },
   "outputs": [],
   "source": [
    "import requests"
   ]
  },
  {
   "cell_type": "code",
   "execution_count": 3,
   "metadata": {
    "slideshow": {
     "slide_type": "fragment"
    }
   },
   "outputs": [],
   "source": [
    "article_url = 'https://m.cafe.naver.com/ArticleRead.nhn?clubid=19773565&articleid=83048&page=2&boardtype=L&menuid=366'"
   ]
  },
  {
   "cell_type": "code",
   "execution_count": 4,
   "metadata": {},
   "outputs": [
    {
     "data": {
      "text/plain": [
       "'https://m.cafe.naver.com/ArticleRead.nhn?clubid=19773565&articleid=83048&page=2&boardtype=L&menuid=366'"
      ]
     },
     "execution_count": 4,
     "metadata": {},
     "output_type": "execute_result"
    }
   ],
   "source": [
    "article_url"
   ]
  },
  {
   "cell_type": "code",
   "execution_count": 5,
   "metadata": {
    "slideshow": {
     "slide_type": "fragment"
    }
   },
   "outputs": [],
   "source": [
    "res = requests.get(article_url)"
   ]
  },
  {
   "cell_type": "markdown",
   "metadata": {
    "slideshow": {
     "slide_type": "subslide"
    }
   },
   "source": [
    "## id 선택자\n",
    "\n",
    "- 본문 영역은 다음 태그로 감싸여 있다\n",
    "\n",
    "```html\n",
    "<div id=\"postContent\" class=\"post_cont font_zoom1\" style=\"overflow-x:auto;\">\n",
    "```\n",
    "\n",
    "- `id`는 선택자에서 `#`으로 표시"
   ]
  },
  {
   "cell_type": "code",
   "execution_count": 6,
   "metadata": {
    "slideshow": {
     "slide_type": "fragment"
    }
   },
   "outputs": [],
   "source": [
    "import lxml.html"
   ]
  },
  {
   "cell_type": "code",
   "execution_count": 7,
   "metadata": {
    "slideshow": {
     "slide_type": "fragment"
    }
   },
   "outputs": [],
   "source": [
    "root = lxml.html.fromstring(res.text)"
   ]
  },
  {
   "cell_type": "code",
   "execution_count": 8,
   "metadata": {
    "slideshow": {
     "slide_type": "fragment"
    }
   },
   "outputs": [
    {
     "data": {
      "text/plain": [
       "[<Element div at 0x1ae56600db8>]"
      ]
     },
     "execution_count": 8,
     "metadata": {},
     "output_type": "execute_result"
    }
   ],
   "source": [
    "root.cssselect('div#postContent')"
   ]
  },
  {
   "cell_type": "markdown",
   "metadata": {
    "slideshow": {
     "slide_type": "subslide"
    }
   },
   "source": [
    "## 본문 내용 보기\n",
    "\n",
    "- `cssselect`는 결과를 항상 리스트 형식으로 반환\n",
    "- 본문은 리스트의 첫번째 값이므로 0번을 지정"
   ]
  },
  {
   "cell_type": "code",
   "execution_count": 9,
   "metadata": {
    "slideshow": {
     "slide_type": "fragment"
    }
   },
   "outputs": [],
   "source": [
    "content = root.cssselect('div#postContent')[0]"
   ]
  },
  {
   "cell_type": "code",
   "execution_count": 10,
   "metadata": {
    "slideshow": {
     "slide_type": "fragment"
    }
   },
   "outputs": [
    {
     "data": {
      "text/plain": [
       "'\\n\\n\\t\\t \\n\\t\\t \\n\\t     \\n\\t\\n\\t\\t\\n\\t\\t\\n\\t\\t\\t\\n\\t\\t\\t\\n\\t\\t\\t\\t \\n  \\n   \\n   \\n    \\n    지난 영진산업 스피드랙 체인지업에 이어 이번에는 상도가구 몬스터랙을 검증해 보기로 하였습니다.\\n    \\n    \\n    \\u200b\\n    \\n    \\n    일단 저는 1차 검증의 내용부터 밝혀보겠습니다.\\n    \\n    \\n    \\u200b\\n    \\n    \\n    \\u200b\\n    \\n    \\n    http://www.sangdogagu.co.kr/shop/shopdetail.html?branduid=971834&xcode=073&mcode=005&scode=001&type=Y&sort=manual&cur_code=073005&GfDT=bm51W1o%3D\\n    \\n    \\n   \\n   \\n    \\n     \\n      \\n       \\n          \\n       \\n       \\n        \\n        \\n        상도가구 \\n        가구의 모든것 상도가구,대량구매,사무용가구 \\n        <=\"www.sangdogagu.co.kr<\" p=\"p\" style=\"overflow:hidden;color:rgb(0, 168, 50);white-space:nowrap;word-break:break-all;font-size:13px;margin-top:9px;text-overflow:ellipsis\"> \\n        \\n       \\n      \\n     \\n    \\n   \\n   \\n   \\n    \\n    \\u200b\\n    \\n    \\n    \\u200b\\n    \\n    \\n    \\u200b\\n    \\n    \\n   \\n   \\n    \\n     \\n        \\n     \\n    \\n   \\n   \\n    \\n     \\n        \\n     \\n      상도가구 쇼핑몰 게시정보\\n      \\n     \\n    \\n   \\n   \\n   \\n    \\n    \\u200b\\n    \\n    \\n    \\u200b\\n    \\n    \\n    \\u200b\\n    \\n    \\n   \\n   \\n    \\n     \\n      \\n       \\n       \\n        \\n         \\n          \\n          \\u200b\\n          \\n         \\n        \\n         \\n          \\n          상도가구 쇼핑몰 표시\\n          \\n         \\n        \\n         \\n          \\n          검증결과\\n          \\n         \\n        \\n         \\n          \\n          비고 \\n          \\n         \\n        \\n       \\n        \\n         \\n          \\n          규격\\n          \\n         \\n        \\n         \\n          \\n          180 x 80 x 40 (cm)\\n          \\n         \\n        \\n         \\n          \\n          180.5 x 80 x40.2 (cm)\\n          \\n         \\n        \\n         \\n          \\n          연결 브라켓과의 간섭으로 인한 차이가 있는 것으로 판단 됨\\n          \\n         \\n        \\n       \\n        \\n         \\n          \\n          구성품\\n          \\n         \\n        \\n         \\n          \\n          기둥 45cm 16개 / 기둥연결 브라켓 12개 / 가로받침 80cm 8개 / 가로 하프받침 80cm 5개 / 깊이받침 40cm 8개 \\n          \\n          \\n          선반 (80*40cm) 4개 / 안전좌(고무받침) 4개\\n          \\n         \\n        \\n         \\n          \\n          이상없음\\n          \\n         \\n        \\n         \\n          \\n          전용망치 포함\\n          \\n         \\n        \\n       \\n        \\n         \\n          \\n          소재\\n          \\n         \\n        \\n         \\n          \\n          초강력 강철프레임\\n          \\n         \\n        \\n         \\n          \\n          철재이나 초강력인지는 차후 \\n          \\n          \\n          검증\\n          \\n         \\n        \\n         \\n          \\n          \\u200b\\n          \\n         \\n        \\n       \\n        \\n         \\n          \\n          프레임 두께\\n          \\n         \\n        \\n         \\n          \\n          미표기\\n          \\n         \\n        \\n         \\n          \\n          1~1.1mm\\n          \\n         \\n        \\n         \\n          \\n          전체 검증제품 중 가장 두께 얇음 / 중량과 비례\\n          \\n         \\n        \\n       \\n        \\n         \\n          \\n          도막두께\\n          \\n         \\n        \\n         \\n          \\n          미표기\\n          \\n         \\n        \\n         \\n          \\n          0.1~0.15mm(SNG)\\n          \\n         \\n        \\n         \\n          \\n          블랙도장의 경우 매트블랙이 아닌 막도장 느낌이 듬\\n          \\n         \\n        \\n       \\n        \\n         \\n          \\n          철재중량\\n          \\n          \\n          프레임과 연결바 (합판은 제외)\\n          \\n         \\n        \\n         \\n          \\n          미표기\\n          \\n         \\n        \\n         \\n          \\n          10.24Kg\\n          \\n         \\n        \\n         \\n          \\n          전체 검증제품 중 가장 중량이 \\n          \\n          \\n          적음\\n          \\n         \\n        \\n       \\n        \\n         \\n          \\n          제조국\\n          \\n         \\n        \\n         \\n          \\n          중국\\n          \\n         \\n        \\n         \\n          \\n          \\u200b\\n          \\n         \\n        \\n         \\n          \\n          \\u200b\\n          \\n         \\n        \\n       \\n      \\n     \\n    \\n   \\n   \\n   \\n    \\n    \\u200b\\n    \\n    \\n    \\u200b\\n    \\n    \\n     \\n    \\n    \\n   \\n   \\n    \\n     \\n        \\n     \\n    \\n   \\n   \\n    \\n     \\n        \\n     \\n    \\n   \\n   \\n    \\n     \\n        \\n     \\n    \\n   \\n   \\n    \\n     \\n        \\n     \\n    \\n   \\n   \\n    \\n     \\n        \\n     \\n    \\n   \\n   \\n    \\n     \\n        \\n     \\n    \\n   \\n   \\n    \\n     \\n        \\n     \\n    \\n   \\n   \\n    \\n     \\n        \\n     \\n    \\n   \\n   \\n   \\n    \\n    \\u200b\\n    \\n    \\n    \\u200b\\n    \\n    \\n   \\n   \\n    \\n     \\n      \\n     \\n      상품포장 및 구성\\n      \\n      \\n      \\n     \\n    \\n   \\n   \\n   \\n    \\n    상도가구 몬스터랙은 통프레임 방식이 아닌 4단 연결구조 프레임 방식으로 합판선반과 함께 포장되어 배송되기 때문에 각각 분리되 배송되는 통프레임 방식의 제품들보다 편리합니다.\\n    \\n    \\n    \\u200b\\n    \\n    \\n    포장상태도 양호해 보였으나 연결부속은 눌려서 문제가 있었습니다.\\n    \\n    \\n    박스의 파손에 문제가 없었던 것으로 보아 국내 배송과정에서 발생한 문제는 아닌 것 같았습니다.\\n    \\n    \\n    \\u200b\\n    \\n    \\n    \\u200b\\n    \\n    \\n    \\u200b\\n    \\n    \\n   \\n   \\n    \\n     \\n      \\n     \\n      몬스터랙 실조립영상\\n      \\n     \\n      검증 마케터\\n      \\n      \\n     \\n    \\n   \\n   \\n   \\n    \\n    \\u200b\\n    \\n    \\n    https://youtu.be/PU2j7MGheBM\\n    \\n    \\n   \\n   \\n    \\n     \\n      \\n       \\n      \\n     \\n    \\n   \\n   \\n   \\n    \\n    \\u200b\\n    \\n    \\n    \\u200b\\n    \\n    \\n   \\n   \\n    \\n     \\n      \\n       \\n       \\n        \\n         \\n          \\n          조립소요시간\\n          \\n         \\n        \\n         \\n          \\n          약 21분\\n          \\n         \\n        \\n         \\n          \\n          단별조립\\n          \\n         \\n        \\n       \\n        \\n         \\n          \\n          난이도\\n          \\n         \\n        \\n         \\n          \\n          중하\\n          \\n         \\n        \\n         \\n          \\n          \\u200b\\n          \\n         \\n        \\n       \\n        \\n         \\n          \\n          특이사항\\n          \\n         \\n        \\n         \\n          \\n          4단 체결 프레임 방식\\n          \\n         \\n        \\n         \\n          \\n          다소 흔들림 있음\\n          \\n         \\n        \\n       \\n      \\n     \\n    \\n   \\n   \\n   \\n    \\n    \\u200b\\n    \\n    \\n   \\n   \\n    \\n     \\n     \\n      조립과정 후 특이사항\\n      \\n      \\n     \\n    \\n   \\n   \\n    \\n     \\n        \\n     \\n    \\n   \\n   \\n   \\n    \\n    \\u200b\\n    \\n    \\n    앞서 스피드랙 체인지업에서 설명한 바와 같이 몬스터랙도 6개의 상품중 가장 큰 빈공간이 있었습니다.\\n    \\n    \\n    내구성과 완성도에 영향을 줄 수 있는 부분이기도 합니다.\\n    \\n    \\n    공간이 적을 수록 수납되는 무게를 좀 더 고르게 분산 시킬 수 있습니다. \\n    \\n    \\n    \\u200b\\n    \\n    \\n    \\u200b\\n    \\n    \\n   \\n   \\n    \\n     \\n      \\n     \\n      1차 조립 및 검증결과\\n      \\n     \\n      검증마케터\\n      \\n      \\n     \\n    \\n   \\n   \\n   \\n    \\n    상도가구의 몬스터랙을 검증하면서 상도가구가 일부러 표시하지 않은 정보가 있음을 확인하였습니다.\\n    \\n    \\n    \\u200b\\n    \\n    \\n    1. 프레임 철재 두께 누락\\n    \\n    \\n    실제 몬스터랙(4단 기준)의 철재중량을 측정해 보니 10Kg 초반대라서 사실 놀랐습니다.\\n    \\n    \\n    스피드랙의 체인지업이 11Kg 초반대인데 많이 불안정 했는데 몬스터랙도 그러지는 않을까 걱정이 되었습니다.\\n    \\n    \\n    \\u200b\\n    \\n    \\n    그러나 스피드랙 체인지업은 얇은 철판(0.8mm)을 접어서 체결 부위를 숨긴형태 이나 몬스터랙은 일반적인 랙과 동일한 구조이지만 프레임 체결방식은 스피드랙과 같아도 좀 더 안정감이 있었습니다.\\n    \\n    \\n    \\u200b\\n    \\n    \\n    하지만, 몬스터랙 플러스는 스피드랙의 체인지업과 동일한 디자인과 조립방식을 하고 있습니다.\\n    \\n    \\n    따라서 몬스터랙 플러스도 불안정한 건 마찬가지일 것으로 생각되나 이후에 검증해 보려고 합니다.\\n    \\n    \\n    \\u200b\\n    \\n    \\n    비교검증한 가정용 선반랙들은 판매 사이트에서 철재 프레임에 대해 명시하고 있어 소비자들이 좀 더 내구성 있는 제품이라는 것에 대한 판단을 하는 중요한 수치가 됩니다만 상도가구에서는 두께에 대한 내용을 표시하지 않고 \\'초강력 강철프레임\\'으로만 소개하고 있습니다.\\n    \\n    \\n    다른 선반랙들과 수치상 비교를 피하기 위하여 의도적으로 철재 두께를 표시하지 않은 것으로 생각됩니다.\\n    \\n    \\n    \\u200b\\n    \\n    \\n    상도가구에서도 소비자의 객관적으로 선택할 수 있게끔 철판에 대한 수치를 게시하여 주시기 바랍니다.\\n    \\n    \\n     \\n    \\n    \\n    \\u200b\\n    \\n    \\n    \\u200b\\n    \\n    \\n    2. 선반의 친환경 등급 누락\\n    \\n    \\n    합판 선반의 경우 타 업체들의 선반보다 품질이 뛰어나다고 판단되었습니다.\\n    \\n    \\n    고급스럽고 더 튼튼한 느낌을 받았습니다.\\n    \\n    \\n    하지만, 타 업체에서는 친환경 E1등급이라고 표시하였는데 몬스터랙은 확인하기 어려웠습니다.\\n    \\n    \\n    이부분도 제조국이 중국이라 국내 실정에 맞게 하지 못하는 이유가 있어 게시하지 않은 것으로 보입니다.\\n    \\n    \\n    \\u200b\\n    \\n    \\n    \\u200b\\n    \\n    \\n    결론\\n    \\n    \\n    \\u200b\\n    \\n    \\n    제일 먼저 검증한 스피드랙 체인지업과 유사한 조립방식의 4프레임 연결구조 임에도 체인지업 보다는 안정감이 있었으나 철제의 중량이 적고 선반 모서리 마다 공간이 큼으로 인해 표시한 적정 하중을 견디어 줄지는 아직 알 수가 없습니다.\\n    \\n    \\n    이부분은 모든 제품의 조립 및 1차검증이 완료된 후 모든 브랜드의 랙을 가혹하게 테스트 할 예정입니다.\\n    \\n    \\n    \\u200b\\n    \\n    \\n    블랙도장은 사실 일반적인 매트하거나 유광이 있는 블랙과 달리 좀 저렴한 막도장 같은 느낌을 지울 수 없습니다.\\n    \\n    \\n    제조국이 중국이라는 선입견을 버리기 어려운 것도 사실 이부분 입니다.\\n    \\n    \\n     \\n    \\n    \\n    철재중량이 가장적고 두께도 가장 얇지만 그에 비해 튼튼하게 느껴지는 건 몬스터랙의 큰 장점입니다.\\n    \\n    \\n    다만, 그것이 단지 제 개인적인 느낌일 뿐이고 실제로 여러 테스트를 하였을때 어떤 결과가 있을지는 확인을 해보아야 겠습니다.\\n    \\n    \\n    \\u200b\\n    \\n    \\n    기업이 타 경쟁사보다 불리한 내용이 있으면 굳이 표시를 하지 않아도 상관은 없습니다.\\n    \\n    \\n    그러나 소비자의 선택을 위한 가이드와 안전을 이유로 가정용 선반랙의 경우는 철재의 두께와 무게는 의무적으로 표시하도록 제도화 해야한다고 저는 생각하면서 정부에게 건의 드리고 싶습니다. \\n    \\n    \\n    \\u200b\\n    \\n    \\n    \\u200b\\n    \\n    \\n   \\n   \\n    \\n     \\n        \\n     \\n    \\n   \\n  \\n\\n\\t\\t\\t\\n\\t\\t\\n\\t\\t\\n\\t\\t\\n\\n\\t\\t\\n\\n\\t\\t\\n\\t\\t\\r\\n\\r\\n\\r\\n\\r\\n\\r\\n\\r\\n\\r\\n\\n\\t\\t\\n\\n\\t\\t\\n\\t\\t\\r\\n\\r\\n\\r\\n\\r\\n\\r\\n\\r\\n\\r\\n\\n\\t\\t\\n\\t'"
      ]
     },
     "execution_count": 10,
     "metadata": {},
     "output_type": "execute_result"
    }
   ],
   "source": [
    "content.text_content()"
   ]
  },
  {
   "cell_type": "markdown",
   "metadata": {
    "slideshow": {
     "slide_type": "subslide"
    }
   },
   "source": [
    "## 정규표현식으로 공백지우기\n",
    "\n",
    "- `\\n`, `\\t`는 엔터와 탭을 나타냄. \n",
    "- 공백문자는 택스트 분석에서 무시되므로 굳이 지울 필요는 없음\n",
    "- 깔끔하게 처리하고 싶으면\n",
    "- 불필요한 공백을 지우려면 다음과 같이 정규표현식 사용"
   ]
  },
  {
   "cell_type": "code",
   "execution_count": 11,
   "metadata": {
    "slideshow": {
     "slide_type": "fragment"
    }
   },
   "outputs": [],
   "source": [
    "import re"
   ]
  },
  {
   "cell_type": "code",
   "execution_count": 12,
   "metadata": {
    "slideshow": {
     "slide_type": "fragment"
    }
   },
   "outputs": [
    {
     "data": {
      "text/plain": [
       "' 지난 영진산업 스피드랙 체인지업에 이어 이번에는 상도가구 몬스터랙을 검증해 보기로 하였습니다. 일단 저는 1차 검증의 내용부터 밝혀보겠습니다. http://www.sangdogagu.co.kr/shop/shopdetail.html?branduid=971834&xcode=073&mcode=005&scode=001&type=Y&sort=manual&cur_code=073005&GfDT=bm51W1o%3D 상도가구 가구의 모든것 상도가구,대량구매,사무용가구 <=\"www.sangdogagu.co.kr<\" p=\"p\" style=\"overflow:hidden;color:rgb(0, 168, 50);white-space:nowrap;word-break:break-all;font-size:13px;margin-top:9px;text-overflow:ellipsis\"> 상도가구 쇼핑몰 게시정보 상도가구 쇼핑몰 표시 검증결과 비고 규격 180 x 80 x 40 (cm) 180.5 x 80 x40.2 (cm) 연결 브라켓과의 간섭으로 인한 차이가 있는 것으로 판단 됨 구성품 기둥 45cm 16개 / 기둥연결 브라켓 12개 / 가로받침 80cm 8개 / 가로 하프받침 80cm 5개 / 깊이받침 40cm 8개 선반 (80*40cm) 4개 / 안전좌(고무받침) 4개 이상없음 전용망치 포함 소재 초강력 강철프레임 철재이나 초강력인지는 차후 검증 프레임 두께 미표기 1~1.1mm 전체 검증제품 중 가장 두께 얇음 / 중량과 비례 도막두께 미표기 0.1~0.15mm(SNG) 블랙도장의 경우 매트블랙이 아닌 막도장 느낌이 듬 철재중량 프레임과 연결바 (합판은 제외) 미표기 10.24Kg 전체 검증제품 중 가장 중량이 적음 제조국 중국 상품포장 및 구성 상도가구 몬스터랙은 통프레임 방식이 아닌 4단 연결구조 프레임 방식으로 합판선반과 함께 포장되어 배송되기 때문에 각각 분리되 배송되는 통프레임 방식의 제품들보다 편리합니다. 포장상태도 양호해 보였으나 연결부속은 눌려서 문제가 있었습니다. 박스의 파손에 문제가 없었던 것으로 보아 국내 배송과정에서 발생한 문제는 아닌 것 같았습니다. 몬스터랙 실조립영상 검증 마케터 https://youtu.be/PU2j7MGheBM 조립소요시간 약 21분 단별조립 난이도 중하 특이사항 4단 체결 프레임 방식 다소 흔들림 있음 조립과정 후 특이사항 앞서 스피드랙 체인지업에서 설명한 바와 같이 몬스터랙도 6개의 상품중 가장 큰 빈공간이 있었습니다. 내구성과 완성도에 영향을 줄 수 있는 부분이기도 합니다. 공간이 적을 수록 수납되는 무게를 좀 더 고르게 분산 시킬 수 있습니다. 1차 조립 및 검증결과 검증마케터 상도가구의 몬스터랙을 검증하면서 상도가구가 일부러 표시하지 않은 정보가 있음을 확인하였습니다. 1. 프레임 철재 두께 누락 실제 몬스터랙(4단 기준)의 철재중량을 측정해 보니 10Kg 초반대라서 사실 놀랐습니다. 스피드랙의 체인지업이 11Kg 초반대인데 많이 불안정 했는데 몬스터랙도 그러지는 않을까 걱정이 되었습니다. 그러나 스피드랙 체인지업은 얇은 철판(0.8mm)을 접어서 체결 부위를 숨긴형태 이나 몬스터랙은 일반적인 랙과 동일한 구조이지만 프레임 체결방식은 스피드랙과 같아도 좀 더 안정감이 있었습니다. 하지만, 몬스터랙 플러스는 스피드랙의 체인지업과 동일한 디자인과 조립방식을 하고 있습니다. 따라서 몬스터랙 플러스도 불안정한 건 마찬가지일 것으로 생각되나 이후에 검증해 보려고 합니다. 비교검증한 가정용 선반랙들은 판매 사이트에서 철재 프레임에 대해 명시하고 있어 소비자들이 좀 더 내구성 있는 제품이라는 것에 대한 판단을 하는 중요한 수치가 됩니다만 상도가구에서는 두께에 대한 내용을 표시하지 않고 \\'초강력 강철프레임\\'으로만 소개하고 있습니다. 다른 선반랙들과 수치상 비교를 피하기 위하여 의도적으로 철재 두께를 표시하지 않은 것으로 생각됩니다. 상도가구에서도 소비자의 객관적으로 선택할 수 있게끔 철판에 대한 수치를 게시하여 주시기 바랍니다. 2. 선반의 친환경 등급 누락 합판 선반의 경우 타 업체들의 선반보다 품질이 뛰어나다고 판단되었습니다. 고급스럽고 더 튼튼한 느낌을 받았습니다. 하지만, 타 업체에서는 친환경 E1등급이라고 표시하였는데 몬스터랙은 확인하기 어려웠습니다. 이부분도 제조국이 중국이라 국내 실정에 맞게 하지 못하는 이유가 있어 게시하지 않은 것으로 보입니다. 결론 제일 먼저 검증한 스피드랙 체인지업과 유사한 조립방식의 4프레임 연결구조 임에도 체인지업 보다는 안정감이 있었으나 철제의 중량이 적고 선반 모서리 마다 공간이 큼으로 인해 표시한 적정 하중을 견디어 줄지는 아직 알 수가 없습니다. 이부분은 모든 제품의 조립 및 1차검증이 완료된 후 모든 브랜드의 랙을 가혹하게 테스트 할 예정입니다. 블랙도장은 사실 일반적인 매트하거나 유광이 있는 블랙과 달리 좀 저렴한 막도장 같은 느낌을 지울 수 없습니다. 제조국이 중국이라는 선입견을 버리기 어려운 것도 사실 이부분 입니다. 철재중량이 가장적고 두께도 가장 얇지만 그에 비해 튼튼하게 느껴지는 건 몬스터랙의 큰 장점입니다. 다만, 그것이 단지 제 개인적인 느낌일 뿐이고 실제로 여러 테스트를 하였을때 어떤 결과가 있을지는 확인을 해보아야 겠습니다. 기업이 타 경쟁사보다 불리한 내용이 있으면 굳이 표시를 하지 않아도 상관은 없습니다. 그러나 소비자의 선택을 위한 가이드와 안전을 이유로 가정용 선반랙의 경우는 철재의 두께와 무게는 의무적으로 표시하도록 제도화 해야한다고 저는 생각하면서 정부에게 건의 드리고 싶습니다. '"
      ]
     },
     "execution_count": 12,
     "metadata": {},
     "output_type": "execute_result"
    }
   ],
   "source": [
    "re.sub('[\\s\\u200b]+', ' ', content.text_content())"
   ]
  },
  {
   "cell_type": "markdown",
   "metadata": {
    "slideshow": {
     "slide_type": "subslide"
    }
   },
   "source": [
    "## 정규표현식 설명\n",
    "\n",
    "- 정규표현식에서 `[]`는 교체할 글자 범위\n",
    "- `\\s`는 일반적 공백\n",
    "- `\\u200b는 유니코드의 `200B` 폭없는 공백 문자\n",
    "- 끝의 +는 1개 이상이라는 뜻\n",
    "- `[\\s\\u200b]+` '공백과 폭 없는 공백문자가 1개 이상 반복되는 경우'"
   ]
  },
  {
   "cell_type": "markdown",
   "metadata": {
    "slideshow": {
     "slide_type": "slide"
    }
   },
   "source": [
    "## 회원 전용 게시판\n",
    "\n",
    "- 모바일 버전으로 접속\n",
    "- 우상단 ☰ 버튼 클릭 후 아래쪽에서 찾음\n",
    "\n",
    "https://m.cafe.naver.com/ArticleList.nhn?search.clubid=19773565&search.menuid=98&search.boardtype=L\n",
    "\n",
    "- 대부분 게시물이 회원만 볼 수 있음\n",
    "\n",
    "https://m.cafe.naver.com/ArticleRead.nhn?clubid=19773565&articleid=82659&page=1&boardtype=L&menuid=98"
   ]
  },
  {
   "cell_type": "markdown",
   "metadata": {
    "slideshow": {
     "slide_type": "subslide"
    }
   },
   "source": [
    "## 회원 전용 게시판 스크랩"
   ]
  },
  {
   "cell_type": "code",
   "execution_count": 13,
   "metadata": {
    "slideshow": {
     "slide_type": "fragment"
    }
   },
   "outputs": [],
   "source": [
    "article_url = 'https://m.cafe.naver.com/ArticleRead.nhn?clubid=19773565&articleid=82659&page=1&boardtype=L&menuid=98'"
   ]
  },
  {
   "cell_type": "code",
   "execution_count": 14,
   "metadata": {
    "slideshow": {
     "slide_type": "fragment"
    }
   },
   "outputs": [],
   "source": [
    "res = requests.get(article_url)"
   ]
  },
  {
   "cell_type": "code",
   "execution_count": 15,
   "metadata": {
    "slideshow": {
     "slide_type": "fragment"
    }
   },
   "outputs": [],
   "source": [
    "root = lxml.html.fromstring(res.text)"
   ]
  },
  {
   "cell_type": "markdown",
   "metadata": {
    "slideshow": {
     "slide_type": "fragment"
    }
   },
   "source": [
    "본문을 읽을 수 없음"
   ]
  },
  {
   "cell_type": "code",
   "execution_count": 16,
   "metadata": {
    "slideshow": {
     "slide_type": "fragment"
    }
   },
   "outputs": [
    {
     "data": {
      "text/plain": [
       "[]"
      ]
     },
     "execution_count": 16,
     "metadata": {},
     "output_type": "execute_result"
    }
   ],
   "source": [
    "root.cssselect('#postContent')"
   ]
  },
  {
   "cell_type": "markdown",
   "metadata": {
    "slideshow": {
     "slide_type": "slide"
    }
   },
   "source": [
    "## 리퍼러 바꾸기\n",
    "\n",
    "- 대부분 네이버 카페 게시물은 검색을 통해서 들어가면 게시물을 볼 수 있음\n",
    "- 마치 검색을 거쳐온 것처럼 하면 회원 전용 게시물도 열람 가능\n",
    "- 리퍼러(referer): 거쳐온 주소"
   ]
  },
  {
   "cell_type": "code",
   "execution_count": 17,
   "metadata": {
    "slideshow": {
     "slide_type": "fragment"
    }
   },
   "outputs": [],
   "source": [
    "search_url = 'https://search.naver.com/search.naver?sm=top_hty&fbm=1&ie=utf8&query=1'"
   ]
  },
  {
   "cell_type": "code",
   "execution_count": 18,
   "metadata": {
    "slideshow": {
     "slide_type": "fragment"
    }
   },
   "outputs": [],
   "source": [
    "res = requests.get(article_url, headers={'Referer': search_url})"
   ]
  },
  {
   "cell_type": "code",
   "execution_count": 19,
   "metadata": {
    "slideshow": {
     "slide_type": "fragment"
    }
   },
   "outputs": [],
   "source": [
    "root = lxml.html.fromstring(res.text)"
   ]
  },
  {
   "cell_type": "markdown",
   "metadata": {
    "slideshow": {
     "slide_type": "fragment"
    }
   },
   "source": [
    "본문 영역이 선택됨"
   ]
  },
  {
   "cell_type": "code",
   "execution_count": 20,
   "metadata": {
    "slideshow": {
     "slide_type": "fragment"
    }
   },
   "outputs": [
    {
     "data": {
      "text/plain": [
       "[<Element div at 0x1ae56642318>]"
      ]
     },
     "execution_count": 20,
     "metadata": {},
     "output_type": "execute_result"
    }
   ],
   "source": [
    "root.cssselect('#postContent')"
   ]
  },
  {
   "cell_type": "markdown",
   "metadata": {
    "slideshow": {
     "slide_type": "slide"
    }
   },
   "source": [
    "## 유저 에이전트\n",
    "\n",
    "- HTTP에서는 헤더(headers)에 추가 정보를 전달\n",
    "- 리퍼러 이외에 자주 쓰이는 것이 유저 에이전트\n",
    "- 유저 에이전트(User-Agent): 사용자의 대리인, 즉 웹 브라우저\n",
    "- 웹 스크래핑을 방지하는 용도로 웹 브라우저의 종류를 확인\n"
   ]
  },
  {
   "cell_type": "code",
   "execution_count": 21,
   "metadata": {
    "slideshow": {
     "slide_type": "fragment"
    }
   },
   "outputs": [
    {
     "data": {
      "text/plain": [
       "<Response [403]>"
      ]
     },
     "execution_count": 21,
     "metadata": {},
     "output_type": "execute_result"
    }
   ],
   "source": [
    "requests.get('http://onoffmix.com')"
   ]
  },
  {
   "cell_type": "markdown",
   "metadata": {
    "slideshow": {
     "slide_type": "subslide"
    }
   },
   "source": [
    "## 자신의 유저 에이전트 확인하기\n",
    "\n",
    "구글에서 `my user agent`로 검색하면 다음과 같이 유저 에이전트 정보를 알려줌\n",
    "\n",
    "```\n",
    "Mozilla/5.0 (Windows NT 10.0; Win64; x64; rv:65.0) Gecko/20100101 Firefox/65.0\n",
    "```"
   ]
  },
  {
   "cell_type": "markdown",
   "metadata": {
    "slideshow": {
     "slide_type": "subslide"
    }
   },
   "source": [
    "## 유저 에이전트 바꾸기"
   ]
  },
  {
   "cell_type": "code",
   "execution_count": 23,
   "metadata": {
    "slideshow": {
     "slide_type": "fragment"
    }
   },
   "outputs": [
    {
     "data": {
      "text/plain": [
       "<Response [200]>"
      ]
     },
     "execution_count": 23,
     "metadata": {},
     "output_type": "execute_result"
    }
   ],
   "source": [
    "ua = 'Mozilla/5.0 (Windows NT 10.0; Win64; x64) AppleWebKit/537.36 (KHTML, like Gecko) Chrome/73.0.3683.86 Safari/537.36'\n",
    "requests.get(article_url, headers={'User-Agent': ua})"
   ]
  },
  {
   "cell_type": "markdown",
   "metadata": {
    "slideshow": {
     "slide_type": "slide"
    }
   },
   "source": [
    "## 헤더 정보를 언제 어떻게 바꿔야 하나?\n",
    "\n",
    "- 접근하는 방법에 따라 접속이 차단되는 경우: 리퍼러\n",
    "- 브라우저로는 되는데 Python에서 안되는 경우: 유저 에이전트"
   ]
  },
  {
   "cell_type": "markdown",
   "metadata": {
    "slideshow": {
     "slide_type": "slide"
    }
   },
   "source": [
    "## 한글이 깨지는 경우\n",
    "\n",
    "대법원 홈페이지에 접속하면 한글이 깨져보인다"
   ]
  },
  {
   "cell_type": "code",
   "execution_count": 24,
   "metadata": {
    "slideshow": {
     "slide_type": "fragment"
    }
   },
   "outputs": [],
   "source": [
    "res = requests.get('http://scourt.go.kr/scourt/index.html')"
   ]
  },
  {
   "cell_type": "code",
   "execution_count": 25,
   "metadata": {
    "slideshow": {
     "slide_type": "fragment"
    }
   },
   "outputs": [],
   "source": [
    "root = lxml.html.fromstring(res.text)"
   ]
  },
  {
   "cell_type": "code",
   "execution_count": 26,
   "metadata": {
    "slideshow": {
     "slide_type": "fragment"
    }
   },
   "outputs": [
    {
     "data": {
      "text/plain": [
       "'´ëÇÑ¹Î±¹ ¹ý¿ø'"
      ]
     },
     "execution_count": 26,
     "metadata": {},
     "output_type": "execute_result"
    }
   ],
   "source": [
    "root.cssselect('title')[0].text_content()"
   ]
  },
  {
   "cell_type": "markdown",
   "metadata": {
    "slideshow": {
     "slide_type": "slide"
    }
   },
   "source": [
    "## 한글 인코딩\n",
    "\n",
    "- 컴퓨터는 모든 것을 수(number)로 다룸\n",
    "- 한글 인코딩: 한글을 수로 나타내는 방법\n",
    "- 현재 국내에서 흔히 사용되는 인코딩은 2가지\n",
    "  - UTF-8: 유니코드라는 국제 표준의 한 형식\n",
    "  - EUC-KR: 완성형 국내 표준"
   ]
  },
  {
   "cell_type": "markdown",
   "metadata": {
    "slideshow": {
     "slide_type": "subslide"
    }
   },
   "source": [
    "## requests의 인코딩 처리\n",
    "\n",
    "- 인코딩을 자동 인식하나 가끔 부정확\n",
    "- 대법원 사이트의 경우 EUC-KR을 ISO-8859-1로 오인식\n",
    "- ISO-8859-1은 서유럽 언어를 위한 유니코드 이전 국제표준(Latin-1)"
   ]
  },
  {
   "cell_type": "code",
   "execution_count": 27,
   "metadata": {
    "slideshow": {
     "slide_type": "fragment"
    }
   },
   "outputs": [
    {
     "data": {
      "text/plain": [
       "'ISO-8859-1'"
      ]
     },
     "execution_count": 27,
     "metadata": {},
     "output_type": "execute_result"
    }
   ],
   "source": [
    "res.encoding"
   ]
  },
  {
   "cell_type": "markdown",
   "metadata": {
    "slideshow": {
     "slide_type": "subslide"
    }
   },
   "source": [
    "## 인코딩 바꾸기\n",
    "\n",
    "- 인코딩 값을 바꿔주면 됨\n",
    "- 국내 사이트의 경우 `euc-kr`과 `utf8` 둘 중에 하나이므로 하나씩 시도"
   ]
  },
  {
   "cell_type": "code",
   "execution_count": 34,
   "metadata": {
    "slideshow": {
     "slide_type": "fragment"
    }
   },
   "outputs": [],
   "source": [
    "res.encoding = 'euc-kr'"
   ]
  },
  {
   "cell_type": "markdown",
   "metadata": {
    "slideshow": {
     "slide_type": "fragment"
    }
   },
   "source": [
    "다시 처리해보면"
   ]
  },
  {
   "cell_type": "code",
   "execution_count": 35,
   "metadata": {
    "slideshow": {
     "slide_type": "fragment"
    }
   },
   "outputs": [],
   "source": [
    "root = lxml.html.fromstring(res.text)"
   ]
  },
  {
   "cell_type": "code",
   "execution_count": 36,
   "metadata": {
    "slideshow": {
     "slide_type": "fragment"
    }
   },
   "outputs": [
    {
     "data": {
      "text/plain": [
       "'대한민국 법원'"
      ]
     },
     "execution_count": 36,
     "metadata": {},
     "output_type": "execute_result"
    }
   ],
   "source": [
    "root.cssselect('title')[0].text_content()"
   ]
  },
  {
   "cell_type": "code",
   "execution_count": null,
   "metadata": {},
   "outputs": [],
   "source": []
  }
 ],
 "metadata": {
  "celltoolbar": "Slideshow",
  "kernelspec": {
   "display_name": "Python 3",
   "language": "python",
   "name": "python3"
  },
  "language_info": {
   "codemirror_mode": {
    "name": "ipython",
    "version": 3
   },
   "file_extension": ".py",
   "mimetype": "text/x-python",
   "name": "python",
   "nbconvert_exporter": "python",
   "pygments_lexer": "ipython3",
   "version": "3.6.4"
  }
 },
 "nbformat": 4,
 "nbformat_minor": 2
}
