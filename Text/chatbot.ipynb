{
 "cells": [
  {
   "cell_type": "markdown",
   "metadata": {},
   "source": [
    "# 챗봇"
   ]
  },
  {
   "cell_type": "markdown",
   "metadata": {},
   "source": [
    "## 예제 데이터"
   ]
  },
  {
   "cell_type": "code",
   "execution_count": 38,
   "metadata": {},
   "outputs": [],
   "source": [
    "import csv"
   ]
  },
  {
   "cell_type": "code",
   "execution_count": 39,
   "metadata": {},
   "outputs": [],
   "source": [
    "texts = []\n",
    "codes = []\n",
    "intents = []\n",
    "with open('chatbot.csv', encoding='utf8') as f:\n",
    "    for char, code in csv.reader(f):\n",
    "        if char == '@':\n",
    "            texts.append([])\n",
    "            codes.append([])\n",
    "            intents.append(code)\n",
    "        else:\n",
    "            texts[-1].append(char if char else ' ')\n",
    "            codes[-1].append(code)"
   ]
  },
  {
   "cell_type": "markdown",
   "metadata": {},
   "source": [
    "## 발화 텍스트 처리"
   ]
  },
  {
   "cell_type": "code",
   "execution_count": 40,
   "metadata": {},
   "outputs": [],
   "source": [
    "texts = [''.join(text) for text in texts]"
   ]
  },
  {
   "cell_type": "code",
   "execution_count": 41,
   "metadata": {},
   "outputs": [
    {
     "data": {
      "text/plain": [
       "['치킨 한 마리 주세요', '콜라 한 병 주세요', '아까시킨치킨취소', '콜라는 됐어요']"
      ]
     },
     "execution_count": 41,
     "metadata": {},
     "output_type": "execute_result"
    }
   ],
   "source": [
    "texts"
   ]
  },
  {
   "cell_type": "markdown",
   "metadata": {},
   "source": [
    "### 글자에 번호를 부여"
   ]
  },
  {
   "cell_type": "code",
   "execution_count": 42,
   "metadata": {},
   "outputs": [],
   "source": [
    "from tensorflow.keras.preprocessing.text import Tokenizer"
   ]
  },
  {
   "cell_type": "code",
   "execution_count": 43,
   "metadata": {},
   "outputs": [],
   "source": [
    "# char_level=True 글자를 번호로\n",
    "# oov - out of voca 없는 어휘는 @로 처리\n",
    "tok = Tokenizer(char_level=True, oov_token='@')"
   ]
  },
  {
   "cell_type": "code",
   "execution_count": 44,
   "metadata": {},
   "outputs": [],
   "source": [
    "# 글자에 번호 세팅\n",
    "tok.fit_on_texts(texts)"
   ]
  },
  {
   "cell_type": "code",
   "execution_count": 45,
   "metadata": {},
   "outputs": [
    {
     "data": {
      "text/plain": [
       "{1: '@',\n",
       " 2: ' ',\n",
       " 3: '킨',\n",
       " 4: '요',\n",
       " 5: '치',\n",
       " 6: '한',\n",
       " 7: '주',\n",
       " 8: '세',\n",
       " 9: '콜',\n",
       " 10: '라',\n",
       " 11: '마',\n",
       " 12: '리',\n",
       " 13: '병',\n",
       " 14: '아',\n",
       " 15: '까',\n",
       " 16: '시',\n",
       " 17: '취',\n",
       " 18: '소',\n",
       " 19: '는',\n",
       " 20: '됐',\n",
       " 21: '어'}"
      ]
     },
     "execution_count": 45,
     "metadata": {},
     "output_type": "execute_result"
    }
   ],
   "source": [
    "tok.index_word"
   ]
  },
  {
   "cell_type": "markdown",
   "metadata": {},
   "source": [
    "### 문자열을 수열로 변환"
   ]
  },
  {
   "cell_type": "code",
   "execution_count": 46,
   "metadata": {},
   "outputs": [],
   "source": [
    "char_seq = tok.texts_to_sequences(texts)"
   ]
  },
  {
   "cell_type": "code",
   "execution_count": 47,
   "metadata": {},
   "outputs": [
    {
     "data": {
      "text/plain": [
       "[[5, 3, 2, 6, 2, 11, 12, 2, 7, 8, 4],\n",
       " [9, 10, 2, 6, 2, 13, 2, 7, 8, 4],\n",
       " [14, 15, 16, 3, 5, 3, 17, 18],\n",
       " [9, 10, 19, 2, 20, 21, 4]]"
      ]
     },
     "execution_count": 47,
     "metadata": {},
     "output_type": "execute_result"
    }
   ],
   "source": [
    "char_seq"
   ]
  },
  {
   "cell_type": "markdown",
   "metadata": {},
   "source": [
    "### 패딩"
   ]
  },
  {
   "cell_type": "code",
   "execution_count": 48,
   "metadata": {},
   "outputs": [],
   "source": [
    "# 0을 채워서 문장들간의 길이를 맞춰줌. \n",
    "from tensorflow.keras.preprocessing.sequence import pad_sequences"
   ]
  },
  {
   "cell_type": "code",
   "execution_count": 49,
   "metadata": {},
   "outputs": [],
   "source": [
    "x = pad_sequences(char_seq)"
   ]
  },
  {
   "cell_type": "code",
   "execution_count": 50,
   "metadata": {},
   "outputs": [
    {
     "data": {
      "text/plain": [
       "array([[ 5,  3,  2,  6,  2, 11, 12,  2,  7,  8,  4],\n",
       "       [ 0,  9, 10,  2,  6,  2, 13,  2,  7,  8,  4],\n",
       "       [ 0,  0,  0, 14, 15, 16,  3,  5,  3, 17, 18],\n",
       "       [ 0,  0,  0,  0,  9, 10, 19,  2, 20, 21,  4]])"
      ]
     },
     "execution_count": 50,
     "metadata": {},
     "output_type": "execute_result"
    }
   ],
   "source": [
    "x"
   ]
  },
  {
   "cell_type": "markdown",
   "metadata": {},
   "source": [
    "## 인텐트 데이터 처리"
   ]
  },
  {
   "cell_type": "code",
   "execution_count": 51,
   "metadata": {},
   "outputs": [
    {
     "data": {
      "text/plain": [
       "['ORDER', 'ORDER', 'CANCEL', 'CANCEL']"
      ]
     },
     "execution_count": 51,
     "metadata": {},
     "output_type": "execute_result"
    }
   ],
   "source": [
    "intents"
   ]
  },
  {
   "cell_type": "code",
   "execution_count": 52,
   "metadata": {},
   "outputs": [],
   "source": [
    "intent_index = {'ORDER': 0, 'CANCEL': 1}"
   ]
  },
  {
   "cell_type": "code",
   "execution_count": 53,
   "metadata": {},
   "outputs": [],
   "source": [
    "y1 = [intent_index[i] for i in intents]"
   ]
  },
  {
   "cell_type": "code",
   "execution_count": 54,
   "metadata": {},
   "outputs": [
    {
     "data": {
      "text/plain": [
       "[0, 0, 1, 1]"
      ]
     },
     "execution_count": 54,
     "metadata": {},
     "output_type": "execute_result"
    }
   ],
   "source": [
    "y1"
   ]
  },
  {
   "cell_type": "markdown",
   "metadata": {},
   "source": [
    "## 엔티티 데이터 처리"
   ]
  },
  {
   "cell_type": "code",
   "execution_count": 55,
   "metadata": {},
   "outputs": [
    {
     "data": {
      "text/plain": [
       "[['B_MENU', 'I_MENU', 'O', 'B_QTY', 'O', 'O', 'O', 'O', 'O', 'O', 'O'],\n",
       " ['B_MENU', 'I_MENU', 'O', 'B_QTY', 'O', 'O', 'O', 'O', 'O', 'O'],\n",
       " ['O', 'O', 'O', 'O', 'B_MENU', 'I_MENU', 'O', 'O'],\n",
       " ['B_MENU', 'I_MENU', 'O', 'O', 'O', 'O', 'O']]"
      ]
     },
     "execution_count": 55,
     "metadata": {},
     "output_type": "execute_result"
    }
   ],
   "source": [
    "codes"
   ]
  },
  {
   "cell_type": "code",
   "execution_count": 56,
   "metadata": {},
   "outputs": [],
   "source": [
    "# 0번은 패딩용이라서 사용하면 안됨. \n",
    "code_index = {'B_MENU': 1, 'I_MENU': 2, 'B_QTY': 3, 'I_QTY': 4, 'O': 5}"
   ]
  },
  {
   "cell_type": "code",
   "execution_count": 57,
   "metadata": {},
   "outputs": [],
   "source": [
    "code_seq = [[code_index[code] for code in instance] for instance in codes]"
   ]
  },
  {
   "cell_type": "code",
   "execution_count": 58,
   "metadata": {},
   "outputs": [
    {
     "data": {
      "text/plain": [
       "[[1, 2, 5, 3, 5, 5, 5, 5, 5, 5, 5],\n",
       " [1, 2, 5, 3, 5, 5, 5, 5, 5, 5],\n",
       " [5, 5, 5, 5, 1, 2, 5, 5],\n",
       " [1, 2, 5, 5, 5, 5, 5]]"
      ]
     },
     "execution_count": 58,
     "metadata": {},
     "output_type": "execute_result"
    }
   ],
   "source": [
    "code_seq"
   ]
  },
  {
   "cell_type": "code",
   "execution_count": 59,
   "metadata": {},
   "outputs": [],
   "source": [
    "y2 = pad_sequences(code_seq)"
   ]
  },
  {
   "cell_type": "code",
   "execution_count": 60,
   "metadata": {},
   "outputs": [
    {
     "data": {
      "text/plain": [
       "array([[1, 2, 5, 3, 5, 5, 5, 5, 5, 5, 5],\n",
       "       [0, 1, 2, 5, 3, 5, 5, 5, 5, 5, 5],\n",
       "       [0, 0, 0, 5, 5, 5, 5, 1, 2, 5, 5],\n",
       "       [0, 0, 0, 0, 1, 2, 5, 5, 5, 5, 5]])"
      ]
     },
     "execution_count": 60,
     "metadata": {},
     "output_type": "execute_result"
    }
   ],
   "source": [
    "y2"
   ]
  },
  {
   "cell_type": "markdown",
   "metadata": {},
   "source": [
    "## 엔티티 예측 모형"
   ]
  },
  {
   "cell_type": "code",
   "execution_count": 61,
   "metadata": {},
   "outputs": [],
   "source": [
    "from tensorflow.keras.layers import Embedding, LSTM, Dense, TimeDistributed"
   ]
  },
  {
   "cell_type": "code",
   "execution_count": 62,
   "metadata": {},
   "outputs": [],
   "source": [
    "from tensorflow.keras.models import Sequential"
   ]
  },
  {
   "cell_type": "code",
   "execution_count": 63,
   "metadata": {},
   "outputs": [],
   "source": [
    "from tensorflow.keras.optimizers import Adam"
   ]
  },
  {
   "cell_type": "code",
   "execution_count": 64,
   "metadata": {},
   "outputs": [],
   "source": [
    "# 글자수 + 패딩 0\n",
    "NUM_CHAR = len(tok.index_word) + 1\n",
    "NUM_CODE = len(code_index) + 1"
   ]
  },
  {
   "cell_type": "code",
   "execution_count": 65,
   "metadata": {},
   "outputs": [],
   "source": [
    "model = Sequential([\n",
    "    # 인풋 문자를 벡터로 변환. mask_zero=True 0으로 된거는 계산 안하도록. \n",
    "    Embedding(input_dim=NUM_CHAR, output_dim=4, mask_zero=True),\n",
    "    LSTM(4, return_sequences=True),\n",
    "    Dense(NUM_CODE, activation='softmax')\n",
    "])"
   ]
  },
  {
   "cell_type": "code",
   "execution_count": 66,
   "metadata": {},
   "outputs": [
    {
     "name": "stdout",
     "output_type": "stream",
     "text": [
      "_________________________________________________________________\n",
      "Layer (type)                 Output Shape              Param #   \n",
      "=================================================================\n",
      "embedding_2 (Embedding)      (None, None, 4)           88        \n",
      "_________________________________________________________________\n",
      "lstm_2 (LSTM)                (None, None, 4)           144       \n",
      "_________________________________________________________________\n",
      "dense_2 (Dense)              (None, None, 6)           30        \n",
      "=================================================================\n",
      "Total params: 262\n",
      "Trainable params: 262\n",
      "Non-trainable params: 0\n",
      "_________________________________________________________________\n"
     ]
    }
   ],
   "source": [
    "model.summary()"
   ]
  },
  {
   "cell_type": "code",
   "execution_count": 67,
   "metadata": {},
   "outputs": [],
   "source": [
    "model.compile(loss='sparse_categorical_crossentropy', optimizer=Adam(lr=.1))"
   ]
  },
  {
   "cell_type": "code",
   "execution_count": 69,
   "metadata": {},
   "outputs": [
    {
     "name": "stderr",
     "output_type": "stream",
     "text": [
      "C:\\Users\\inyoung\\AppData\\Local\\Continuum\\anaconda3\\lib\\site-packages\\tensorflow\\python\\ops\\gradients_impl.py:112: UserWarning: Converting sparse IndexedSlices to a dense Tensor of unknown shape. This may consume a large amount of memory.\n",
      "  \"Converting sparse IndexedSlices to a dense Tensor of unknown shape. \"\n"
     ]
    },
    {
     "name": "stdout",
     "output_type": "stream",
     "text": [
      "Epoch 1/30\n",
      "4/4 [==============================] - 1s 298ms/step - loss: 1.7973\n",
      "Epoch 2/30\n",
      "4/4 [==============================] - 0s 3ms/step - loss: 1.6321\n",
      "Epoch 3/30\n",
      "4/4 [==============================] - 0s 3ms/step - loss: 1.4438\n",
      "Epoch 4/30\n",
      "4/4 [==============================] - 0s 2ms/step - loss: 1.1992\n",
      "Epoch 5/30\n",
      "4/4 [==============================] - 0s 2ms/step - loss: 0.9914\n",
      "Epoch 6/30\n",
      "4/4 [==============================] - 0s 2ms/step - loss: 0.9213\n",
      "Epoch 7/30\n",
      "4/4 [==============================] - 0s 3ms/step - loss: 0.9248\n",
      "Epoch 8/30\n",
      "4/4 [==============================] - 0s 2ms/step - loss: 0.8925\n",
      "Epoch 9/30\n",
      "4/4 [==============================] - 0s 2ms/step - loss: 0.8290\n",
      "Epoch 10/30\n",
      "4/4 [==============================] - 0s 2ms/step - loss: 0.7602\n",
      "Epoch 11/30\n",
      "4/4 [==============================] - 0s 2ms/step - loss: 0.7064\n",
      "Epoch 12/30\n",
      "4/4 [==============================] - 0s 2ms/step - loss: 0.6712\n",
      "Epoch 13/30\n",
      "4/4 [==============================] - 0s 2ms/step - loss: 0.6478\n",
      "Epoch 14/30\n",
      "4/4 [==============================] - 0s 2ms/step - loss: 0.6269\n",
      "Epoch 15/30\n",
      "4/4 [==============================] - 0s 4ms/step - loss: 0.6033\n",
      "Epoch 16/30\n",
      "4/4 [==============================] - 0s 2ms/step - loss: 0.5795\n",
      "Epoch 17/30\n",
      "4/4 [==============================] - 0s 2ms/step - loss: 0.5536\n",
      "Epoch 18/30\n",
      "4/4 [==============================] - 0s 2ms/step - loss: 0.5278\n",
      "Epoch 19/30\n",
      "4/4 [==============================] - 0s 2ms/step - loss: 0.5069\n",
      "Epoch 20/30\n",
      "4/4 [==============================] - 0s 2ms/step - loss: 0.4875\n",
      "Epoch 21/30\n",
      "4/4 [==============================] - 0s 1ms/step - loss: 0.4698\n",
      "Epoch 22/30\n",
      "4/4 [==============================] - 0s 2ms/step - loss: 0.4533\n",
      "Epoch 23/30\n",
      "4/4 [==============================] - 0s 2ms/step - loss: 0.4376\n",
      "Epoch 24/30\n",
      "4/4 [==============================] - 0s 2ms/step - loss: 0.4219\n",
      "Epoch 25/30\n",
      "4/4 [==============================] - 0s 2ms/step - loss: 0.4059\n",
      "Epoch 26/30\n",
      "4/4 [==============================] - 0s 3ms/step - loss: 0.3897\n",
      "Epoch 27/30\n",
      "4/4 [==============================] - 0s 2ms/step - loss: 0.3761\n",
      "Epoch 28/30\n",
      "4/4 [==============================] - 0s 2ms/step - loss: 0.3625\n",
      "Epoch 29/30\n",
      "4/4 [==============================] - 0s 2ms/step - loss: 0.3501\n",
      "Epoch 30/30\n",
      "4/4 [==============================] - 0s 2ms/step - loss: 0.3378\n"
     ]
    },
    {
     "data": {
      "text/plain": [
       "<tensorflow.python.keras.callbacks.History at 0x21916c4bf28>"
      ]
     },
     "execution_count": 69,
     "metadata": {},
     "output_type": "execute_result"
    }
   ],
   "source": [
    "import numpy\n",
    "model.fit(x, numpy.expand_dims(y2, 2), epochs=30)"
   ]
  },
  {
   "cell_type": "markdown",
   "metadata": {},
   "source": [
    "## 예측"
   ]
  },
  {
   "cell_type": "code",
   "execution_count": 70,
   "metadata": {},
   "outputs": [],
   "source": [
    "index_code = {idx: cd for cd, idx in code_index.items()}"
   ]
  },
  {
   "cell_type": "code",
   "execution_count": 71,
   "metadata": {},
   "outputs": [],
   "source": [
    "p2 = model.predict_classes(x)"
   ]
  },
  {
   "cell_type": "code",
   "execution_count": 72,
   "metadata": {},
   "outputs": [],
   "source": [
    "i = 1"
   ]
  },
  {
   "cell_type": "code",
   "execution_count": 73,
   "metadata": {},
   "outputs": [],
   "source": [
    "text = texts[i]"
   ]
  },
  {
   "cell_type": "code",
   "execution_count": 74,
   "metadata": {},
   "outputs": [],
   "source": [
    "n = len(text)"
   ]
  },
  {
   "cell_type": "code",
   "execution_count": 75,
   "metadata": {},
   "outputs": [
    {
     "data": {
      "text/plain": [
       "[('콜', 'B_MENU'),\n",
       " ('라', 'B_MENU'),\n",
       " (' ', 'O'),\n",
       " ('한', 'O'),\n",
       " (' ', 'O'),\n",
       " ('병', 'O'),\n",
       " (' ', 'O'),\n",
       " ('주', 'O'),\n",
       " ('세', 'O'),\n",
       " ('요', 'O')]"
      ]
     },
     "execution_count": 75,
     "metadata": {},
     "output_type": "execute_result"
    }
   ],
   "source": [
    "list(zip(text, [index_code[i] for i in p2[i][-n:]]))"
   ]
  },
  {
   "cell_type": "code",
   "execution_count": null,
   "metadata": {},
   "outputs": [],
   "source": []
  }
 ],
 "metadata": {
  "kernelspec": {
   "display_name": "Python 3",
   "language": "python",
   "name": "python3"
  },
  "language_info": {
   "codemirror_mode": {
    "name": "ipython",
    "version": 3
   },
   "file_extension": ".py",
   "mimetype": "text/x-python",
   "name": "python",
   "nbconvert_exporter": "python",
   "pygments_lexer": "ipython3",
   "version": "3.6.4"
  }
 },
 "nbformat": 4,
 "nbformat_minor": 2
}
