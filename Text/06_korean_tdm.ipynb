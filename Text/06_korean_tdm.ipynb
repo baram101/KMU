{
 "cells": [
  {
   "cell_type": "markdown",
   "metadata": {
    "slideshow": {
     "slide_type": "subslide"
    }
   },
   "source": [
    "# 한국어 형태소 분석"
   ]
  },
  {
   "cell_type": "markdown",
   "metadata": {
    "slideshow": {
     "slide_type": "subslide"
    }
   },
   "source": [
    "## 학습 목표\n",
    "\n",
    "- 한국어 형태소 분석\n",
    "- Word Piece Model\n",
    "- CountVectorizer에서 tokenizer 수동 설정\n"
   ]
  },
  {
   "cell_type": "markdown",
   "metadata": {
    "slideshow": {
     "slide_type": "slide"
    }
   },
   "source": [
    "## 다음 뉴스\n",
    "\n",
    "### 기사 링크 모으기"
   ]
  },
  {
   "cell_type": "code",
   "execution_count": 1,
   "metadata": {
    "slideshow": {
     "slide_type": "fragment"
    }
   },
   "outputs": [],
   "source": [
    "import requests"
   ]
  },
  {
   "cell_type": "code",
   "execution_count": 2,
   "metadata": {},
   "outputs": [],
   "source": [
    "import lxml.html"
   ]
  },
  {
   "cell_type": "code",
   "execution_count": 3,
   "metadata": {
    "slideshow": {
     "slide_type": "fragment"
    }
   },
   "outputs": [],
   "source": [
    "import tqdm"
   ]
  },
  {
   "cell_type": "code",
   "execution_count": 4,
   "metadata": {
    "slideshow": {
     "slide_type": "fragment"
    }
   },
   "outputs": [],
   "source": [
    "search_url = 'https://search.daum.net/search?nil_suggest=btn&w=news&cluster=y&q=%EC%9D%B8%EA%B3%B5%EC%A7%80%EB%8A%A5&cp=16yGc-mR1Rz5JT4-UZ&cpname=%EC%A0%84%EC%9E%90%EC%8B%A0%EB%AC%B8&DA=PGD&p={}'"
   ]
  },
  {
   "cell_type": "code",
   "execution_count": 5,
   "metadata": {
    "slideshow": {
     "slide_type": "fragment"
    }
   },
   "outputs": [
    {
     "data": {
      "application/vnd.jupyter.widget-view+json": {
       "model_id": "c6229f2e30054054a0e0d362a959a572",
       "version_major": 2,
       "version_minor": 0
      },
      "text/html": [
       "<p>Failed to display Jupyter Widget of type <code>HBox</code>.</p>\n",
       "<p>\n",
       "  If you're reading this message in the Jupyter Notebook or JupyterLab Notebook, it may mean\n",
       "  that the widgets JavaScript is still loading. If this message persists, it\n",
       "  likely means that the widgets JavaScript library is either not installed or\n",
       "  not enabled. See the <a href=\"https://ipywidgets.readthedocs.io/en/stable/user_install.html\">Jupyter\n",
       "  Widgets Documentation</a> for setup instructions.\n",
       "</p>\n",
       "<p>\n",
       "  If you're reading this message in another frontend (for example, a static\n",
       "  rendering on GitHub or <a href=\"https://nbviewer.jupyter.org/\">NBViewer</a>),\n",
       "  it may mean that your frontend doesn't currently support widgets.\n",
       "</p>\n"
      ],
      "text/plain": [
       "HBox(children=(IntProgress(value=0, max=29), HTML(value='')))"
      ]
     },
     "metadata": {},
     "output_type": "display_data"
    },
    {
     "name": "stdout",
     "output_type": "stream",
     "text": [
      "\n"
     ]
    }
   ],
   "source": [
    "urls = []\n",
    "for page in tqdm.tnrange(1, 30):\n",
    "    res = requests.get(search_url.format(page))\n",
    "    root = lxml.html.fromstring(res.text)\n",
    "    for link in root.cssselect('.date a'):\n",
    "        urls.append(link.attrib['href'])"
   ]
  },
  {
   "cell_type": "markdown",
   "metadata": {
    "slideshow": {
     "slide_type": "subslide"
    }
   },
   "source": [
    "### 기사 본문 모으기"
   ]
  },
  {
   "cell_type": "code",
   "execution_count": 6,
   "metadata": {
    "slideshow": {
     "slide_type": "fragment"
    }
   },
   "outputs": [
    {
     "data": {
      "application/vnd.jupyter.widget-view+json": {
       "model_id": "662f21b67a734daaad96545f978cb9c6",
       "version_major": 2,
       "version_minor": 0
      },
      "text/html": [
       "<p>Failed to display Jupyter Widget of type <code>HBox</code>.</p>\n",
       "<p>\n",
       "  If you're reading this message in the Jupyter Notebook or JupyterLab Notebook, it may mean\n",
       "  that the widgets JavaScript is still loading. If this message persists, it\n",
       "  likely means that the widgets JavaScript library is either not installed or\n",
       "  not enabled. See the <a href=\"https://ipywidgets.readthedocs.io/en/stable/user_install.html\">Jupyter\n",
       "  Widgets Documentation</a> for setup instructions.\n",
       "</p>\n",
       "<p>\n",
       "  If you're reading this message in another frontend (for example, a static\n",
       "  rendering on GitHub or <a href=\"https://nbviewer.jupyter.org/\">NBViewer</a>),\n",
       "  it may mean that your frontend doesn't currently support widgets.\n",
       "</p>\n"
      ],
      "text/plain": [
       "HBox(children=(IntProgress(value=0, max=299), HTML(value='')))"
      ]
     },
     "metadata": {},
     "output_type": "display_data"
    },
    {
     "name": "stdout",
     "output_type": "stream",
     "text": [
      "\n"
     ]
    }
   ],
   "source": [
    "articles = []\n",
    "for url in tqdm.tqdm_notebook(urls):\n",
    "    try:\n",
    "        res = requests.get(url, timeout=1)\n",
    "    except requests.Timeout:\n",
    "        continue\n",
    "    root = lxml.html.fromstring(res.text)\n",
    "    content = root.cssselect('.article_view')[0]\n",
    "    article = content.text_content().strip()\n",
    "    articles.append({'url': url, 'article': article})"
   ]
  },
  {
   "cell_type": "markdown",
   "metadata": {
    "slideshow": {
     "slide_type": "subslide"
    }
   },
   "source": [
    "## 파일로 저장"
   ]
  },
  {
   "cell_type": "code",
   "execution_count": 7,
   "metadata": {
    "slideshow": {
     "slide_type": "fragment"
    }
   },
   "outputs": [],
   "source": [
    "import pandas as pd"
   ]
  },
  {
   "cell_type": "code",
   "execution_count": 8,
   "metadata": {
    "slideshow": {
     "slide_type": "fragment"
    }
   },
   "outputs": [],
   "source": [
    "df = pd.DataFrame(articles)"
   ]
  },
  {
   "cell_type": "code",
   "execution_count": 9,
   "metadata": {
    "slideshow": {
     "slide_type": "fragment"
    }
   },
   "outputs": [
    {
     "data": {
      "text/html": [
       "<div>\n",
       "<style scoped>\n",
       "    .dataframe tbody tr th:only-of-type {\n",
       "        vertical-align: middle;\n",
       "    }\n",
       "\n",
       "    .dataframe tbody tr th {\n",
       "        vertical-align: top;\n",
       "    }\n",
       "\n",
       "    .dataframe thead th {\n",
       "        text-align: right;\n",
       "    }\n",
       "</style>\n",
       "<table border=\"1\" class=\"dataframe\">\n",
       "  <thead>\n",
       "    <tr style=\"text-align: right;\">\n",
       "      <th></th>\n",
       "      <th>article</th>\n",
       "      <th>url</th>\n",
       "    </tr>\n",
       "  </thead>\n",
       "  <tbody>\n",
       "    <tr>\n",
       "      <th>0</th>\n",
       "      <td>전자부품연구원(KETI)은 '산업인공지능 전문인력 양성사업' 주관기관으로 선정됐다고...</td>\n",
       "      <td>http://v.media.daum.net/v/20190425110407280</td>\n",
       "    </tr>\n",
       "    <tr>\n",
       "      <th>1</th>\n",
       "      <td>코난테크놀로지는 지난 17일 서울 엘타워에서 사외이사와 임직원 등 관계자 200여 ...</td>\n",
       "      <td>http://v.media.daum.net/v/20190425090103284</td>\n",
       "    </tr>\n",
       "    <tr>\n",
       "      <th>2</th>\n",
       "      <td>서울 영등포구 LG 트윈타워\\n          \\n         \\n      ...</td>\n",
       "      <td>http://v.media.daum.net/v/20190422143106509</td>\n",
       "    </tr>\n",
       "    <tr>\n",
       "      <th>3</th>\n",
       "      <td>영국 정부가 글로벌 기업 인공지능 스피커에 1만2000여건 정보를 개방했다. 컴퓨터...</td>\n",
       "      <td>http://v.media.daum.net/v/20190422135204089</td>\n",
       "    </tr>\n",
       "    <tr>\n",
       "      <th>4</th>\n",
       "      <td>전자신문사와 애자일소다가 공동 주최하는 '인공지능 엔터프라이즈 2019' 콘퍼런스가...</td>\n",
       "      <td>http://v.media.daum.net/v/20190425165410114</td>\n",
       "    </tr>\n",
       "  </tbody>\n",
       "</table>\n",
       "</div>"
      ],
      "text/plain": [
       "                                             article  \\\n",
       "0  전자부품연구원(KETI)은 '산업인공지능 전문인력 양성사업' 주관기관으로 선정됐다고...   \n",
       "1  코난테크놀로지는 지난 17일 서울 엘타워에서 사외이사와 임직원 등 관계자 200여 ...   \n",
       "2  서울 영등포구 LG 트윈타워\\n          \\n         \\n      ...   \n",
       "3  영국 정부가 글로벌 기업 인공지능 스피커에 1만2000여건 정보를 개방했다. 컴퓨터...   \n",
       "4  전자신문사와 애자일소다가 공동 주최하는 '인공지능 엔터프라이즈 2019' 콘퍼런스가...   \n",
       "\n",
       "                                           url  \n",
       "0  http://v.media.daum.net/v/20190425110407280  \n",
       "1  http://v.media.daum.net/v/20190425090103284  \n",
       "2  http://v.media.daum.net/v/20190422143106509  \n",
       "3  http://v.media.daum.net/v/20190422135204089  \n",
       "4  http://v.media.daum.net/v/20190425165410114  "
      ]
     },
     "execution_count": 9,
     "metadata": {},
     "output_type": "execute_result"
    }
   ],
   "source": [
    "df.head()"
   ]
  },
  {
   "cell_type": "code",
   "execution_count": 13,
   "metadata": {
    "slideshow": {
     "slide_type": "fragment"
    }
   },
   "outputs": [],
   "source": [
    "df.to_csv('인공지능.csv')"
   ]
  },
  {
   "cell_type": "markdown",
   "metadata": {
    "slideshow": {
     "slide_type": "subslide"
    }
   },
   "source": [
    "### 파일에서 불러오기"
   ]
  },
  {
   "cell_type": "code",
   "execution_count": 14,
   "metadata": {
    "slideshow": {
     "slide_type": "fragment"
    }
   },
   "outputs": [],
   "source": [
    "df = pd.read_csv('인공지능.csv', engine='python', index_col=0, encoding='utf8')"
   ]
  },
  {
   "cell_type": "markdown",
   "metadata": {
    "slideshow": {
     "slide_type": "subslide"
    }
   },
   "source": [
    "### 본문 보기"
   ]
  },
  {
   "cell_type": "code",
   "execution_count": 10,
   "metadata": {
    "slideshow": {
     "slide_type": "fragment"
    }
   },
   "outputs": [
    {
     "data": {
      "text/plain": [
       "\"전자부품연구원(KETI)은 '산업인공지능 전문인력 양성사업' 주관기관으로 선정됐다고 25일 밝혔다.\\n         산업인공지능은 제조업과 제조 관련 전후방 서비스 산업에 인공지능(AI)을 적용, 제조업 고도화로 부가가치를 창출하는 기술을 일컫는다.\\n         KETI는 포항공대, 고려대와 함께 산업인공지능에 특화된 석·박사 전문인력을 양성하는 프로그램을 운영할 계획이다.\\n         제조현장 문제해결형 교육을 위한 산업데이터 교육 플랫폼 구축, 스마트제조 해커톤 대회 개최, 산업인공지능 교과목 개발 등으로 전문인력을 양성할 방침이다.\\n         사업 총괄책임자인 송병훈 KETI 센터장은 “산업인공지능 인력양성 프로그램은 국내외 기업이 보유한 산업 데이터를 대학과 공유해 제조현장 난제를 해결하는 국내 최초 스마트공장 전문인력 양성코스”라며 “향후 스마트제조혁신 분야를 이끌 인력 양성으로 국내 제조업 경쟁력을 한 단계 끌어올리는데 앞장설 것”이라 밝혔다.\\n         \\n          \\n          \\n           KETI가 운영 중인 경기도 스마트제조혁신센터 내 데모공장(자료: KETI)\\n          \\n         \\n         윤건일 전자/부품 전문기자 benyun@etnews.com\""
      ]
     },
     "execution_count": 10,
     "metadata": {},
     "output_type": "execute_result"
    }
   ],
   "source": [
    "df.loc[0, 'article']"
   ]
  },
  {
   "cell_type": "markdown",
   "metadata": {
    "slideshow": {
     "slide_type": "slide"
    }
   },
   "source": [
    "## KoNLPy 설치"
   ]
  },
  {
   "cell_type": "markdown",
   "metadata": {
    "slideshow": {
     "slide_type": "subslide"
    }
   },
   "source": [
    "### 윈도에서 설치 준비\n",
    "\n",
    "1. Java 설치\n",
    "2. 환경변수 설정\n",
    "3. JPype1 설치"
   ]
  },
  {
   "cell_type": "markdown",
   "metadata": {
    "slideshow": {
     "slide_type": "subslide"
    }
   },
   "source": [
    "#### 자바 설치\n",
    "\n",
    "- 윈도의 경우 시작 버튼을 우클릭 후 '시스템'을 선택\n",
    "- '시스템 종류' 항목에 '64비트'인지 '32비트'인지 확인\n",
    "- http://java.com 접속\n",
    "- 운영체제가 64비트면 64비트 Java다운로드 (32비트면 32비트 Java)\n",
    "- 설치"
   ]
  },
  {
   "cell_type": "markdown",
   "metadata": {
    "slideshow": {
     "slide_type": "subslide"
    }
   },
   "source": [
    "#### 환경변수 설정\n",
    "\n",
    "1. 윈도 시작버튼\n",
    "2. 고급 시스템 설정 검색후 선택\n",
    "3. 고급 선택\n",
    "4. 환경변수 선택\n",
    "5. 시스템 변수나 사용자 변수에서 `JAVA_HOME`을 찾는다. 없으면 새로 만든다.\n",
    "6. `JAVA_HOME`에는 Java가 설치된 위치(예:`C:\\Program Files\\Java\\1.8.0_131`)를 입력\n",
    "\n",
    "Java가 설치된 버전의 마지막 숫자는 버전에 따라 다르므로 확인 필요"
   ]
  },
  {
   "cell_type": "markdown",
   "metadata": {
    "slideshow": {
     "slide_type": "subslide"
    }
   },
   "source": [
    "#### JPype1 설치\n",
    "\n",
    "1. Unofficial Windows Binaries for Python Extension Packages\n",
    "  - https://www.lfd.uci.edu/~gohlke/pythonlibs/#jpype\n",
    "2. 사양에 맞는 파일을 받는다\n",
    "  - `cp36`: 파이썬 3.6\n",
    "  - `cp37`: 파이썬 3.7\n",
    "  - `win32`: 32비트 윈도\n",
    "  - `win_amd64`: 64 비트 윈도\n",
    "3. 다운로드 폴더에서 cmd 창 열기\n",
    "4. `pip install JPype1‑0.6.2‑cp37‑cp37m‑win_amd64.whl`과 같이 다운로드"
   ]
  },
  {
   "cell_type": "markdown",
   "metadata": {
    "slideshow": {
     "slide_type": "subslide"
    }
   },
   "source": [
    "### konlpy 설치"
   ]
  },
  {
   "cell_type": "code",
   "execution_count": 16,
   "metadata": {
    "slideshow": {
     "slide_type": "fragment"
    }
   },
   "outputs": [
    {
     "name": "stdout",
     "output_type": "stream",
     "text": [
      "Requirement already satisfied: konlpy in c:\\users\\inyoung\\appdata\\local\\continuum\\anaconda3\\lib\\site-packages (0.5.1)\n",
      "Requirement already satisfied: JPype1>=0.5.7 in c:\\users\\inyoung\\appdata\\local\\continuum\\anaconda3\\lib\\site-packages (from konlpy) (0.6.3)\n"
     ]
    },
    {
     "name": "stderr",
     "output_type": "stream",
     "text": [
      "You are using pip version 18.1, however version 19.0.3 is available.\n",
      "You should consider upgrading via the 'python -m pip install --upgrade pip' command.\n"
     ]
    }
   ],
   "source": [
    "!pip install konlpy"
   ]
  },
  {
   "cell_type": "markdown",
   "metadata": {
    "slideshow": {
     "slide_type": "slide"
    }
   },
   "source": [
    "## KoNLPy를 이용한 한국어 형태소 분석"
   ]
  },
  {
   "cell_type": "code",
   "execution_count": 11,
   "metadata": {
    "slideshow": {
     "slide_type": "fragment"
    }
   },
   "outputs": [],
   "source": [
    "from konlpy.tag import Okt"
   ]
  },
  {
   "cell_type": "code",
   "execution_count": 12,
   "metadata": {
    "slideshow": {
     "slide_type": "fragment"
    }
   },
   "outputs": [],
   "source": [
    "tagger = Okt()"
   ]
  },
  {
   "cell_type": "code",
   "execution_count": 13,
   "metadata": {
    "slideshow": {
     "slide_type": "fragment"
    }
   },
   "outputs": [
    {
     "data": {
      "text/plain": [
       "[('아버지', 'Noun'),\n",
       " ('가방', 'Noun'),\n",
       " ('에', 'Josa'),\n",
       " ('들어가신다', 'Verb'),\n",
       " ('.', 'Punctuation')]"
      ]
     },
     "execution_count": 13,
     "metadata": {},
     "output_type": "execute_result"
    }
   ],
   "source": [
    "# pos - 품사 분석\n",
    "tagger.pos('아버지가방에들어가신다.')"
   ]
  },
  {
   "cell_type": "code",
   "execution_count": 14,
   "metadata": {
    "slideshow": {
     "slide_type": "fragment"
    }
   },
   "outputs": [
    {
     "data": {
      "text/plain": [
       "['전자부품',\n",
       " '연구원',\n",
       " '은',\n",
       " '산업',\n",
       " '인공',\n",
       " '지능',\n",
       " '전문',\n",
       " '인력',\n",
       " '양성',\n",
       " '사업',\n",
       " '주관',\n",
       " '기관',\n",
       " '선정',\n",
       " '산업',\n",
       " '지능',\n",
       " '제조업',\n",
       " '제조',\n",
       " '관련',\n",
       " '후방',\n",
       " '서비스',\n",
       " '산업',\n",
       " '인공',\n",
       " '지능',\n",
       " '적용',\n",
       " '제조업',\n",
       " '고도화',\n",
       " '부가가치',\n",
       " '창',\n",
       " '출하',\n",
       " '기술',\n",
       " '포항',\n",
       " '공대',\n",
       " '고려대',\n",
       " '산업',\n",
       " '지능',\n",
       " '특화된',\n",
       " '석',\n",
       " '박사',\n",
       " '인력',\n",
       " '양성',\n",
       " '프로그램',\n",
       " '운영',\n",
       " '계획',\n",
       " '제조',\n",
       " '현장',\n",
       " '문제해결',\n",
       " '교육',\n",
       " '위',\n",
       " '산업',\n",
       " '데이터',\n",
       " '교육',\n",
       " '플랫폼',\n",
       " '구축',\n",
       " '스마트',\n",
       " '제조',\n",
       " '해커',\n",
       " '톤',\n",
       " '대회',\n",
       " '개최',\n",
       " '산업',\n",
       " '인공',\n",
       " '지능',\n",
       " '교과목',\n",
       " '개발',\n",
       " '등',\n",
       " '인력',\n",
       " '양성',\n",
       " '방침',\n",
       " '사업',\n",
       " '총괄',\n",
       " '책임자',\n",
       " '송병훈',\n",
       " '센터',\n",
       " '산업',\n",
       " '인공',\n",
       " '지능',\n",
       " '인력',\n",
       " '양성',\n",
       " '프로그램',\n",
       " '국내외',\n",
       " '기업',\n",
       " '보유',\n",
       " '산업',\n",
       " '데이터',\n",
       " '대학',\n",
       " '공유',\n",
       " '제조',\n",
       " '현장',\n",
       " '난제',\n",
       " '해결',\n",
       " '국내',\n",
       " '최초',\n",
       " '스마트',\n",
       " '공장',\n",
       " '전문',\n",
       " '인력',\n",
       " '양성',\n",
       " '코스',\n",
       " '라며',\n",
       " '향후',\n",
       " '스마트',\n",
       " '제조',\n",
       " '혁신',\n",
       " '분야',\n",
       " '인력',\n",
       " '양성',\n",
       " '국내',\n",
       " '제조업',\n",
       " '경쟁력',\n",
       " '단계',\n",
       " '것',\n",
       " '운영',\n",
       " '중인',\n",
       " '경기도',\n",
       " '스마트',\n",
       " '제조',\n",
       " '혁신',\n",
       " '센터',\n",
       " '내',\n",
       " '데모',\n",
       " '공장',\n",
       " '자료',\n",
       " '윤건',\n",
       " '일',\n",
       " '전자',\n",
       " '부품',\n",
       " '전문',\n",
       " '기자']"
      ]
     },
     "execution_count": 14,
     "metadata": {},
     "output_type": "execute_result"
    }
   ],
   "source": [
    "tagger.nouns(df.loc[0, 'article'])"
   ]
  },
  {
   "cell_type": "markdown",
   "metadata": {
    "slideshow": {
     "slide_type": "subslide"
    }
   },
   "source": [
    "### konlpy의 형태소 분석기 종류"
   ]
  },
  {
   "cell_type": "code",
   "execution_count": 15,
   "metadata": {
    "slideshow": {
     "slide_type": "fragment"
    }
   },
   "outputs": [],
   "source": [
    "from konlpy.tag import Kkma, Komoran, Hannanum, Okt"
   ]
  },
  {
   "cell_type": "markdown",
   "metadata": {
    "slideshow": {
     "slide_type": "subslide"
    }
   },
   "source": [
    "### 한나눔\n",
    "\n",
    "KAIST 최기선 교수 연구팀 (1999)"
   ]
  },
  {
   "cell_type": "code",
   "execution_count": 16,
   "metadata": {
    "slideshow": {
     "slide_type": "fragment"
    }
   },
   "outputs": [],
   "source": [
    "from konlpy.tag import Hannanum"
   ]
  },
  {
   "cell_type": "code",
   "execution_count": 17,
   "metadata": {
    "slideshow": {
     "slide_type": "fragment"
    }
   },
   "outputs": [],
   "source": [
    "tag_hnn = Hannanum()"
   ]
  },
  {
   "cell_type": "code",
   "execution_count": 18,
   "metadata": {
    "slideshow": {
     "slide_type": "fragment"
    }
   },
   "outputs": [
    {
     "data": {
      "text/plain": [
       "[('아버지가방', 'N'),\n",
       " ('에', 'J'),\n",
       " ('들', 'P'),\n",
       " ('어', 'E'),\n",
       " ('가', 'P'),\n",
       " ('시ㄴ다', 'E'),\n",
       " ('.', 'S')]"
      ]
     },
     "execution_count": 18,
     "metadata": {},
     "output_type": "execute_result"
    }
   ],
   "source": [
    "tag_hnn.pos('아버지가방에 들어가신다.')"
   ]
  },
  {
   "cell_type": "markdown",
   "metadata": {
    "slideshow": {
     "slide_type": "subslide"
    }
   },
   "source": [
    "### 꼬꼬마\n",
    "\n",
    "서울대 IDS 연구실 (2009)"
   ]
  },
  {
   "cell_type": "code",
   "execution_count": null,
   "metadata": {
    "slideshow": {
     "slide_type": "fragment"
    }
   },
   "outputs": [],
   "source": [
    "from konlpy.tag import Kkma"
   ]
  },
  {
   "cell_type": "code",
   "execution_count": 44,
   "metadata": {
    "slideshow": {
     "slide_type": "fragment"
    }
   },
   "outputs": [],
   "source": [
    "tag_kkm = Kkma()"
   ]
  },
  {
   "cell_type": "code",
   "execution_count": 45,
   "metadata": {
    "slideshow": {
     "slide_type": "fragment"
    }
   },
   "outputs": [
    {
     "data": {
      "text/plain": [
       "[('아버지', 'NNG'),\n",
       " ('가방', 'NNG'),\n",
       " ('에', 'JKM'),\n",
       " ('들어가', 'VV'),\n",
       " ('시', 'EPH'),\n",
       " ('ㄴ다', 'EFN'),\n",
       " ('.', 'SF')]"
      ]
     },
     "execution_count": 45,
     "metadata": {},
     "output_type": "execute_result"
    }
   ],
   "source": [
    "tag_kkm.pos('아버지가방에들어가신다.')"
   ]
  },
  {
   "cell_type": "markdown",
   "metadata": {
    "slideshow": {
     "slide_type": "subslide"
    }
   },
   "source": [
    "### 코모란\n",
    "\n",
    "샤인웨어 (2013)"
   ]
  },
  {
   "cell_type": "code",
   "execution_count": 168,
   "metadata": {
    "slideshow": {
     "slide_type": "fragment"
    }
   },
   "outputs": [],
   "source": [
    "from konlpy.tag import Komoran"
   ]
  },
  {
   "cell_type": "code",
   "execution_count": 169,
   "metadata": {
    "slideshow": {
     "slide_type": "fragment"
    }
   },
   "outputs": [],
   "source": [
    "tag_kmr = Komoran()"
   ]
  },
  {
   "cell_type": "code",
   "execution_count": 43,
   "metadata": {
    "slideshow": {
     "slide_type": "fragment"
    }
   },
   "outputs": [
    {
     "data": {
      "text/plain": [
       "[('아버지', 'NNG'),\n",
       " ('가방', 'NNP'),\n",
       " ('에', 'JKB'),\n",
       " ('들어가', 'VV'),\n",
       " ('시', 'EP'),\n",
       " ('ㄴ다', 'EF'),\n",
       " ('.', 'SF')]"
      ]
     },
     "execution_count": 43,
     "metadata": {},
     "output_type": "execute_result"
    }
   ],
   "source": [
    "tag_kmr.pos('아버지가방에들어가신다.')"
   ]
  },
  {
   "cell_type": "markdown",
   "metadata": {
    "slideshow": {
     "slide_type": "subslide"
    }
   },
   "source": [
    "## Okt\n",
    "\n",
    "트위터 코리아에서 공개"
   ]
  },
  {
   "cell_type": "code",
   "execution_count": 39,
   "metadata": {
    "slideshow": {
     "slide_type": "fragment"
    }
   },
   "outputs": [],
   "source": [
    "from konlpy.tag import Okt"
   ]
  },
  {
   "cell_type": "code",
   "execution_count": 40,
   "metadata": {
    "slideshow": {
     "slide_type": "fragment"
    }
   },
   "outputs": [],
   "source": [
    "tag_okt = Okt()"
   ]
  },
  {
   "cell_type": "code",
   "execution_count": 41,
   "metadata": {
    "slideshow": {
     "slide_type": "fragment"
    }
   },
   "outputs": [
    {
     "data": {
      "text/plain": [
       "[('아버지', 'Noun'),\n",
       " ('가방', 'Noun'),\n",
       " ('에', 'Josa'),\n",
       " ('들어가신다', 'Verb'),\n",
       " ('.', 'Punctuation')]"
      ]
     },
     "execution_count": 41,
     "metadata": {},
     "output_type": "execute_result"
    }
   ],
   "source": [
    "tag_okt.pos('아버지가방에들어가신다.')"
   ]
  },
  {
   "cell_type": "markdown",
   "metadata": {
    "slideshow": {
     "slide_type": "slide"
    }
   },
   "source": [
    "## 형태소 분석의 문제\n",
    "\n",
    "- 신조어\n",
    "- 합성어\n",
    "- 오탈자, 맞춤법"
   ]
  },
  {
   "cell_type": "markdown",
   "metadata": {
    "slideshow": {
     "slide_type": "subslide"
    }
   },
   "source": [
    "### 신조어"
   ]
  },
  {
   "cell_type": "code",
   "execution_count": 60,
   "metadata": {
    "slideshow": {
     "slide_type": "fragment"
    }
   },
   "outputs": [
    {
     "data": {
      "text/plain": [
       "[('최순', 'NNP'),\n",
       " ('실', 'NNP'),\n",
       " ('의', 'JKG'),\n",
       " ('신발', 'NNG'),\n",
       " ('이', 'JKS'),\n",
       " ('벗겨지', 'VV'),\n",
       " ('었', 'EP'),\n",
       " ('다', 'EF'),\n",
       " ('.', 'SF')]"
      ]
     },
     "execution_count": 60,
     "metadata": {},
     "output_type": "execute_result"
    }
   ],
   "source": [
    "tag_kmr.pos('최순실의 신발이 벗겨졌다.')"
   ]
  },
  {
   "cell_type": "markdown",
   "metadata": {
    "slideshow": {
     "slide_type": "subslide"
    }
   },
   "source": [
    "### 합성어"
   ]
  },
  {
   "cell_type": "code",
   "execution_count": 173,
   "metadata": {
    "slideshow": {
     "slide_type": "fragment"
    }
   },
   "outputs": [
    {
     "data": {
      "text/plain": [
       "[('4', 'SN'), ('차', 'NNB'), ('산업', 'NNG'), ('혁명', 'NNP')]"
      ]
     },
     "execution_count": 173,
     "metadata": {},
     "output_type": "execute_result"
    }
   ],
   "source": [
    "tag_kmr.pos('4차 산업혁명')"
   ]
  },
  {
   "cell_type": "markdown",
   "metadata": {
    "slideshow": {
     "slide_type": "subslide"
    }
   },
   "source": [
    "### 오탈자, 맞춤법"
   ]
  },
  {
   "cell_type": "code",
   "execution_count": 59,
   "metadata": {
    "slideshow": {
     "slide_type": "fragment"
    }
   },
   "outputs": [
    {
     "data": {
      "text/plain": [
       "[('몇', 'MM'),\n",
       " ('일', 'NNP'),\n",
       " ('후에', 'NNP'),\n",
       " ('보', 'VX'),\n",
       " ('자', 'EF'),\n",
       " ('.', 'SF')]"
      ]
     },
     "execution_count": 59,
     "metadata": {},
     "output_type": "execute_result"
    }
   ],
   "source": [
    "tag_kmr.pos('몇일후에 보자.')"
   ]
  },
  {
   "cell_type": "markdown",
   "metadata": {
    "slideshow": {
     "slide_type": "slide"
    }
   },
   "source": [
    "## Word Piece Model"
   ]
  },
  {
   "cell_type": "markdown",
   "metadata": {},
   "source": []
  },
  {
   "cell_type": "markdown",
   "metadata": {
    "slideshow": {
     "slide_type": "subslide"
    }
   },
   "source": [
    "### 설치"
   ]
  },
  {
   "cell_type": "code",
   "execution_count": null,
   "metadata": {
    "slideshow": {
     "slide_type": "fragment"
    }
   },
   "outputs": [],
   "source": [
    "!pip install subword-nmt"
   ]
  },
  {
   "cell_type": "markdown",
   "metadata": {
    "slideshow": {
     "slide_type": "subslide"
    }
   },
   "source": [
    "### 학습"
   ]
  },
  {
   "cell_type": "code",
   "execution_count": 17,
   "metadata": {},
   "outputs": [],
   "source": [
    "import io"
   ]
  },
  {
   "cell_type": "code",
   "execution_count": 15,
   "metadata": {
    "slideshow": {
     "slide_type": "fragment"
    }
   },
   "outputs": [],
   "source": [
    "from subword_nmt.learn_bpe import learn_bpe"
   ]
  },
  {
   "cell_type": "code",
   "execution_count": 18,
   "metadata": {
    "slideshow": {
     "slide_type": "fragment"
    }
   },
   "outputs": [],
   "source": [
    "with open('인공지능BPE.txt', 'w', encoding='utf8') as outfile:\n",
    "    infile = io.StringIO(' '.join(df['article']))\n",
    "    learn_bpe(infile, outfile, 1000)"
   ]
  },
  {
   "cell_type": "markdown",
   "metadata": {
    "slideshow": {
     "slide_type": "subslide"
    }
   },
   "source": [
    "### 학습 결과"
   ]
  },
  {
   "cell_type": "code",
   "execution_count": 19,
   "metadata": {
    "slideshow": {
     "slide_type": "fragment"
    }
   },
   "outputs": [
    {
     "name": "stdout",
     "output_type": "stream",
     "text": [
      "#version: 0.2\n",
      "다 .</w>\n",
      "으 로</w>\n",
      "했 다.</w>\n",
      "하 는</w>\n",
      "에 서</w>\n",
      "기 술\n",
      "한 다.</w>\n",
      "인 공\n",
      "인공 지\n",
      "하 고</w>\n",
      "데 이\n",
      "이 다.</w>\n",
      "있 다.</w>\n",
      "서 비\n",
      "A I\n",
      "A I</w>\n",
      "2 0\n",
      "인공지 능\n",
      "기 업\n",
      "서비 스\n",
      "다 ”\n",
      "개 발\n",
      "데이 터\n",
      "연 구\n",
      "정 보\n",
      "인공지 능</w>\n",
      "산 업\n",
      "이 라\n",
      "있 는</w>\n"
     ]
    }
   ],
   "source": [
    "with open('인공지능BPE.txt', encoding='utf8') as f:\n",
    "    for line in f.readlines()[:30]:\n",
    "        print(line, end='')"
   ]
  },
  {
   "cell_type": "markdown",
   "metadata": {
    "slideshow": {
     "slide_type": "subslide"
    }
   },
   "source": [
    "### 적용"
   ]
  },
  {
   "cell_type": "code",
   "execution_count": 20,
   "metadata": {
    "slideshow": {
     "slide_type": "fragment"
    }
   },
   "outputs": [],
   "source": [
    "from subword_nmt.apply_bpe import BPE"
   ]
  },
  {
   "cell_type": "code",
   "execution_count": 21,
   "metadata": {
    "slideshow": {
     "slide_type": "fragment"
    }
   },
   "outputs": [],
   "source": [
    "with open('인공지능BPE.txt', encoding='utf8') as f:\n",
    "    bpe = BPE(f, separator='~')"
   ]
  },
  {
   "cell_type": "code",
   "execution_count": 22,
   "metadata": {
    "slideshow": {
     "slide_type": "fragment"
    }
   },
   "outputs": [
    {
     "data": {
      "text/plain": [
       "'한~ 솔~ 인~ 티~ 큐~ 브~ 의 커~ 뮤~ 니~ 케이~ 션 브~ 랜~ 드 ‘~ 아이~ 작~ ’~ 은 옴~ 니~ 채~ 널~ 과 인공지능(AI) 기술 도입~ 이 어려~ 운 컨~ 택~ 센터~ 를 위한 클라우드 서비스를 선보~ 인~ 다~ .~ \\n 기업~ 들은 빠르게 변화~ 하는 시장 환경 속~ 에서 고객~ 의 니~ 즈~ 를 수~ 용~ 할 수 있는 유~ 연~ 한 플랫폼을 필요~ 로 한다. 과~ 거~ 에는 전~ 화~ 라는 하나~ 의 채~ 널~ 로 모~ 이~ 던 고객~ 의 목~ 소~ 리~ 가 최~ 근~ 에는 웹~ , 모바일 플랫폼 발전~ 에 따라 다양~ 화~ 되고 있다. 다양한 채~ 널~ 은 시대~ 에 따라 새~ 로 추가~ 되~ 기~ 도 하고 사~ 라~ 지~ 기~ 도 한다. 카카오~ 톡~ 이 문~ 자 메~ 시~ 지~ (~ SM~ S~ ) 사용~ 량을 넘~ 어~ 선 것이 대표~ 적인 예~ 이~ 다~ .~ \\n 이~ 렇~ 듯 환경~ 과 고객~ 의 변화~ 는 시간~ 이 갈~ 수~ 록 가~ 속~ 화~ 되고 예측~ 이 불~ 가~ 하다. 앞으로 기업~ 들은 어~ 떻~ 게 이러한 환경~ 에 대응~ 하여 최적~ 의 고객 경험을 제공~ 할 수 있~ 을~ 까~ ?~ \\n 과~ 거~ 와 같~ 이 대~ 규모 투자를 통한 인프~ 라 구축 방식~ 으로는 시장 변~ 화 속~ 도~ 에 따~ 라~ 갈 수 없~ 다. 특히 신~ 기술 도입~ 을 통한 서비스~ 는 론~ 칭 이후 시장~ 의 검~ 증 과정~ 이 필~ 수~ 적~ 이다. 고객~ 의 소~ 리~ 에 따라 서비스를 지속~ 적으로 개선~ 해~ 나가~ 는 과정~ 이 필요~ 하다. AI~ CC~ (~ 인공지능 컨~ 택~ 센터~ )~ 의 경~ 우~ 도 마~ 찬~ 가~ 지~ 이~ 다~ .~ \\n 인공지능 기술이 최근 각~ 광~ 받고 있~ 음~ 에도 불~ 구~ 하고 기업~ 에서는 선~ 뜻 AI~ CC~ 로~ 의 전환~ 을 결정~ 하기~ 가 어~ 렵~ 다. 기술~ 의 장~ 벽~ , 높은 초~ 기 비~ 용~ 은 차~ 치~ 하~ 더~ 라~ 도 그 효과~ 성~ 에 의~ 문~ 을 가~ 지~ 기 때문~ 이~ 다~ .~ \\n 힌~ 솔~ 인~ 티~ 큐~ 브~ 의 아이~ 작~ 이 제~ 안~ 하는 클라우드 솔루션~ 은 최근 가장 화~ 두~ 에 오~ 르~ 는 인공지능~ , 옴~ 니~ 채~ 널~ , 클라우~ 드를 모두 아~ 우~ 른 것이다. 서비스~ 에 단~ 순~ 히 챗봇~ 만~ 을 추가~ 하는 것이 아니라 고객~ 의 다양한 채~ 널~ 에 AI를 접목~ 할 수 있다. 전~ 화 채~ 널~ 과 AI를 결합~ 한 음성 봇~ 은 물~ 론~ , 문~ 자~ , 메~ 신~ 저~ , 카카오~ 톡 등~ 과~ 의 결합~ 한 챗봇~ , 고객~ 의 요~ 청~ 사~ 항 처~ 리를 자동~ 화~ 할 수 있는 RPA 등 AI~ 와 상담~ 원 간 유~ 기~ 적 협~ 업 체~ 제를 구현~ 할 수 있는 솔루션~ 이~ 다~ .~ \\n 또 챗봇~ , 음성 봇~ 을 포함~ 한 AI 상~ 담 봇~ 은 얼~ 마~ 나 정확~ 하고 많은 데이터를 학습~ 하는 가~ 에 따라 서비스~ 의 질~ 이 달~ 라~ 진다. 기업 관~ 점에서 흩~ 어~ 져 있는 고객 상~ 담 채~ 널~ 을 통합~ 해야 하는 이~ 유~ 가 여~ 기에 있~ 다~ .~ \\n 이미 고~ 정~ 형~ (~ s~ i~ l~ o~ 형~ )~ 으로 인프~ 라~ 가 구축~ 돼 있는 대~ 규모 센터~ 는 단~ 기~ 간~ 에 AI 상~ 담 봇~ 을 한~ 꺼~ 번~ 에 적용~ 하기~ 가 어~ 렵~ 다~ .~ \\n 아이~ 작~ 은 클라우드 환경~ 에서 완~ 벽~ 한 옴~ 니~ 채~ 널 환경을 구현~ 함~ 으로~ 써 전체 혹~ 은 일~ 부 고객 서비스~ 에 인공지능 기술과 옴~ 니~ 채~ 널~ 을 접목~ 해~ 볼 수 있다. 고객~ 에 맞는 최적~ 의 서비스 형태~ 를 검~ 증~ 하고, 통~ 합 채~ 널~ 을 통해 기업~ 으로 유~ 입~ 해 오는 고객 데이터를 축~ 적~ 해 보다 향상~ 된 고객 경험을 설계~ 할 수 있~ 다~ .~ \\n 한~ 광~ 신 한~ 솔~ 인~ 티~ 큐~ 브 서비스 사업~ 부 사업~ 부~ 장은 “~ 최적~ 의 고객 경험을 제공~ 하~ 고~ 자 하는 많은 기업~ 들이 옴~ 니~ 채~ 널~ 과 인공지능 기술을 통한 혜~ 택~ 을 얻~ 을 수 있~ 다”며 “~ 아이~ 작~ 은 구축~ 형~ 과 클라우드~ 형~ 으로 선~ 택 적용~ 이 가능~ 하고 이미 구축~ 된 컨~ 택~ 센터 또~ 는 클라우드~ 형 컨~ 택~ 센터~ 와 연~ 계~ 하여 유~ ∙~ 무~ 인 서비스를 동~ 시에 적용~ 할 수 있어 대~ 기업~ 이~ 든 스타트업~ 이~ 든 고객이 필요~ 로 하는 서비스를 보다 쉽게 도입~ 할 수 있도록 지원~ 한~ 다”~ 라고 말~ 했~ 다~ .~ \\n 그는 이어 “~ 올해~ 는 주요 영~ 업~ 처~ 인 기존 대~ 형 보험~ , 카~ 드~ 사를 비롯~ 하여 옴~ 니~ 채~ 널 클라우드 컨~ 택~ 센터~ 를 도입~ 한 스타트업~ 까지 아이~ 작 구축 사례~ 를 기반으로 한 다양한 레~ 퍼런~ 스 확보~ 에 집중~ 할 계획~ ”이라고 올해 영~ 업~ 전략을 소개~ 했~ 다~ .~ \\n 한~ 솔~ 인~ 티~ 큐~ 브~ 는 지난 200~ 3~ 년~ 부터 국내 컨~ 택~ 센터 분야~ 를 리~ 딩~ 하는 토~ 탈 솔루션 프로~ 바이~ 더~ 이다. 주요 사업~ 은 컨~ 택~ 센터~ (~ 인공지능~ , 클라우드 포함~ ) 외 U~ C~ , 모바일 사업을 영~ 위~ 하고 있~ 다~ .~ \\n 한~ 편 한~ 솔~ 인~ 티~ 큐~ 브~ 는 오는 3~ 월 21~ 일 서울 코~ 엑~ 스 그~ 랜~ 드~ 볼~ 룸~ 에서 열~ 리는 ‘~ 인공지능(AI) 차세대 컨~ 택~ 센터 컨~ 퍼런~ 스~ 2019~ ’ 기술 및 솔루션~ 세~ 션~ 에서 ‘~ AI~ C~ C o~ n C~ l~ o~ u~ d~ ’~ 를 주제로 중소~ 규모~ 에서 대~ 기업~ 까지 도입~ 할 수 있는 전략~ 적 AI~ C~ C 도입~ 방안~ 을 발표~ 할 예정~ 이~ 다~ .~ \\n 한~ 솔~ 인~ 티~ 큐~ 브 한~ 광~ 신 사업~ 부~ 장'"
      ]
     },
     "execution_count": 22,
     "metadata": {},
     "output_type": "execute_result"
    }
   ],
   "source": [
    "bpe.process_line(df.loc[0, 'article'])"
   ]
  },
  {
   "cell_type": "markdown",
   "metadata": {
    "slideshow": {
     "slide_type": "slide"
    }
   },
   "source": [
    "## konlpy를 이용한 한국어 TDM"
   ]
  },
  {
   "cell_type": "code",
   "execution_count": 23,
   "metadata": {
    "slideshow": {
     "slide_type": "fragment"
    }
   },
   "outputs": [],
   "source": [
    "from konlpy.tag import Okt"
   ]
  },
  {
   "cell_type": "code",
   "execution_count": 24,
   "metadata": {
    "slideshow": {
     "slide_type": "fragment"
    }
   },
   "outputs": [],
   "source": [
    "tag_okt = Okt()"
   ]
  },
  {
   "cell_type": "code",
   "execution_count": 25,
   "metadata": {
    "slideshow": {
     "slide_type": "fragment"
    }
   },
   "outputs": [],
   "source": [
    "def tokenizer_okt(text):\n",
    "    pos = tag_okt.pos(text)\n",
    "    return [w for w, t in pos if len(w) > 1]"
   ]
  },
  {
   "cell_type": "markdown",
   "metadata": {
    "slideshow": {
     "slide_type": "subslide"
    }
   },
   "source": [
    "### TDM 만들기"
   ]
  },
  {
   "cell_type": "code",
   "execution_count": 26,
   "metadata": {
    "slideshow": {
     "slide_type": "fragment"
    }
   },
   "outputs": [],
   "source": [
    "from sklearn.feature_extraction.text import CountVectorizer"
   ]
  },
  {
   "cell_type": "code",
   "execution_count": 27,
   "metadata": {
    "slideshow": {
     "slide_type": "fragment"
    }
   },
   "outputs": [],
   "source": [
    "cv_okt = CountVectorizer(max_features=1000, tokenizer=tokenizer_okt)"
   ]
  },
  {
   "cell_type": "code",
   "execution_count": 28,
   "metadata": {
    "slideshow": {
     "slide_type": "fragment"
    }
   },
   "outputs": [],
   "source": [
    "tdm_okt = cv_okt.fit_transform(df['article'])"
   ]
  },
  {
   "cell_type": "markdown",
   "metadata": {
    "slideshow": {
     "slide_type": "subslide"
    }
   },
   "source": [
    "### 빈도 표"
   ]
  },
  {
   "cell_type": "code",
   "execution_count": 29,
   "metadata": {
    "slideshow": {
     "slide_type": "fragment"
    }
   },
   "outputs": [
    {
     "name": "stderr",
     "output_type": "stream",
     "text": [
      "C:\\Users\\user\\Anaconda3\\lib\\site-packages\\pandas\\core\\dtypes\\dtypes.py:271: FutureWarning: elementwise comparison failed; returning scalar instead, but in the future will perform elementwise comparison\n",
      "  if string == 'category':\n"
     ]
    }
   ],
   "source": [
    "freq_okt = pd.DataFrame({\n",
    "    'word': cv_okt.get_feature_names(),\n",
    "    'n': tdm_okt.sum(axis=0).flat\n",
    "})"
   ]
  },
  {
   "cell_type": "markdown",
   "metadata": {
    "slideshow": {
     "slide_type": "subslide"
    }
   },
   "source": [
    "### 결과 보기"
   ]
  },
  {
   "cell_type": "code",
   "execution_count": 30,
   "metadata": {
    "slideshow": {
     "slide_type": "fragment"
    }
   },
   "outputs": [
    {
     "data": {
      "text/html": [
       "<div>\n",
       "<style scoped>\n",
       "    .dataframe tbody tr th:only-of-type {\n",
       "        vertical-align: middle;\n",
       "    }\n",
       "\n",
       "    .dataframe tbody tr th {\n",
       "        vertical-align: top;\n",
       "    }\n",
       "\n",
       "    .dataframe thead th {\n",
       "        text-align: right;\n",
       "    }\n",
       "</style>\n",
       "<table border=\"1\" class=\"dataframe\">\n",
       "  <thead>\n",
       "    <tr style=\"text-align: right;\">\n",
       "      <th></th>\n",
       "      <th>word</th>\n",
       "      <th>n</th>\n",
       "    </tr>\n",
       "  </thead>\n",
       "  <tbody>\n",
       "    <tr>\n",
       "      <th>690</th>\n",
       "      <td>있다</td>\n",
       "      <td>749</td>\n",
       "    </tr>\n",
       "    <tr>\n",
       "      <th>668</th>\n",
       "      <td>인공</td>\n",
       "      <td>792</td>\n",
       "    </tr>\n",
       "    <tr>\n",
       "      <th>923</th>\n",
       "      <td>하는</td>\n",
       "      <td>854</td>\n",
       "    </tr>\n",
       "    <tr>\n",
       "      <th>796</th>\n",
       "      <td>지능</td>\n",
       "      <td>858</td>\n",
       "    </tr>\n",
       "    <tr>\n",
       "      <th>559</th>\n",
       "      <td>에서</td>\n",
       "      <td>970</td>\n",
       "    </tr>\n",
       "    <tr>\n",
       "      <th>191</th>\n",
       "      <td>기술</td>\n",
       "      <td>1011</td>\n",
       "    </tr>\n",
       "    <tr>\n",
       "      <th>959</th>\n",
       "      <td>했다</td>\n",
       "      <td>1107</td>\n",
       "    </tr>\n",
       "    <tr>\n",
       "      <th>31</th>\n",
       "      <td>ai</td>\n",
       "      <td>1114</td>\n",
       "    </tr>\n",
       "    <tr>\n",
       "      <th>629</th>\n",
       "      <td>으로</td>\n",
       "      <td>1274</td>\n",
       "    </tr>\n",
       "    <tr>\n",
       "      <th>0</th>\n",
       "      <td>\\n</td>\n",
       "      <td>2228</td>\n",
       "    </tr>\n",
       "  </tbody>\n",
       "</table>\n",
       "</div>"
      ],
      "text/plain": [
       "            word     n\n",
       "690           있다   749\n",
       "668           인공   792\n",
       "923           하는   854\n",
       "796           지능   858\n",
       "559           에서   970\n",
       "191           기술  1011\n",
       "959           했다  1107\n",
       "31            ai  1114\n",
       "629           으로  1274\n",
       "0    \\n           2228"
      ]
     },
     "execution_count": 30,
     "metadata": {},
     "output_type": "execute_result"
    }
   ],
   "source": [
    "freq_okt.sort_values('n').tail(10)"
   ]
  },
  {
   "cell_type": "markdown",
   "metadata": {
    "slideshow": {
     "slide_type": "slide"
    }
   },
   "source": [
    "## WPM을 이용한 한국어 TDM"
   ]
  },
  {
   "cell_type": "code",
   "execution_count": 19,
   "metadata": {
    "slideshow": {
     "slide_type": "fragment"
    }
   },
   "outputs": [],
   "source": [
    "def tokenizer_wpm(text):\n",
    "    tokens = bpe.process_line(text)\n",
    "    tokens = tokens.split()\n",
    "    return [t for t in tokens\n",
    "            if (not t.endswith('~') and len(t) > 1) or len(t) > 2]"
   ]
  },
  {
   "cell_type": "markdown",
   "metadata": {
    "slideshow": {
     "slide_type": "subslide"
    }
   },
   "source": [
    "### TDM 만들기"
   ]
  },
  {
   "cell_type": "code",
   "execution_count": 32,
   "metadata": {
    "slideshow": {
     "slide_type": "fragment"
    }
   },
   "outputs": [],
   "source": [
    "cv_wpm = CountVectorizer(max_features=1000, tokenizer=tokenizer_wpm)"
   ]
  },
  {
   "cell_type": "code",
   "execution_count": 33,
   "metadata": {
    "slideshow": {
     "slide_type": "fragment"
    }
   },
   "outputs": [],
   "source": [
    "tdm_wpm = cv_wpm.fit_transform(df['article'])"
   ]
  },
  {
   "cell_type": "markdown",
   "metadata": {
    "slideshow": {
     "slide_type": "subslide"
    }
   },
   "source": [
    "### 빈도 표"
   ]
  },
  {
   "cell_type": "code",
   "execution_count": 34,
   "metadata": {
    "slideshow": {
     "slide_type": "fragment"
    }
   },
   "outputs": [],
   "source": [
    "freq_wpm = pd.DataFrame({\n",
    "    'word': cv_wpm.get_feature_names(),\n",
    "    'n': tdm_wpm.sum(axis=0).flat\n",
    "})"
   ]
  },
  {
   "cell_type": "markdown",
   "metadata": {
    "slideshow": {
     "slide_type": "subslide"
    }
   },
   "source": [
    "### 결과 보기"
   ]
  },
  {
   "cell_type": "code",
   "execution_count": 35,
   "metadata": {
    "slideshow": {
     "slide_type": "fragment"
    }
   },
   "outputs": [
    {
     "data": {
      "text/html": [
       "<div>\n",
       "<style scoped>\n",
       "    .dataframe tbody tr th:only-of-type {\n",
       "        vertical-align: middle;\n",
       "    }\n",
       "\n",
       "    .dataframe tbody tr th {\n",
       "        vertical-align: top;\n",
       "    }\n",
       "\n",
       "    .dataframe thead th {\n",
       "        text-align: right;\n",
       "    }\n",
       "</style>\n",
       "<table border=\"1\" class=\"dataframe\">\n",
       "  <thead>\n",
       "    <tr style=\"text-align: right;\">\n",
       "      <th></th>\n",
       "      <th>word</th>\n",
       "      <th>n</th>\n",
       "    </tr>\n",
       "  </thead>\n",
       "  <tbody>\n",
       "    <tr>\n",
       "      <th>557</th>\n",
       "      <td>연구~</td>\n",
       "      <td>340</td>\n",
       "    </tr>\n",
       "    <tr>\n",
       "      <th>185</th>\n",
       "      <td>기술~</td>\n",
       "      <td>350</td>\n",
       "    </tr>\n",
       "    <tr>\n",
       "      <th>660</th>\n",
       "      <td>있다.</td>\n",
       "      <td>374</td>\n",
       "    </tr>\n",
       "    <tr>\n",
       "      <th>871</th>\n",
       "      <td>한다.</td>\n",
       "      <td>419</td>\n",
       "    </tr>\n",
       "    <tr>\n",
       "      <th>220</th>\n",
       "      <td>다.</td>\n",
       "      <td>433</td>\n",
       "    </tr>\n",
       "    <tr>\n",
       "      <th>883</th>\n",
       "      <td>했다.</td>\n",
       "      <td>440</td>\n",
       "    </tr>\n",
       "    <tr>\n",
       "      <th>850</th>\n",
       "      <td>하고</td>\n",
       "      <td>708</td>\n",
       "    </tr>\n",
       "    <tr>\n",
       "      <th>600</th>\n",
       "      <td>으로</td>\n",
       "      <td>734</td>\n",
       "    </tr>\n",
       "    <tr>\n",
       "      <th>546</th>\n",
       "      <td>에서</td>\n",
       "      <td>863</td>\n",
       "    </tr>\n",
       "    <tr>\n",
       "      <th>856</th>\n",
       "      <td>하는</td>\n",
       "      <td>912</td>\n",
       "    </tr>\n",
       "  </tbody>\n",
       "</table>\n",
       "</div>"
      ],
      "text/plain": [
       "    word    n\n",
       "557  연구~  340\n",
       "185  기술~  350\n",
       "660  있다.  374\n",
       "871  한다.  419\n",
       "220   다.  433\n",
       "883  했다.  440\n",
       "850   하고  708\n",
       "600   으로  734\n",
       "546   에서  863\n",
       "856   하는  912"
      ]
     },
     "execution_count": 35,
     "metadata": {},
     "output_type": "execute_result"
    }
   ],
   "source": [
    "freq_wpm.sort_values('n').tail(10)"
   ]
  }
 ],
 "metadata": {
  "celltoolbar": "Slideshow",
  "kernelspec": {
   "display_name": "Python 3",
   "language": "python",
   "name": "python3"
  },
  "language_info": {
   "codemirror_mode": {
    "name": "ipython",
    "version": 3
   },
   "file_extension": ".py",
   "mimetype": "text/x-python",
   "name": "python",
   "nbconvert_exporter": "python",
   "pygments_lexer": "ipython3",
   "version": "3.6.4"
  }
 },
 "nbformat": 4,
 "nbformat_minor": 2
}
