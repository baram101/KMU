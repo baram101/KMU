{
 "cells": [
  {
   "cell_type": "markdown",
   "metadata": {
    "slideshow": {
     "slide_type": "slide"
    }
   },
   "source": [
    "# 셀레늄"
   ]
  },
  {
   "cell_type": "markdown",
   "metadata": {
    "slideshow": {
     "slide_type": "subslide"
    }
   },
   "source": [
    "## 학습목표\n",
    "\n",
    "웹브라우저가 필요한 상황에서 셀레늄을 이용해 스크래핑하는 방법을 알아본다"
   ]
  },
  {
   "cell_type": "markdown",
   "metadata": {
    "slideshow": {
     "slide_type": "subslide"
    }
   },
   "source": [
    "## 최근의 웹 트렌드\n",
    "\n",
    "- HTML + 프로그램(JavaScript)\n",
    "- 웹 페이지의 내용이 동적으로 변화\n",
    "- 단순히 HTML만 긁어서 내용 파악이 불가능"
   ]
  },
  {
   "cell_type": "markdown",
   "metadata": {
    "slideshow": {
     "slide_type": "subslide"
    }
   },
   "source": [
    "## 트립어드바이저\n",
    "\n",
    "https://www.tripadvisor.co.kr/Restaurant_Review-g294197-d1371740-Reviews-Mugyodong_Bugeokukjib-Seoul.html\n",
    "\n",
    "- 리뷰의 모든 내용은 '더보기' 버튼을 클릭해야 볼 수 있음\n",
    "- 개발자 도구에서 Network를 확인해보면 더보기 버튼 클릭시 통신이 이뤄지며 리뷰 내용을 가져오는 것을 확인"
   ]
  },
  {
   "cell_type": "markdown",
   "metadata": {
    "slideshow": {
     "slide_type": "subslide"
    }
   },
   "source": [
    "## 리뷰 수집 방법\n",
    "\n",
    "1. '더보기' 버튼을 클릭했을 때 통신 내역을 requests로 따라한다\n",
    "2. 웹 브라우저를 띄워서 '더보기' 버튼을 클릭한다"
   ]
  },
  {
   "cell_type": "markdown",
   "metadata": {
    "slideshow": {
     "slide_type": "slide"
    }
   },
   "source": [
    "## 셀레늄\n",
    "\n",
    "- 웹 브라우저 제어 도구\n",
    "- 원래는 웹 사이트 자동 테스트를 위한 목적\n",
    "- 웹 사이트에 requests 등으로 긁기 어려운 부분이 있을 때 활용\n",
    "- 속도는 느림"
   ]
  },
  {
   "cell_type": "markdown",
   "metadata": {
    "slideshow": {
     "slide_type": "subslide"
    }
   },
   "source": [
    "## 셀레늄 설치"
   ]
  },
  {
   "cell_type": "code",
   "execution_count": 1,
   "metadata": {
    "slideshow": {
     "slide_type": "fragment"
    }
   },
   "outputs": [
    {
     "name": "stdout",
     "output_type": "stream",
     "text": [
      "Collecting selenium\n",
      "  Downloading https://files.pythonhosted.org/packages/80/d6/4294f0b4bce4de0abf13e17190289f9d0613b0a44e5dd6a7f5ca98459853/selenium-3.141.0-py2.py3-none-any.whl (904kB)\n",
      "Requirement already satisfied: urllib3 in c:\\users\\inyoung\\appdata\\local\\continuum\\anaconda3\\lib\\site-packages (from selenium) (1.22)\n",
      "Installing collected packages: selenium\n",
      "Successfully installed selenium-3.141.0\n"
     ]
    },
    {
     "name": "stderr",
     "output_type": "stream",
     "text": [
      "You are using pip version 18.1, however version 19.0.3 is available.\n",
      "You should consider upgrading via the 'python -m pip install --upgrade pip' command.\n"
     ]
    }
   ],
   "source": [
    "!pip install selenium"
   ]
  },
  {
   "cell_type": "markdown",
   "metadata": {
    "slideshow": {
     "slide_type": "subslide"
    }
   },
   "source": [
    "## 드라이버\n",
    "\n",
    "브라우저별로 '드라이버'가 필요\n",
    "\n",
    "  1. 셀레늄 홈페이지 https://www.seleniumhq.org/\n",
    "  2. Download 탭 이동\n",
    "  3. 필요한 드라이버 링크 선택"
   ]
  },
  {
   "cell_type": "markdown",
   "metadata": {
    "slideshow": {
     "slide_type": "subslide"
    }
   },
   "source": [
    "## 크롬 드라이버\n",
    "\n",
    "- 인터넷 익스플로러는 셀레늄과 문제가 있음\n",
    "- 구글 크롬(Chrome) 사용을 추천\n",
    "  1. 셀레늄 홈페이지에서 Google Chrome Driver를 클릭\n",
    "  2. Latest Release 링크를 클릭\n",
    "  3. Chrome Driver X.XX 링크를 클릭\n",
    "  4. 운영체제(win, mac, linux)에 맞는 파일을 다운로드\n",
    "  5. 압축을 해제\n",
    "  6. chromedriver.exe 파일을 현재 작업 폴더로 복사"
   ]
  },
  {
   "cell_type": "markdown",
   "metadata": {
    "slideshow": {
     "slide_type": "slide"
    }
   },
   "source": [
    "## 크롬 브라우저 띄우기"
   ]
  },
  {
   "cell_type": "code",
   "execution_count": 1,
   "metadata": {
    "slideshow": {
     "slide_type": "fragment"
    }
   },
   "outputs": [],
   "source": [
    "from selenium.webdriver import Chrome"
   ]
  },
  {
   "cell_type": "code",
   "execution_count": 2,
   "metadata": {
    "slideshow": {
     "slide_type": "fragment"
    }
   },
   "outputs": [],
   "source": [
    "browser = Chrome()"
   ]
  },
  {
   "cell_type": "markdown",
   "metadata": {
    "slideshow": {
     "slide_type": "fragment"
    }
   },
   "source": [
    "크롬이 뜨면서 **Chrome이 자동화된 테스트 소프트웨어에 의해 제어되고 있습니다**라고 표시"
   ]
  },
  {
   "cell_type": "markdown",
   "metadata": {
    "slideshow": {
     "slide_type": "slide"
    }
   },
   "source": [
    "## 주소 이동"
   ]
  },
  {
   "cell_type": "code",
   "execution_count": 3,
   "metadata": {
    "slideshow": {
     "slide_type": "fragment"
    }
   },
   "outputs": [],
   "source": [
    "url = 'https://www.tripadvisor.co.kr/Restaurant_Review-g294197-d1371740-Reviews-Mugyodong_Bugeokukjib-Seoul.html'"
   ]
  },
  {
   "cell_type": "code",
   "execution_count": 4,
   "metadata": {
    "slideshow": {
     "slide_type": "fragment"
    }
   },
   "outputs": [],
   "source": [
    "browser.get(url)"
   ]
  },
  {
   "cell_type": "markdown",
   "metadata": {
    "slideshow": {
     "slide_type": "slide"
    }
   },
   "source": [
    "## 링크 찾기\n",
    "\n",
    "- `find_elements_by_css_selector`로 '더보기' 링크를 찾는다. \n",
    "  - 단수형 `find_element_~`: 첫번째를 찾음\n",
    "  - 복수형 `find_elements_~`: 모두 찾음(`lxml.html`의 `cssselect`와 동일)"
   ]
  },
  {
   "cell_type": "code",
   "execution_count": 6,
   "metadata": {
    "slideshow": {
     "slide_type": "fragment"
    }
   },
   "outputs": [],
   "source": [
    "more_links = browser.find_elements_by_css_selector('.ulBlueLinks')"
   ]
  },
  {
   "cell_type": "markdown",
   "metadata": {
    "slideshow": {
     "slide_type": "slide"
    }
   },
   "source": [
    "## 클릭\n",
    "\n",
    "`.click` 메소드로 클릭"
   ]
  },
  {
   "cell_type": "code",
   "execution_count": 7,
   "metadata": {},
   "outputs": [
    {
     "data": {
      "text/plain": [
       "[<selenium.webdriver.remote.webelement.WebElement (session=\"ccf7f4743564bd73ef116df89c8b1442\", element=\"0.5337244612647583-1\")>,\n",
       " <selenium.webdriver.remote.webelement.WebElement (session=\"ccf7f4743564bd73ef116df89c8b1442\", element=\"0.5337244612647583-2\")>,\n",
       " <selenium.webdriver.remote.webelement.WebElement (session=\"ccf7f4743564bd73ef116df89c8b1442\", element=\"0.5337244612647583-3\")>,\n",
       " <selenium.webdriver.remote.webelement.WebElement (session=\"ccf7f4743564bd73ef116df89c8b1442\", element=\"0.5337244612647583-4\")>,\n",
       " <selenium.webdriver.remote.webelement.WebElement (session=\"ccf7f4743564bd73ef116df89c8b1442\", element=\"0.5337244612647583-5\")>,\n",
       " <selenium.webdriver.remote.webelement.WebElement (session=\"ccf7f4743564bd73ef116df89c8b1442\", element=\"0.5337244612647583-6\")>,\n",
       " <selenium.webdriver.remote.webelement.WebElement (session=\"ccf7f4743564bd73ef116df89c8b1442\", element=\"0.5337244612647583-7\")>,\n",
       " <selenium.webdriver.remote.webelement.WebElement (session=\"ccf7f4743564bd73ef116df89c8b1442\", element=\"0.5337244612647583-8\")>,\n",
       " <selenium.webdriver.remote.webelement.WebElement (session=\"ccf7f4743564bd73ef116df89c8b1442\", element=\"0.5337244612647583-9\")>,\n",
       " <selenium.webdriver.remote.webelement.WebElement (session=\"ccf7f4743564bd73ef116df89c8b1442\", element=\"0.5337244612647583-10\")>]"
      ]
     },
     "execution_count": 7,
     "metadata": {},
     "output_type": "execute_result"
    }
   ],
   "source": [
    "more_links"
   ]
  },
  {
   "cell_type": "code",
   "execution_count": 8,
   "metadata": {
    "slideshow": {
     "slide_type": "fragment"
    }
   },
   "outputs": [],
   "source": [
    "for link in more_links:  # 모든 링크를\n",
    "    try:\n",
    "        link.click()     # 하나씩 클릭한다\n",
    "    except:              # 예외가 발생하면\n",
    "        pass             # 넘어간다"
   ]
  },
  {
   "cell_type": "markdown",
   "metadata": {
    "slideshow": {
     "slide_type": "slide"
    }
   },
   "source": [
    "## 리뷰\n",
    "\n",
    "- `.text`로 텍스트 확인\n",
    "- `lxml.html`의 `.text_content()`와 동일"
   ]
  },
  {
   "cell_type": "code",
   "execution_count": 10,
   "metadata": {
    "slideshow": {
     "slide_type": "fragment"
    }
   },
   "outputs": [],
   "source": [
    "reviews = browser.find_elements_by_css_selector('.partial_entry')"
   ]
  },
  {
   "cell_type": "code",
   "execution_count": 11,
   "metadata": {
    "slideshow": {
     "slide_type": "fragment"
    }
   },
   "outputs": [
    {
     "name": "stdout",
     "output_type": "stream",
     "text": [
      "음식 맛이 훌륭합니다. 리필도 해주고 밑반찬과 메인의 어울림이 좋습니다.\n",
      "줄을 서는 사람들을 위해 뭔가 좀 더 케어가 있으면 좋을 것 같습니다.\n",
      "옛 선조들이 몸이 힘 들고 허 할 때, 북어를 푹 끊여 15일 이상 먹으면, 기운이 나고, 몸에 독소도 나간다고 하였다.\n",
      "\n",
      "광화문에서 20년 근무를 하면서 일주일에 한번은 꼭 먹으러 다녔던 곳 입니다.\n",
      "\n",
      "메뉴를 고를 필요도 없고, 한 그릇으로 모자라면 건더기 국물을 계속 더 요청 할 수 있습니다.\n",
      "물론, 눈치 주지 않고 당연하다는 듯이 직원들도 가져다 주며, 국물, 건더기를 다먹기 전에\n",
      "먼저 물어봅니다.\n",
      "\n",
      "와이프와 저는 주말 아침에 일어나 편안한 트레이닝 차림에 가서 아침을 먹고, 길 건너\n",
      "스타벅스에서 커피 한잔을 마시고, 청계천 걷다 집으로 돌아오곤 했습니다.\n",
      "\n",
      "근처 호텔에 머무르시는 분들은 꼭 가보세요. 건강한 음식을 먹는 기분일 겁니다\n",
      "언제나 줄서서 먹는 북어국이다. 타이밍을 잘맞우면 조금만 기다려도 된다. 단일메뉴여서 들어만가면 바로 맛있는 북어국을 먹을 수 있다. 개인적으로 북어국도 좋은데 오이지무침이 정말 짱이다.\n",
      "건더기가 아주 많이 들어가있고, 재료의 조화가 매우 훌륭하다. 일요일 오전 10시에 방문했는데 가게앞에 줄이 길게 서 있었다. 우리는 포장을 했지만 회전율이 좋은 편이라 기다린다 하더라도 금방 먹을 수는 있을 것 같았다.\n",
      "인근에 회사들이 밀집해있기 때문에, 전날 과음을 한 직장인들이 아주 많이 찾는 곳이다.\n",
      "해장에 북어국만한게 없다.! 여기에 가려면 좀 이른 시간에 가는 것이 좋을 것 같다.\n",
      "외국남친이 하도 가보고 싶어해서 같이 찾아가봤어요. 국물은 굉장히 깔끔했고 밥에 새우를 얹어 먹었는데 그것도 꽤 맛있었고요. 반찬으로 나오는 오이짱아치가 아주 마음에 들었어요. 해장이 필요하신 분들에게는 추천합니다~\n",
      "메뉴가 거의 단일화 되어있어 회전율이 빠릅니다.\n",
      "주변에 직장인들이 많아서 금방 자리가 차는편이라 점심시간에 가려면 일찍가서 먹는편이 좋은것같습니다.\n",
      "기본 해장국으로 좋은것같습니다. 반찬은 기본으로 자리에 세팅되어 적당히 덜어다 먹으면 좋습니다.\n",
      "북어국이 시원하고 서비스가 좋았습니다.\n",
      "다음에 또 방문할 생각이 들 정도로 맛 포함해서 전체적으로 만족스러웠습니다. 굳\n",
      "유명한 집입니다. 외국인 관광객도 많은편이예요\n",
      "식사시간에 가면 대기가 길어요\n",
      "3가지 반찬도 맛있고 북어국도 맛있는 편입니다.\n",
      "리뷰에 좋은글을 올려야 하는건지 모르지만 무교동 북어국 집이 예전에 비해 맛이 안좋아졌습니다.\n",
      "사람이 많이 몰리더 보니 음식에 깊은맛은 점점 약해지고 조미료로 맛을 유지하는듯한 느낌입니다.\n"
     ]
    }
   ],
   "source": [
    "for review in reviews:\n",
    "    print(review.text)"
   ]
  },
  {
   "cell_type": "code",
   "execution_count": 12,
   "metadata": {},
   "outputs": [],
   "source": [
    "data = []\n",
    "for review in reviews:\n",
    "    data.append(review.text)"
   ]
  },
  {
   "cell_type": "code",
   "execution_count": 13,
   "metadata": {},
   "outputs": [],
   "source": [
    "import pandas as pd"
   ]
  },
  {
   "cell_type": "code",
   "execution_count": 14,
   "metadata": {},
   "outputs": [],
   "source": [
    "pd.DataFrame({'text':data}).to_excel('북어국.xlsx')"
   ]
  },
  {
   "cell_type": "code",
   "execution_count": 15,
   "metadata": {},
   "outputs": [],
   "source": [
    "more_button = browser.find_elements_by_css_selector('.see-more-mobile')"
   ]
  },
  {
   "cell_type": "code",
   "execution_count": 16,
   "metadata": {},
   "outputs": [
    {
     "data": {
      "text/plain": [
       "[<selenium.webdriver.remote.webelement.WebElement (session=\"ccf7f4743564bd73ef116df89c8b1442\", element=\"0.36333054335192627-1\")>]"
      ]
     },
     "execution_count": 16,
     "metadata": {},
     "output_type": "execute_result"
    }
   ],
   "source": [
    "more_button"
   ]
  },
  {
   "cell_type": "code",
   "execution_count": 23,
   "metadata": {},
   "outputs": [],
   "source": [
    "if more_button != '':\n",
    "    try:\n",
    "        more_button.click()     # 하나씩 클릭한다\n",
    "    except:              # 예외가 발생하면\n",
    "        pass             # 넘어간다"
   ]
  },
  {
   "cell_type": "markdown",
   "metadata": {
    "slideshow": {
     "slide_type": "slide"
    }
   },
   "source": [
    "## 셀레늄 문서\n",
    "\n",
    "https://selenium-python.readthedocs.io"
   ]
  },
  {
   "cell_type": "code",
   "execution_count": null,
   "metadata": {},
   "outputs": [],
   "source": []
  }
 ],
 "metadata": {
  "celltoolbar": "Slideshow",
  "kernelspec": {
   "display_name": "Python 3",
   "language": "python",
   "name": "python3"
  },
  "language_info": {
   "codemirror_mode": {
    "name": "ipython",
    "version": 3
   },
   "file_extension": ".py",
   "mimetype": "text/x-python",
   "name": "python",
   "nbconvert_exporter": "python",
   "pygments_lexer": "ipython3",
   "version": "3.6.4"
  }
 },
 "nbformat": 4,
 "nbformat_minor": 2
}
