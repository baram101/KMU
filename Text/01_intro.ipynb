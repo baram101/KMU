{
 "cells": [
  {
   "cell_type": "markdown",
   "metadata": {
    "slideshow": {
     "slide_type": "slide"
    }
   },
   "source": [
    "# 비정형 데이터 분석\n",
    "\n",
    "## 강의 소개\n",
    "\n",
    "유재명"
   ]
  },
  {
   "cell_type": "markdown",
   "metadata": {
    "slideshow": {
     "slide_type": "slide"
    }
   },
   "source": [
    "## 강사 소개\n",
    "\n",
    "유재명\n",
    "\n",
    "- 서울대학교 산업공학과\n",
    "- 서울대학교 대학원 인지과학\n",
    "\n",
    "- (주)퀀트랩 대표\n",
    "- 국민대학교 겸임교수\n"
   ]
  },
  {
   "cell_type": "markdown",
   "metadata": {
    "slideshow": {
     "slide_type": "subslide"
    }
   },
   "source": [
    "## 학습 목표\n",
    "\n",
    "- 텍스트 분석과 자연어 처리의 이론을 이해한다\n",
    "- Python을 이용해 텍스트 분석을 수행할 수 있다\n",
    "- 텍스트 분석 결과를 설명하고 활용할 수 있다\n"
   ]
  },
  {
   "cell_type": "markdown",
   "metadata": {
    "slideshow": {
     "slide_type": "subslide"
    }
   },
   "source": [
    "## 강의 순서 (1/2)\n",
    "\n",
    "\n",
    "1. 강의 소개\n",
    "2. 웹 스크래핑 I\n",
    "3. 웹 스크래핑 II\n",
    "4. 웹 스크래핑 III\n",
    "5. 언어 모형\n",
    "6. 형태소 분석과 단어 문서 행렬\n",
    "7. 주제 분석\n"
   ]
  },
  {
   "cell_type": "markdown",
   "metadata": {
    "slideshow": {
     "slide_type": "subslide"
    }
   },
   "source": [
    "## 강의 순서 (2/2)\n",
    "\n",
    "8. 기계학습과 감정분석\n",
    "9. 오차분석\n",
    "10. 워드임베딩\n",
    "11. 모형 해석\n",
    "12. 이미지의 지도학습\n",
    "13. 합성곱 신경망\n",
    "14. 순환신경망\n",
    "15. 기말고사"
   ]
  },
  {
   "cell_type": "markdown",
   "metadata": {
    "slideshow": {
     "slide_type": "slide"
    }
   },
   "source": [
    "## 비정형 데이터 분석\n",
    "\n",
    "- 정형(structured) 데이터: 표 형태의 데이터\n",
    "- 비정형(unstructured) 데이터: 텍스트, 이미지, 음성 등\n",
    "\n",
    "이번 강의에서는 텍스트를 중심으로 진행"
   ]
  },
  {
   "cell_type": "markdown",
   "metadata": {
    "slideshow": {
     "slide_type": "subslide"
    }
   },
   "source": [
    "## 텍스트 데이터로 할 수 있는 것\n",
    "\n",
    "\n",
    "- 감성 분석\n",
    "- 문서 분류\n",
    "- 요약\n",
    "- 개체명 인식\n",
    "- 기계 번역\n",
    "- 질의 응답\n",
    "- 의미 분석\n"
   ]
  },
  {
   "cell_type": "markdown",
   "metadata": {
    "slideshow": {
     "slide_type": "subslide"
    }
   },
   "source": [
    "## 문서 분류\n",
    "\n",
    "- Text classification\n",
    "- 문서가 속한 카테고리를 분류\n",
    "- 활용\n",
    "  - 지원자의 자기 소개서를 합격/불합격으로 분류\n",
    "  - 보험 신청 서류의 내용을 자동 분류 (예: \"허리가 아파서..\" -> '요통')\n",
    "  - 광고/욕설 등을 차단\n",
    "  - 사기 및 부정행위 파악\n"
   ]
  },
  {
   "cell_type": "markdown",
   "metadata": {
    "slideshow": {
     "slide_type": "subslide"
    }
   },
   "source": [
    "## 감성 분석\n",
    "\n",
    "- Sentiment analysis\n",
    "- 문서의 긍부정을 분석\n",
    "- 활용\n",
    "  - 기업의 제품이나 광고에 대한 고객 반응을 모니터링\n",
    "  - 소비자 리뷰에서 제품의 긍정/부정적인 측면을 파악"
   ]
  },
  {
   "cell_type": "markdown",
   "metadata": {
    "slideshow": {
     "slide_type": "subslide"
    }
   },
   "source": [
    "## 요약\n",
    "\n",
    "- Summarization\n",
    "- 긴 문서의 내용을 짧은 길이로 요약"
   ]
  },
  {
   "cell_type": "markdown",
   "metadata": {
    "slideshow": {
     "slide_type": "subslide"
    }
   },
   "source": [
    "## 개체명 인식\n",
    "\n",
    "- Named Entity Recognition\n",
    "- 하나 이상의 단어들을 인명, 지명 등의 이름으로 인식\n",
    "- 활용:\n",
    "  - 주문 내용에서 제품명에 해당하는 부분을 인식"
   ]
  },
  {
   "cell_type": "markdown",
   "metadata": {
    "slideshow": {
     "slide_type": "subslide"
    }
   },
   "source": [
    "## 기계 번역\n",
    "\n",
    "- Machine Translation\n",
    "- 한 언어로 된 텍스트를 다른 언어로 번역"
   ]
  },
  {
   "cell_type": "markdown",
   "metadata": {
    "slideshow": {
     "slide_type": "subslide"
    }
   },
   "source": [
    "## 질의 응답\n",
    "\n",
    "- Question Answering\n",
    "- 텍스트에서 질문의 답변에 해당하는 내용을 발견"
   ]
  },
  {
   "cell_type": "markdown",
   "metadata": {
    "slideshow": {
     "slide_type": "subslide"
    }
   },
   "source": [
    "## 의미 분석\n",
    "\n",
    "- Semantic Parsing\n",
    "- 자연어 문장을 프로그래밍 언어 등으로 번역"
   ]
  },
  {
   "cell_type": "markdown",
   "metadata": {
    "slideshow": {
     "slide_type": "subslide"
    }
   },
   "source": [
    "## 자연어 처리 Task별 순위표(leaderboard)\n",
    "\n",
    "https://nlpprogress.com"
   ]
  }
 ],
 "metadata": {
  "celltoolbar": "Slideshow",
  "kernelspec": {
   "display_name": "Python 3",
   "language": "python",
   "name": "python3"
  },
  "language_info": {
   "codemirror_mode": {
    "name": "ipython",
    "version": 3
   },
   "file_extension": ".py",
   "mimetype": "text/x-python",
   "name": "python",
   "nbconvert_exporter": "python",
   "pygments_lexer": "ipython3",
   "version": "3.6.4"
  }
 },
 "nbformat": 4,
 "nbformat_minor": 2
}
