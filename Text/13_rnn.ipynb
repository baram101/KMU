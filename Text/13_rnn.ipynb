{
  "nbformat": 4,
  "nbformat_minor": 0,
  "metadata": {
    "colab": {
      "name": "13_rnn.ipynb",
      "version": "0.3.2",
      "provenance": []
    },
    "kernelspec": {
      "name": "python3",
      "display_name": "Python 3"
    },
    "accelerator": "GPU"
  },
  "cells": [
    {
      "metadata": {
        "id": "QA0FJttib9n-",
        "colab_type": "text"
      },
      "cell_type": "markdown",
      "source": [
        "# RNN"
      ]
    },
    {
      "metadata": {
        "id": "0Dk37ZCrcAK6",
        "colab_type": "text"
      },
      "cell_type": "markdown",
      "source": [
        "## 학습 목표\n",
        "\n",
        "- RNN"
      ]
    },
    {
      "metadata": {
        "id": "fzuWiPmjcExT",
        "colab_type": "text"
      },
      "cell_type": "markdown",
      "source": [
        "## 데이터"
      ]
    },
    {
      "metadata": {
        "id": "gAylX7mgb-5d",
        "colab_type": "code",
        "colab": {
          "base_uri": "https://localhost:8080/",
          "height": 214
        },
        "outputId": "8949bc78-7336-4857-d851-03b8fdf73a9f"
      },
      "cell_type": "code",
      "source": [
        "!wget -c https://archive.ics.uci.edu/ml/machine-learning-databases/00331/sentiment%20labelled%20sentences.zip"
      ],
      "execution_count": 1,
      "outputs": [
        {
          "output_type": "stream",
          "text": [
            "--2019-03-29 12:33:43--  https://archive.ics.uci.edu/ml/machine-learning-databases/00331/sentiment%20labelled%20sentences.zip\n",
            "Resolving archive.ics.uci.edu (archive.ics.uci.edu)... 128.195.10.249\n",
            "Connecting to archive.ics.uci.edu (archive.ics.uci.edu)|128.195.10.249|:443... connected.\n",
            "HTTP request sent, awaiting response... 200 OK\n",
            "Length: 84188 (82K) [application/zip]\n",
            "Saving to: ‘sentiment labelled sentences.zip’\n",
            "\n",
            "\r          sentiment   0%[                    ]       0  --.-KB/s               \rsentiment labelled  100%[===================>]  82.21K   531KB/s    in 0.2s    \n",
            "\n",
            "2019-03-29 12:33:43 (531 KB/s) - ‘sentiment labelled sentences.zip’ saved [84188/84188]\n",
            "\n"
          ],
          "name": "stdout"
        }
      ]
    },
    {
      "metadata": {
        "id": "G5AV1ruyb5l4",
        "colab_type": "code",
        "colab": {}
      },
      "cell_type": "code",
      "source": [
        "!unzip -q sentiment\\ labelled\\ sentences.zip"
      ],
      "execution_count": 0,
      "outputs": []
    },
    {
      "metadata": {
        "id": "iHwq-3aJcz1d",
        "colab_type": "text"
      },
      "cell_type": "markdown",
      "source": [
        "## 읽기"
      ]
    },
    {
      "metadata": {
        "id": "ErUt5rDHcTqS",
        "colab_type": "code",
        "colab": {}
      },
      "cell_type": "code",
      "source": [
        "import pandas as pd"
      ],
      "execution_count": 0,
      "outputs": []
    },
    {
      "metadata": {
        "id": "BnSpAKRAcaTM",
        "colab_type": "code",
        "colab": {}
      },
      "cell_type": "code",
      "source": [
        "df = pd.read_csv('sentiment labelled sentences/imdb_labelled.txt',\n",
        "                 sep='\\t',\n",
        "                 header=None)"
      ],
      "execution_count": 0,
      "outputs": []
    },
    {
      "metadata": {
        "id": "25b8jrhPcWhQ",
        "colab_type": "code",
        "colab": {}
      },
      "cell_type": "code",
      "source": [
        "df.columns = ['review', 'score']"
      ],
      "execution_count": 0,
      "outputs": []
    },
    {
      "metadata": {
        "id": "zfOnrRO9c2Sc",
        "colab_type": "code",
        "colab": {
          "base_uri": "https://localhost:8080/",
          "height": 206
        },
        "outputId": "95b938da-56e2-4395-cc07-2e685dd94eb3"
      },
      "cell_type": "code",
      "source": [
        "df.head()"
      ],
      "execution_count": 9,
      "outputs": [
        {
          "output_type": "execute_result",
          "data": {
            "text/html": [
              "<div>\n",
              "<style scoped>\n",
              "    .dataframe tbody tr th:only-of-type {\n",
              "        vertical-align: middle;\n",
              "    }\n",
              "\n",
              "    .dataframe tbody tr th {\n",
              "        vertical-align: top;\n",
              "    }\n",
              "\n",
              "    .dataframe thead th {\n",
              "        text-align: right;\n",
              "    }\n",
              "</style>\n",
              "<table border=\"1\" class=\"dataframe\">\n",
              "  <thead>\n",
              "    <tr style=\"text-align: right;\">\n",
              "      <th></th>\n",
              "      <th>review</th>\n",
              "      <th>score</th>\n",
              "    </tr>\n",
              "  </thead>\n",
              "  <tbody>\n",
              "    <tr>\n",
              "      <th>0</th>\n",
              "      <td>A very, very, very slow-moving, aimless movie ...</td>\n",
              "      <td>0</td>\n",
              "    </tr>\n",
              "    <tr>\n",
              "      <th>1</th>\n",
              "      <td>Not sure who was more lost - the flat characte...</td>\n",
              "      <td>0</td>\n",
              "    </tr>\n",
              "    <tr>\n",
              "      <th>2</th>\n",
              "      <td>Attempting artiness with black &amp; white and cle...</td>\n",
              "      <td>0</td>\n",
              "    </tr>\n",
              "    <tr>\n",
              "      <th>3</th>\n",
              "      <td>Very little music or anything to speak of.</td>\n",
              "      <td>0</td>\n",
              "    </tr>\n",
              "    <tr>\n",
              "      <th>4</th>\n",
              "      <td>The best scene in the movie was when Gerardo i...</td>\n",
              "      <td>1</td>\n",
              "    </tr>\n",
              "  </tbody>\n",
              "</table>\n",
              "</div>"
            ],
            "text/plain": [
              "                                              review  score\n",
              "0  A very, very, very slow-moving, aimless movie ...      0\n",
              "1  Not sure who was more lost - the flat characte...      0\n",
              "2  Attempting artiness with black & white and cle...      0\n",
              "3       Very little music or anything to speak of.        0\n",
              "4  The best scene in the movie was when Gerardo i...      1"
            ]
          },
          "metadata": {
            "tags": []
          },
          "execution_count": 9
        }
      ]
    },
    {
      "metadata": {
        "id": "UdDcNBxzc8pM",
        "colab_type": "text"
      },
      "cell_type": "markdown",
      "source": [
        "## 텐서플로"
      ]
    },
    {
      "metadata": {
        "id": "3Ug5Irn_c6kN",
        "colab_type": "code",
        "colab": {}
      },
      "cell_type": "code",
      "source": [
        "import tensorflow as tf"
      ],
      "execution_count": 0,
      "outputs": []
    },
    {
      "metadata": {
        "id": "YR2OFDYsc_kN",
        "colab_type": "code",
        "colab": {}
      },
      "cell_type": "code",
      "source": [
        "tf.enable_eager_execution()"
      ],
      "execution_count": 0,
      "outputs": []
    },
    {
      "metadata": {
        "id": "Xc1dAAS9cxW1",
        "colab_type": "text"
      },
      "cell_type": "markdown",
      "source": [
        "## 토큰화"
      ]
    },
    {
      "metadata": {
        "id": "20TBnVpcch8G",
        "colab_type": "code",
        "colab": {}
      },
      "cell_type": "code",
      "source": [
        "tok = tf.keras.preprocessing.text.Tokenizer()"
      ],
      "execution_count": 0,
      "outputs": []
    },
    {
      "metadata": {
        "id": "mmZ-6PuYdC6h",
        "colab_type": "code",
        "colab": {}
      },
      "cell_type": "code",
      "source": [
        "tok.fit_on_texts(df['review'])"
      ],
      "execution_count": 0,
      "outputs": []
    },
    {
      "metadata": {
        "id": "rCGhBt9LdN2-",
        "colab_type": "text"
      },
      "cell_type": "markdown",
      "source": [
        "## 단어 번호"
      ]
    },
    {
      "metadata": {
        "id": "tvlHJtYXdFwp",
        "colab_type": "code",
        "colab": {
          "base_uri": "https://localhost:8080/",
          "height": 35
        },
        "outputId": "ec00eb6c-2bba-4f7e-a420-8a2cccdabb94"
      },
      "cell_type": "code",
      "source": [
        "tok.word_index['fun']"
      ],
      "execution_count": 14,
      "outputs": [
        {
          "output_type": "execute_result",
          "data": {
            "text/plain": [
              "354"
            ]
          },
          "metadata": {
            "tags": []
          },
          "execution_count": 14
        }
      ]
    },
    {
      "metadata": {
        "id": "w_qQURrldJRG",
        "colab_type": "code",
        "colab": {
          "base_uri": "https://localhost:8080/",
          "height": 35
        },
        "outputId": "d444b1ab-bc9a-4579-a074-0fdee3c64f62"
      },
      "cell_type": "code",
      "source": [
        "tok.index_word[1]"
      ],
      "execution_count": 16,
      "outputs": [
        {
          "output_type": "execute_result",
          "data": {
            "text/plain": [
              "'the'"
            ]
          },
          "metadata": {
            "tags": []
          },
          "execution_count": 16
        }
      ]
    },
    {
      "metadata": {
        "id": "VuduTQATdSpk",
        "colab_type": "text"
      },
      "cell_type": "markdown",
      "source": [
        "## 텍스트를 단어 번호열로 변환"
      ]
    },
    {
      "metadata": {
        "id": "DqLvF29LdLkQ",
        "colab_type": "code",
        "colab": {}
      },
      "cell_type": "code",
      "source": [
        "seq = tok.texts_to_sequences(df['review'])"
      ],
      "execution_count": 0,
      "outputs": []
    },
    {
      "metadata": {
        "id": "QPVPci7wdYXk",
        "colab_type": "code",
        "colab": {
          "base_uri": "https://localhost:8080/",
          "height": 35
        },
        "outputId": "9c83ae29-2912-4f65-e2c8-7b25fe9a3932"
      },
      "cell_type": "code",
      "source": [
        "df.loc[0, 'review']"
      ],
      "execution_count": 19,
      "outputs": [
        {
          "output_type": "execute_result",
          "data": {
            "text/plain": [
              "'A very, very, very slow-moving, aimless movie about a distressed, drifting young man.  '"
            ]
          },
          "metadata": {
            "tags": []
          },
          "execution_count": 19
        }
      ]
    },
    {
      "metadata": {
        "id": "FkQEC9ggdWNE",
        "colab_type": "code",
        "colab": {
          "base_uri": "https://localhost:8080/",
          "height": 35
        },
        "outputId": "c65b9ffb-4c76-407d-ccf6-5233e0b30a04"
      },
      "cell_type": "code",
      "source": [
        "seq[0]"
      ],
      "execution_count": 18,
      "outputs": [
        {
          "output_type": "execute_result",
          "data": {
            "text/plain": [
              "[3, 28, 28, 28, 287, 407, 1216, 12, 37, 3, 1217, 1218, 408, 143]"
            ]
          },
          "metadata": {
            "tags": []
          },
          "execution_count": 18
        }
      ]
    },
    {
      "metadata": {
        "id": "ETjZcrepdeeu",
        "colab_type": "text"
      },
      "cell_type": "markdown",
      "source": [
        "## 패딩"
      ]
    },
    {
      "metadata": {
        "id": "2lXRha_AdXmk",
        "colab_type": "code",
        "colab": {}
      },
      "cell_type": "code",
      "source": [
        "MAXLEN = max(len(s) for s in seq)"
      ],
      "execution_count": 0,
      "outputs": []
    },
    {
      "metadata": {
        "id": "vb-s03E6dg33",
        "colab_type": "code",
        "colab": {}
      },
      "cell_type": "code",
      "source": [
        "pad = tf.keras.preprocessing.sequence.pad_sequences(seq, MAXLEN)"
      ],
      "execution_count": 0,
      "outputs": []
    },
    {
      "metadata": {
        "id": "KUe9meNRdjx7",
        "colab_type": "code",
        "colab": {
          "base_uri": "https://localhost:8080/",
          "height": 35
        },
        "outputId": "be87eab1-470d-408a-fa8f-fa1722eb9ad4"
      },
      "cell_type": "code",
      "source": [
        "pad.shape"
      ],
      "execution_count": 23,
      "outputs": [
        {
          "output_type": "execute_result",
          "data": {
            "text/plain": [
              "(748, 1400)"
            ]
          },
          "metadata": {
            "tags": []
          },
          "execution_count": 23
        }
      ]
    },
    {
      "metadata": {
        "id": "c3k2OHzEdrT-",
        "colab_type": "text"
      },
      "cell_type": "markdown",
      "source": [
        "## 데이터 분할"
      ]
    },
    {
      "metadata": {
        "id": "JMHimTJRdkcT",
        "colab_type": "code",
        "colab": {}
      },
      "cell_type": "code",
      "source": [
        "from sklearn.model_selection import train_test_split"
      ],
      "execution_count": 0,
      "outputs": []
    },
    {
      "metadata": {
        "id": "aXAw0kZTdtp4",
        "colab_type": "code",
        "colab": {}
      },
      "cell_type": "code",
      "source": [
        "X_train, X_test, y_train, y_test = train_test_split(\n",
        "    pad, df['score'], test_size=.2, random_state=1234)"
      ],
      "execution_count": 0,
      "outputs": []
    },
    {
      "metadata": {
        "id": "fx8EGEpLdzZQ",
        "colab_type": "text"
      },
      "cell_type": "markdown",
      "source": [
        "## 모형"
      ]
    },
    {
      "metadata": {
        "id": "P86Og402dwtj",
        "colab_type": "code",
        "colab": {}
      },
      "cell_type": "code",
      "source": [
        "NUM_WORDS = len(tok.index_word) + 1"
      ],
      "execution_count": 0,
      "outputs": []
    },
    {
      "metadata": {
        "id": "Nbb2l77Nd1Go",
        "colab_type": "code",
        "colab": {
          "base_uri": "https://localhost:8080/",
          "height": 108
        },
        "outputId": "0f88f354-2d2c-4d46-8066-646ae9921ae2"
      },
      "cell_type": "code",
      "source": [
        "rnn = tf.keras.models.Sequential([\n",
        "    tf.keras.layers.Embedding(input_dim=NUM_WORDS,\n",
        "                              output_dim=8,\n",
        "                              input_length=MAXLEN,\n",
        "                              mask_zero=True),\n",
        "    tf.keras.layers.LSTM(16, return_sequences=False),\n",
        "    tf.keras.layers.Dense(1, activation='sigmoid'),\n",
        "])"
      ],
      "execution_count": 28,
      "outputs": [
        {
          "output_type": "stream",
          "text": [
            "WARNING:tensorflow:<tensorflow.python.keras.layers.recurrent.LSTM object at 0x7f31cfda1c18>: Note that this layer is not optimized for performance. Please use tf.keras.layers.CuDNNLSTM for better performance on GPU.\n",
            "WARNING:tensorflow:From /usr/local/lib/python3.6/dist-packages/tensorflow/python/ops/embedding_ops.py:132: colocate_with (from tensorflow.python.framework.ops) is deprecated and will be removed in a future version.\n",
            "Instructions for updating:\n",
            "Colocations handled automatically by placer.\n"
          ],
          "name": "stdout"
        }
      ]
    },
    {
      "metadata": {
        "id": "XV_0m7kueURF",
        "colab_type": "text"
      },
      "cell_type": "markdown",
      "source": [
        "## 컴파일"
      ]
    },
    {
      "metadata": {
        "id": "zdbI47TneF8g",
        "colab_type": "code",
        "colab": {}
      },
      "cell_type": "code",
      "source": [
        "rnn.compile(optimizer=tf.train.AdamOptimizer(0.001),\n",
        "            loss='binary_crossentropy',\n",
        "            metrics=['accuracy'])"
      ],
      "execution_count": 0,
      "outputs": []
    },
    {
      "metadata": {
        "id": "6oPKarCNeV_e",
        "colab_type": "text"
      },
      "cell_type": "markdown",
      "source": [
        "## 훈련"
      ]
    },
    {
      "metadata": {
        "id": "jg528ISGeR3p",
        "colab_type": "code",
        "colab": {
          "base_uri": "https://localhost:8080/",
          "height": 446
        },
        "outputId": "94aeee9d-8987-4366-9d2e-412f504efbd1"
      },
      "cell_type": "code",
      "source": [
        "rnn.fit(X_train, y_train, epochs=10)"
      ],
      "execution_count": 30,
      "outputs": [
        {
          "output_type": "stream",
          "text": [
            "WARNING:tensorflow:From /usr/local/lib/python3.6/dist-packages/tensorflow/python/ops/math_ops.py:3066: to_int32 (from tensorflow.python.ops.math_ops) is deprecated and will be removed in a future version.\n",
            "Instructions for updating:\n",
            "Use tf.cast instead.\n",
            "Epoch 1/10\n",
            "598/598 [==============================] - 98s 164ms/sample - loss: 0.6928 - acc: 0.5418\n",
            "Epoch 2/10\n",
            "598/598 [==============================] - 94s 158ms/sample - loss: 0.6888 - acc: 0.5368\n",
            "Epoch 3/10\n",
            "598/598 [==============================] - 91s 151ms/sample - loss: 0.6785 - acc: 0.5468\n",
            "Epoch 4/10\n",
            "598/598 [==============================] - 92s 153ms/sample - loss: 0.6491 - acc: 0.5719\n",
            "Epoch 5/10\n",
            "598/598 [==============================] - 91s 153ms/sample - loss: 0.5710 - acc: 0.8746\n",
            "Epoch 6/10\n",
            "598/598 [==============================] - 91s 152ms/sample - loss: 0.4469 - acc: 0.8863\n",
            "Epoch 7/10\n",
            "598/598 [==============================] - 95s 159ms/sample - loss: 0.3483 - acc: 0.9231\n",
            "Epoch 8/10\n",
            "598/598 [==============================] - 97s 163ms/sample - loss: 0.2772 - acc: 0.9498\n",
            "Epoch 9/10\n",
            "598/598 [==============================] - 96s 160ms/sample - loss: 0.2275 - acc: 0.9699\n",
            "Epoch 10/10\n",
            "598/598 [==============================] - 95s 158ms/sample - loss: 0.2108 - acc: 0.9716\n"
          ],
          "name": "stdout"
        },
        {
          "output_type": "execute_result",
          "data": {
            "text/plain": [
              "<tensorflow.python.keras.callbacks.History at 0x7f31c6545b00>"
            ]
          },
          "metadata": {
            "tags": []
          },
          "execution_count": 30
        }
      ]
    },
    {
      "metadata": {
        "id": "dJJ7XjsFeZen",
        "colab_type": "text"
      },
      "cell_type": "markdown",
      "source": [
        "## 예측"
      ]
    },
    {
      "metadata": {
        "id": "HCYDdzSxeTMr",
        "colab_type": "code",
        "colab": {}
      },
      "cell_type": "code",
      "source": [
        "y_rnn = rnn.predict_classes(X_test)"
      ],
      "execution_count": 0,
      "outputs": []
    },
    {
      "metadata": {
        "id": "yuHPagtPecse",
        "colab_type": "text"
      },
      "cell_type": "markdown",
      "source": [
        "## 정확도"
      ]
    },
    {
      "metadata": {
        "id": "fhjG1Jf2eeH9",
        "colab_type": "code",
        "colab": {}
      },
      "cell_type": "code",
      "source": [
        "from sklearn.metrics import accuracy_score"
      ],
      "execution_count": 0,
      "outputs": []
    },
    {
      "metadata": {
        "id": "1Fb5KNwRefKL",
        "colab_type": "code",
        "colab": {
          "base_uri": "https://localhost:8080/",
          "height": 35
        },
        "outputId": "5e8fd71c-f9ec-491d-fea7-6e0bf822adfa"
      },
      "cell_type": "code",
      "source": [
        "accuracy_score(y_test, y_rnn)"
      ],
      "execution_count": 34,
      "outputs": [
        {
          "output_type": "execute_result",
          "data": {
            "text/plain": [
              "0.7066666666666667"
            ]
          },
          "metadata": {
            "tags": []
          },
          "execution_count": 34
        }
      ]
    },
    {
      "metadata": {
        "id": "T48zXJSRhbiz",
        "colab_type": "text"
      },
      "cell_type": "markdown",
      "source": [
        "## 저장"
      ]
    },
    {
      "metadata": {
        "id": "eR7tJSeshctm",
        "colab_type": "code",
        "colab": {
          "base_uri": "https://localhost:8080/",
          "height": 55
        },
        "outputId": "8a1d9d85-e77b-466c-a8f3-c64ccab7cbd1"
      },
      "cell_type": "code",
      "source": [
        "rnn.save('rnn.h5')"
      ],
      "execution_count": 35,
      "outputs": [
        {
          "output_type": "stream",
          "text": [
            "WARNING:tensorflow:TensorFlow optimizers do not make it possible to access optimizer attributes or optimizer state after instantiation. As a result, we cannot save the optimizer as part of the model save file.You will have to compile your model again after loading it. Prefer using a Keras optimizer instead (see keras.io/optimizers).\n"
          ],
          "name": "stdout"
        }
      ]
    }
  ]
}