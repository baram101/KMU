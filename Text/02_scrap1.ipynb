{
 "cells": [
  {
   "cell_type": "markdown",
   "metadata": {
    "slideshow": {
     "slide_type": "slide"
    }
   },
   "source": [
    "# 웹 스크래핑 1"
   ]
  },
  {
   "cell_type": "markdown",
   "metadata": {
    "slideshow": {
     "slide_type": "slide"
    }
   },
   "source": [
    "## 인터넷\n",
    "\n",
    "- WWW\n",
    "- 이메일\n",
    "- FTP\n",
    "- IRC\n",
    "- USENET\n",
    "- GOPHER\n",
    "- TELNET"
   ]
  },
  {
   "cell_type": "markdown",
   "metadata": {
    "slideshow": {
     "slide_type": "subslide"
    }
   },
   "source": [
    "## WWW 또는 웹\n",
    "\n",
    "- 하이퍼텍스트 중심의 인터넷 서비스\n",
    "- 그림, 음악, 동영상, 글 등으로 구성\n",
    "- 문서들이 링크로 서로 연결\n",
    "- 모든 문서에는 URL 주소\n",
    "\n"
   ]
  },
  {
   "cell_type": "markdown",
   "metadata": {
    "slideshow": {
     "slide_type": "slide"
    }
   },
   "source": [
    "## URL\n",
    "\n",
    "- 인터넷 주소 체계\n",
    "- 스키마, 호스트, 패스, 쿼리로 구성"
   ]
  },
  {
   "cell_type": "markdown",
   "metadata": {
    "slideshow": {
     "slide_type": "subslide"
    }
   },
   "source": [
    "## URL의 구성요소\n",
    "\n",
    "  - 스키마(schema): 통신 방식\n",
    "  - 호스트(host): 서버 주소\n",
    "  - 패스(path): 서버에서 문서의 위치\n",
    "  - 쿼리(query): 문서에 전달하는 추가 정보"
   ]
  },
  {
   "cell_type": "markdown",
   "metadata": {
    "slideshow": {
     "slide_type": "subslide"
    }
   },
   "source": [
    "## URL 예시\n",
    "\n",
    "http://www.bobaedream.co.kr/mycar/mycar_list.php?sel_m_gubun=ALL&page=2\n",
    "\n",
    "- 스키마: `http://`\n",
    "- 호스트: `www.bobaedream.co.kr`\n",
    "- 패스: `/mycar/mycar_list.php`\n",
    "- 쿼리: `?sel_m_gubun=ALL&page=2`"
   ]
  },
  {
   "cell_type": "markdown",
   "metadata": {
    "slideshow": {
     "slide_type": "subslide"
    }
   },
   "source": [
    "## Python으로 URL 분석하기"
   ]
  },
  {
   "cell_type": "code",
   "execution_count": null,
   "metadata": {
    "slideshow": {
     "slide_type": "fragment"
    }
   },
   "outputs": [],
   "source": [
    "import urllib.parse"
   ]
  },
  {
   "cell_type": "code",
   "execution_count": null,
   "metadata": {
    "slideshow": {
     "slide_type": "fragment"
    }
   },
   "outputs": [],
   "source": [
    "p = urllib.parse.urlparse('http://www.bobaedream.co.kr/mycar/mycar_list.php?sel_m_gubun=ALL&page=2')"
   ]
  },
  {
   "cell_type": "code",
   "execution_count": null,
   "metadata": {
    "slideshow": {
     "slide_type": "fragment"
    }
   },
   "outputs": [],
   "source": [
    "p.scheme"
   ]
  },
  {
   "cell_type": "code",
   "execution_count": null,
   "metadata": {
    "slideshow": {
     "slide_type": "fragment"
    }
   },
   "outputs": [],
   "source": [
    "p.hostname"
   ]
  },
  {
   "cell_type": "code",
   "execution_count": null,
   "metadata": {
    "slideshow": {
     "slide_type": "fragment"
    }
   },
   "outputs": [],
   "source": [
    "p.path"
   ]
  },
  {
   "cell_type": "code",
   "execution_count": null,
   "metadata": {
    "slideshow": {
     "slide_type": "fragment"
    }
   },
   "outputs": [],
   "source": [
    "p.query"
   ]
  },
  {
   "cell_type": "markdown",
   "metadata": {
    "slideshow": {
     "slide_type": "slide"
    }
   },
   "source": [
    "## HTTP\n",
    "\n",
    "- 웹의 통신 규약(protocol)\n",
    "- 클라이언트가 요청을 보내면 서버가 응답\n",
    "- 요청에는 GET, POST 등이 있음\n",
    "  - GET: 서버가 가진 내용을 요청\n",
    "  - POST: 서버에 새로운 내용 추가를 요청"
   ]
  },
  {
   "cell_type": "markdown",
   "metadata": {
    "slideshow": {
     "slide_type": "subslide"
    }
   },
   "source": [
    "## 요청 보내기"
   ]
  },
  {
   "cell_type": "code",
   "execution_count": 1,
   "metadata": {
    "slideshow": {
     "slide_type": "fragment"
    }
   },
   "outputs": [],
   "source": [
    "import requests"
   ]
  },
  {
   "cell_type": "markdown",
   "metadata": {
    "slideshow": {
     "slide_type": "fragment"
    }
   },
   "source": [
    "GET 요청을 보내고 응답을 받아와 `res` 변수에 할당한다."
   ]
  },
  {
   "cell_type": "code",
   "execution_count": 2,
   "metadata": {
    "slideshow": {
     "slide_type": "fragment"
    }
   },
   "outputs": [],
   "source": [
    "url = 'http://www.bobaedream.co.kr/mycar/mycar_list.php?sel_m_gubun=ALL&page=2'\n",
    "res = requests.get(url)"
   ]
  },
  {
   "cell_type": "code",
   "execution_count": 3,
   "metadata": {},
   "outputs": [
    {
     "data": {
      "text/plain": [
       "<Response [200]>"
      ]
     },
     "execution_count": 3,
     "metadata": {},
     "output_type": "execute_result"
    }
   ],
   "source": [
    "res"
   ]
  },
  {
   "cell_type": "markdown",
   "metadata": {},
   "source": [
    "응답의 상태 코드를 확인하면 200번을 얻는다."
   ]
  },
  {
   "cell_type": "code",
   "execution_count": 4,
   "metadata": {
    "slideshow": {
     "slide_type": "fragment"
    }
   },
   "outputs": [
    {
     "data": {
      "text/plain": [
       "200"
      ]
     },
     "execution_count": 4,
     "metadata": {},
     "output_type": "execute_result"
    }
   ],
   "source": [
    "res.status_code"
   ]
  },
  {
   "cell_type": "code",
   "execution_count": 5,
   "metadata": {},
   "outputs": [
    {
     "data": {
      "text/plain": [
       "<Response [404]>"
      ]
     },
     "execution_count": 5,
     "metadata": {},
     "output_type": "execute_result"
    }
   ],
   "source": [
    "requests.get('http://www.bobaedream.co.kr/aaaaaaa')"
   ]
  },
  {
   "cell_type": "markdown",
   "metadata": {
    "slideshow": {
     "slide_type": "subslide"
    }
   },
   "source": [
    "## 상태코드\n",
    "\n",
    "- 2XX: 성공\n",
    "- 3XX: 다른 주소로 이동\n",
    "- 4XX: 클라이언트 오류\n",
    "  - 404: 존재하지 않는 주소\n",
    "- 5XX: 서버 오류\n",
    "  - 503: 서버가 다운 등의 문제로 서비스 불가 상태"
   ]
  },
  {
   "cell_type": "markdown",
   "metadata": {
    "slideshow": {
     "slide_type": "slide"
    }
   },
   "source": [
    "## HTML\n",
    "\n",
    "- 웹 페이지의 내용을 표현하는 방법\n",
    "- 노드라는 단위로 구성\n",
    "- 하나의 노드는 여는 태그, 태그의 내용, 닫는 태그로 구성\n",
    "- 예: `<a href=\"http://www.google.com\">구글</a>`\n",
    "  - 여는 태그: `<a href=\"http://www.google.com\">`\n",
    "  - 내용: `구글`\n",
    "  - 닫는 태그: `</a>`"
   ]
  },
  {
   "cell_type": "markdown",
   "metadata": {
    "slideshow": {
     "slide_type": "subslide"
    }
   },
   "source": [
    "## 개발자 도구\n",
    "\n",
    "- 웹 브라우저에서 F12 또는 우클릭 후 \"검사\" 메뉴를 클릭하면 개발자도구로 진입\n",
    "- HTML의 구조와 통신 내역 등을 확인"
   ]
  },
  {
   "cell_type": "markdown",
   "metadata": {
    "slideshow": {
     "slide_type": "subslide"
    }
   },
   "source": [
    "## HTML의 주요 태그\n",
    "\n",
    "- div: 구역(division)\n",
    "- span: 범위(span)\n",
    "- ul: 번호 없는 리스트(unordered list)\n",
    "- ol: 번호 리스트(ordered list)\n",
    "- li: 리스트 항목(list item)\n",
    "- a: 링크(anchor)"
   ]
  },
  {
   "cell_type": "markdown",
   "metadata": {
    "slideshow": {
     "slide_type": "subslide"
    }
   },
   "source": [
    "## 응답 내용에서 특정 태그 찾기\n",
    "\n",
    "먼저 cssselect 패키지를 설치한다."
   ]
  },
  {
   "cell_type": "code",
   "execution_count": 5,
   "metadata": {
    "slideshow": {
     "slide_type": "fragment"
    }
   },
   "outputs": [
    {
     "name": "stdout",
     "output_type": "stream",
     "text": [
      "Requirement already satisfied: cssselect in c:\\users\\inyoung\\appdata\\local\\continuum\\anaconda3\\lib\\site-packages (1.0.3)\n"
     ]
    },
    {
     "name": "stderr",
     "output_type": "stream",
     "text": [
      "You are using pip version 18.1, however version 19.0.3 is available.\n",
      "You should consider upgrading via the 'python -m pip install --upgrade pip' command.\n"
     ]
    }
   ],
   "source": [
    "!pip install cssselect"
   ]
  },
  {
   "cell_type": "markdown",
   "metadata": {
    "slideshow": {
     "slide_type": "fragment"
    }
   },
   "source": [
    "HTML 해석을 위한 `lxml.html`을 불러온다."
   ]
  },
  {
   "cell_type": "code",
   "execution_count": 6,
   "metadata": {
    "slideshow": {
     "slide_type": "fragment"
    }
   },
   "outputs": [],
   "source": [
    "import lxml.html"
   ]
  },
  {
   "cell_type": "markdown",
   "metadata": {
    "slideshow": {
     "slide_type": "fragment"
    }
   },
   "source": [
    "응답의 텍스트(`res.text`)를 해석한다."
   ]
  },
  {
   "cell_type": "code",
   "execution_count": 7,
   "metadata": {
    "slideshow": {
     "slide_type": "fragment"
    }
   },
   "outputs": [],
   "source": [
    "root = lxml.html.fromstring(res.text)"
   ]
  },
  {
   "cell_type": "markdown",
   "metadata": {
    "slideshow": {
     "slide_type": "fragment"
    }
   },
   "source": [
    "`a` 태그를 모두 찾는다."
   ]
  },
  {
   "cell_type": "code",
   "execution_count": 8,
   "metadata": {
    "slideshow": {
     "slide_type": "fragment"
    }
   },
   "outputs": [
    {
     "data": {
      "text/plain": [
       "[<Element a at 0x2ecdef41e58>,\n",
       " <Element a at 0x2ecdef41ef8>,\n",
       " <Element a at 0x2ecdef56278>,\n",
       " <Element a at 0x2ecdef6ff48>,\n",
       " <Element a at 0x2ecdef74188>,\n",
       " <Element a at 0x2ecdef741d8>,\n",
       " <Element a at 0x2ecdef74228>,\n",
       " <Element a at 0x2ecdef74278>,\n",
       " <Element a at 0x2ecdef742c8>,\n",
       " <Element a at 0x2ecdef74318>,\n",
       " <Element a at 0x2ecdef74368>,\n",
       " <Element a at 0x2ecdef743b8>,\n",
       " <Element a at 0x2ecdef74408>,\n",
       " <Element a at 0x2ecdef74458>,\n",
       " <Element a at 0x2ecdef744a8>,\n",
       " <Element a at 0x2ecdef744f8>,\n",
       " <Element a at 0x2ecdef74548>,\n",
       " <Element a at 0x2ecdef74598>,\n",
       " <Element a at 0x2ecdef745e8>,\n",
       " <Element a at 0x2ecdef74638>,\n",
       " <Element a at 0x2ecdef74688>,\n",
       " <Element a at 0x2ecdef746d8>,\n",
       " <Element a at 0x2ecdef74728>,\n",
       " <Element a at 0x2ecdef74778>,\n",
       " <Element a at 0x2ecdef747c8>,\n",
       " <Element a at 0x2ecdef74818>,\n",
       " <Element a at 0x2ecdef74868>,\n",
       " <Element a at 0x2ecdef748b8>,\n",
       " <Element a at 0x2ecdef74908>,\n",
       " <Element a at 0x2ecdef74958>,\n",
       " <Element a at 0x2ecdef749a8>,\n",
       " <Element a at 0x2ecdef749f8>,\n",
       " <Element a at 0x2ecdef74a48>,\n",
       " <Element a at 0x2ecdef74a98>,\n",
       " <Element a at 0x2ecdef74ae8>,\n",
       " <Element a at 0x2ecdef74b38>,\n",
       " <Element a at 0x2ecdef74b88>,\n",
       " <Element a at 0x2ecdef74bd8>,\n",
       " <Element a at 0x2ecdef74c28>,\n",
       " <Element a at 0x2ecdef74c78>,\n",
       " <Element a at 0x2ecdef74cc8>,\n",
       " <Element a at 0x2ecdef74d18>,\n",
       " <Element a at 0x2ecdef74d68>,\n",
       " <Element a at 0x2ecdef74db8>,\n",
       " <Element a at 0x2ecdef74e08>,\n",
       " <Element a at 0x2ecdef74e58>,\n",
       " <Element a at 0x2ecdef74ea8>,\n",
       " <Element a at 0x2ecdef74ef8>,\n",
       " <Element a at 0x2ecdef74f48>,\n",
       " <Element a at 0x2ecdef74f98>,\n",
       " <Element a at 0x2ecdef79048>,\n",
       " <Element a at 0x2ecdef79098>,\n",
       " <Element a at 0x2ecdef790e8>,\n",
       " <Element a at 0x2ecdef79138>,\n",
       " <Element a at 0x2ecdef79188>,\n",
       " <Element a at 0x2ecdef791d8>,\n",
       " <Element a at 0x2ecdef79228>,\n",
       " <Element a at 0x2ecdef79278>,\n",
       " <Element a at 0x2ecdef792c8>,\n",
       " <Element a at 0x2ecdef79318>,\n",
       " <Element a at 0x2ecdef79368>,\n",
       " <Element a at 0x2ecdef793b8>,\n",
       " <Element a at 0x2ecdef79408>,\n",
       " <Element a at 0x2ecdef79458>,\n",
       " <Element a at 0x2ecdef794a8>,\n",
       " <Element a at 0x2ecdef794f8>,\n",
       " <Element a at 0x2ecdef79548>,\n",
       " <Element a at 0x2ecdef79598>,\n",
       " <Element a at 0x2ecdef795e8>,\n",
       " <Element a at 0x2ecdef79638>,\n",
       " <Element a at 0x2ecdef79688>,\n",
       " <Element a at 0x2ecdef796d8>,\n",
       " <Element a at 0x2ecdef79728>,\n",
       " <Element a at 0x2ecdef79778>,\n",
       " <Element a at 0x2ecdef797c8>,\n",
       " <Element a at 0x2ecdef79818>,\n",
       " <Element a at 0x2ecdef79868>,\n",
       " <Element a at 0x2ecdef798b8>,\n",
       " <Element a at 0x2ecdef79908>,\n",
       " <Element a at 0x2ecdef79958>,\n",
       " <Element a at 0x2ecdef799a8>,\n",
       " <Element a at 0x2ecdef799f8>,\n",
       " <Element a at 0x2ecdef79a48>,\n",
       " <Element a at 0x2ecdef79a98>,\n",
       " <Element a at 0x2ecdef79ae8>,\n",
       " <Element a at 0x2ecdef79b38>,\n",
       " <Element a at 0x2ecdef79b88>,\n",
       " <Element a at 0x2ecdef79bd8>,\n",
       " <Element a at 0x2ecdef79c28>,\n",
       " <Element a at 0x2ecdef79c78>,\n",
       " <Element a at 0x2ecdef79cc8>,\n",
       " <Element a at 0x2ecdef79d18>,\n",
       " <Element a at 0x2ecdef79d68>,\n",
       " <Element a at 0x2ecdef79db8>,\n",
       " <Element a at 0x2ecdef79e08>,\n",
       " <Element a at 0x2ecdef79e58>,\n",
       " <Element a at 0x2ecdef79ea8>,\n",
       " <Element a at 0x2ecdef79ef8>,\n",
       " <Element a at 0x2ecdef79f48>,\n",
       " <Element a at 0x2ecdef79f98>,\n",
       " <Element a at 0x2ecdef78048>,\n",
       " <Element a at 0x2ecdef78098>,\n",
       " <Element a at 0x2ecdef780e8>,\n",
       " <Element a at 0x2ecdef78138>,\n",
       " <Element a at 0x2ecdef78188>,\n",
       " <Element a at 0x2ecdef781d8>,\n",
       " <Element a at 0x2ecdef78228>,\n",
       " <Element a at 0x2ecdef78278>,\n",
       " <Element a at 0x2ecdef782c8>,\n",
       " <Element a at 0x2ecdef78318>,\n",
       " <Element a at 0x2ecdef78368>,\n",
       " <Element a at 0x2ecdef783b8>,\n",
       " <Element a at 0x2ecdef78408>,\n",
       " <Element a at 0x2ecdef78458>,\n",
       " <Element a at 0x2ecdef784a8>,\n",
       " <Element a at 0x2ecdef784f8>,\n",
       " <Element a at 0x2ecdef78548>,\n",
       " <Element a at 0x2ecdef78598>,\n",
       " <Element a at 0x2ecdef785e8>,\n",
       " <Element a at 0x2ecdef78638>,\n",
       " <Element a at 0x2ecdef78688>,\n",
       " <Element a at 0x2ecdef786d8>,\n",
       " <Element a at 0x2ecdef78728>,\n",
       " <Element a at 0x2ecdef78778>,\n",
       " <Element a at 0x2ecdef787c8>,\n",
       " <Element a at 0x2ecdef78818>,\n",
       " <Element a at 0x2ecdef78868>,\n",
       " <Element a at 0x2ecdef788b8>,\n",
       " <Element a at 0x2ecdef78908>,\n",
       " <Element a at 0x2ecdef78958>,\n",
       " <Element a at 0x2ecdef789a8>,\n",
       " <Element a at 0x2ecdef789f8>,\n",
       " <Element a at 0x2ecdef78a48>,\n",
       " <Element a at 0x2ecdef78a98>,\n",
       " <Element a at 0x2ecdef78ae8>,\n",
       " <Element a at 0x2ecdef78b38>,\n",
       " <Element a at 0x2ecdef78b88>,\n",
       " <Element a at 0x2ecdef78bd8>,\n",
       " <Element a at 0x2ecdef78c28>,\n",
       " <Element a at 0x2ecdef78c78>,\n",
       " <Element a at 0x2ecdef78cc8>,\n",
       " <Element a at 0x2ecdef78d18>,\n",
       " <Element a at 0x2ecdef78d68>,\n",
       " <Element a at 0x2ecdef78db8>,\n",
       " <Element a at 0x2ecdef78e08>,\n",
       " <Element a at 0x2ecdef78e58>,\n",
       " <Element a at 0x2ecdef78ea8>,\n",
       " <Element a at 0x2ecdef78ef8>,\n",
       " <Element a at 0x2ecdef78f48>,\n",
       " <Element a at 0x2ecdef78f98>,\n",
       " <Element a at 0x2ecdef7a048>,\n",
       " <Element a at 0x2ecdef7a098>,\n",
       " <Element a at 0x2ecdef7a0e8>,\n",
       " <Element a at 0x2ecdef7a138>,\n",
       " <Element a at 0x2ecdef7a188>,\n",
       " <Element a at 0x2ecdef7a1d8>,\n",
       " <Element a at 0x2ecdef7a228>,\n",
       " <Element a at 0x2ecdef7a278>,\n",
       " <Element a at 0x2ecdef7a2c8>,\n",
       " <Element a at 0x2ecdef7a318>,\n",
       " <Element a at 0x2ecdef7a368>,\n",
       " <Element a at 0x2ecdef7a3b8>,\n",
       " <Element a at 0x2ecdef7a408>,\n",
       " <Element a at 0x2ecdef7a458>,\n",
       " <Element a at 0x2ecdef7a4a8>,\n",
       " <Element a at 0x2ecdef7a4f8>,\n",
       " <Element a at 0x2ecdef7a548>,\n",
       " <Element a at 0x2ecdef7a598>,\n",
       " <Element a at 0x2ecdef7a5e8>,\n",
       " <Element a at 0x2ecdef7a638>,\n",
       " <Element a at 0x2ecdef7a688>,\n",
       " <Element a at 0x2ecdef7a6d8>,\n",
       " <Element a at 0x2ecdef7a728>,\n",
       " <Element a at 0x2ecdef7a778>,\n",
       " <Element a at 0x2ecdef7a7c8>,\n",
       " <Element a at 0x2ecdef7a818>,\n",
       " <Element a at 0x2ecdef7a868>,\n",
       " <Element a at 0x2ecdef7a8b8>,\n",
       " <Element a at 0x2ecdef7a908>,\n",
       " <Element a at 0x2ecdef7a958>,\n",
       " <Element a at 0x2ecdef7a9a8>,\n",
       " <Element a at 0x2ecdef7a9f8>,\n",
       " <Element a at 0x2ecdef7aa48>,\n",
       " <Element a at 0x2ecdef7aa98>,\n",
       " <Element a at 0x2ecdef7aae8>,\n",
       " <Element a at 0x2ecdef7ab38>,\n",
       " <Element a at 0x2ecdef7ab88>,\n",
       " <Element a at 0x2ecdef7abd8>,\n",
       " <Element a at 0x2ecdef7ac28>,\n",
       " <Element a at 0x2ecdef7ac78>,\n",
       " <Element a at 0x2ecdef7acc8>,\n",
       " <Element a at 0x2ecdef7ad18>,\n",
       " <Element a at 0x2ecdef7ad68>,\n",
       " <Element a at 0x2ecdef7adb8>,\n",
       " <Element a at 0x2ecdef7ae08>,\n",
       " <Element a at 0x2ecdef7ae58>,\n",
       " <Element a at 0x2ecdef7aea8>,\n",
       " <Element a at 0x2ecdef7aef8>,\n",
       " <Element a at 0x2ecdef7af48>,\n",
       " <Element a at 0x2ecdef7af98>,\n",
       " <Element a at 0x2ecdef7b048>,\n",
       " <Element a at 0x2ecdef7b098>,\n",
       " <Element a at 0x2ecdef7b0e8>,\n",
       " <Element a at 0x2ecdef7b138>,\n",
       " <Element a at 0x2ecdef7b188>,\n",
       " <Element a at 0x2ecdef7b1d8>,\n",
       " <Element a at 0x2ecdef7b228>,\n",
       " <Element a at 0x2ecdef7b278>,\n",
       " <Element a at 0x2ecdef7b2c8>,\n",
       " <Element a at 0x2ecdef7b318>,\n",
       " <Element a at 0x2ecdef7b368>,\n",
       " <Element a at 0x2ecdef7b3b8>,\n",
       " <Element a at 0x2ecdef7b408>,\n",
       " <Element a at 0x2ecdef7b458>,\n",
       " <Element a at 0x2ecdef7b4a8>,\n",
       " <Element a at 0x2ecdef7b4f8>,\n",
       " <Element a at 0x2ecdef7b548>,\n",
       " <Element a at 0x2ecdef7b598>,\n",
       " <Element a at 0x2ecdef7b5e8>,\n",
       " <Element a at 0x2ecdef7b638>,\n",
       " <Element a at 0x2ecdef7b688>,\n",
       " <Element a at 0x2ecdef7b6d8>,\n",
       " <Element a at 0x2ecdef7b728>,\n",
       " <Element a at 0x2ecdef7b778>,\n",
       " <Element a at 0x2ecdef7b7c8>,\n",
       " <Element a at 0x2ecdef7b818>,\n",
       " <Element a at 0x2ecdef7b868>,\n",
       " <Element a at 0x2ecdef7b8b8>,\n",
       " <Element a at 0x2ecdef7b908>,\n",
       " <Element a at 0x2ecdef7b958>,\n",
       " <Element a at 0x2ecdef7b9a8>,\n",
       " <Element a at 0x2ecdef7b9f8>,\n",
       " <Element a at 0x2ecdef7ba48>,\n",
       " <Element a at 0x2ecdef7ba98>,\n",
       " <Element a at 0x2ecdef7bae8>,\n",
       " <Element a at 0x2ecdef7bb38>,\n",
       " <Element a at 0x2ecdef7bb88>,\n",
       " <Element a at 0x2ecdef7bbd8>,\n",
       " <Element a at 0x2ecdef7bc28>,\n",
       " <Element a at 0x2ecdef7bc78>,\n",
       " <Element a at 0x2ecdef7bcc8>,\n",
       " <Element a at 0x2ecdef7bd18>,\n",
       " <Element a at 0x2ecdef7bd68>,\n",
       " <Element a at 0x2ecdef7bdb8>,\n",
       " <Element a at 0x2ecdef7be08>,\n",
       " <Element a at 0x2ecdef7be58>,\n",
       " <Element a at 0x2ecdef7bea8>,\n",
       " <Element a at 0x2ecdef7bef8>,\n",
       " <Element a at 0x2ecdef7bf48>,\n",
       " <Element a at 0x2ecdef7bf98>,\n",
       " <Element a at 0x2ecdef7c048>,\n",
       " <Element a at 0x2ecdef7c098>,\n",
       " <Element a at 0x2ecdef7c0e8>,\n",
       " <Element a at 0x2ecdef7c138>,\n",
       " <Element a at 0x2ecdef7c188>,\n",
       " <Element a at 0x2ecdef7c1d8>,\n",
       " <Element a at 0x2ecdef7c228>,\n",
       " <Element a at 0x2ecdef7c278>,\n",
       " <Element a at 0x2ecdef7c2c8>,\n",
       " <Element a at 0x2ecdef7c318>,\n",
       " <Element a at 0x2ecdef7c368>,\n",
       " <Element a at 0x2ecdef7c3b8>,\n",
       " <Element a at 0x2ecdef7c408>,\n",
       " <Element a at 0x2ecdef7c458>,\n",
       " <Element a at 0x2ecdef7c4a8>,\n",
       " <Element a at 0x2ecdef7c4f8>,\n",
       " <Element a at 0x2ecdef7c548>,\n",
       " <Element a at 0x2ecdef7c598>,\n",
       " <Element a at 0x2ecdef7c5e8>,\n",
       " <Element a at 0x2ecdef7c638>,\n",
       " <Element a at 0x2ecdef7c688>,\n",
       " <Element a at 0x2ecdef7c6d8>,\n",
       " <Element a at 0x2ecdef7c728>,\n",
       " <Element a at 0x2ecdef7c778>,\n",
       " <Element a at 0x2ecdef7c7c8>,\n",
       " <Element a at 0x2ecdef7c818>,\n",
       " <Element a at 0x2ecdef7c868>,\n",
       " <Element a at 0x2ecdef7c8b8>,\n",
       " <Element a at 0x2ecdef7c908>,\n",
       " <Element a at 0x2ecdef7c958>,\n",
       " <Element a at 0x2ecdef7c9a8>,\n",
       " <Element a at 0x2ecdef7c9f8>,\n",
       " <Element a at 0x2ecdef7ca48>,\n",
       " <Element a at 0x2ecdef7ca98>,\n",
       " <Element a at 0x2ecdef7cae8>,\n",
       " <Element a at 0x2ecdef7cb38>,\n",
       " <Element a at 0x2ecdef7cb88>,\n",
       " <Element a at 0x2ecdef7cbd8>,\n",
       " <Element a at 0x2ecdef7cc28>,\n",
       " <Element a at 0x2ecdef7cc78>,\n",
       " <Element a at 0x2ecdef7ccc8>,\n",
       " <Element a at 0x2ecdef7cd18>,\n",
       " <Element a at 0x2ecdef7cd68>,\n",
       " <Element a at 0x2ecdef7cdb8>,\n",
       " <Element a at 0x2ecdef7ce08>,\n",
       " <Element a at 0x2ecdef7ce58>,\n",
       " <Element a at 0x2ecdef7cea8>,\n",
       " <Element a at 0x2ecdef7cef8>,\n",
       " <Element a at 0x2ecdef7cf48>,\n",
       " <Element a at 0x2ecdef7cf98>,\n",
       " <Element a at 0x2ecdef7d048>,\n",
       " <Element a at 0x2ecdef7d098>,\n",
       " <Element a at 0x2ecdef7d0e8>,\n",
       " <Element a at 0x2ecdef7d138>,\n",
       " <Element a at 0x2ecdef7d188>,\n",
       " <Element a at 0x2ecdef7d1d8>,\n",
       " <Element a at 0x2ecdef7d228>,\n",
       " <Element a at 0x2ecdef7d278>,\n",
       " <Element a at 0x2ecdef7d2c8>,\n",
       " <Element a at 0x2ecdef7d318>,\n",
       " <Element a at 0x2ecdef7d368>,\n",
       " <Element a at 0x2ecdef7d3b8>,\n",
       " <Element a at 0x2ecdef7d408>,\n",
       " <Element a at 0x2ecdef7d458>,\n",
       " <Element a at 0x2ecdef7d4a8>,\n",
       " <Element a at 0x2ecdef7d4f8>,\n",
       " <Element a at 0x2ecdef7d548>,\n",
       " <Element a at 0x2ecdef7d598>,\n",
       " <Element a at 0x2ecdef7d5e8>,\n",
       " <Element a at 0x2ecdef7d638>,\n",
       " <Element a at 0x2ecdef7d688>,\n",
       " <Element a at 0x2ecdef7d6d8>,\n",
       " <Element a at 0x2ecdef7d728>,\n",
       " <Element a at 0x2ecdef7d778>,\n",
       " <Element a at 0x2ecdef7d7c8>,\n",
       " <Element a at 0x2ecdef7d818>,\n",
       " <Element a at 0x2ecdef7d868>,\n",
       " <Element a at 0x2ecdef7d8b8>,\n",
       " <Element a at 0x2ecdef7d908>,\n",
       " <Element a at 0x2ecdef7d958>,\n",
       " <Element a at 0x2ecdef7d9a8>,\n",
       " <Element a at 0x2ecdef7d9f8>,\n",
       " <Element a at 0x2ecdef7da48>,\n",
       " <Element a at 0x2ecdef7da98>,\n",
       " <Element a at 0x2ecdef7dae8>,\n",
       " <Element a at 0x2ecdef7db38>,\n",
       " <Element a at 0x2ecdef7db88>,\n",
       " <Element a at 0x2ecdef7dbd8>,\n",
       " <Element a at 0x2ecdef7dc28>,\n",
       " <Element a at 0x2ecdef7dc78>,\n",
       " <Element a at 0x2ecdef7dcc8>,\n",
       " <Element a at 0x2ecdef7dd18>,\n",
       " <Element a at 0x2ecdef7dd68>,\n",
       " <Element a at 0x2ecdef7ddb8>,\n",
       " <Element a at 0x2ecdef7de08>,\n",
       " <Element a at 0x2ecdef7de58>,\n",
       " <Element a at 0x2ecdef7dea8>,\n",
       " <Element a at 0x2ecdef7def8>,\n",
       " <Element a at 0x2ecdef7df48>,\n",
       " <Element a at 0x2ecdef7df98>,\n",
       " <Element a at 0x2ecdef7e048>,\n",
       " <Element a at 0x2ecdef7e098>,\n",
       " <Element a at 0x2ecdef7e0e8>,\n",
       " <Element a at 0x2ecdef7e138>,\n",
       " <Element a at 0x2ecdef7e188>,\n",
       " <Element a at 0x2ecdef7e1d8>,\n",
       " <Element a at 0x2ecdef7e228>,\n",
       " <Element a at 0x2ecdef7e278>]"
      ]
     },
     "execution_count": 8,
     "metadata": {},
     "output_type": "execute_result"
    }
   ],
   "source": [
    "root.cssselect('a')"
   ]
  },
  {
   "cell_type": "markdown",
   "metadata": {
    "slideshow": {
     "slide_type": "slide"
    }
   },
   "source": [
    "## 속성\n",
    "\n",
    "HTML 태그는 **속성**(attribute)라는 추가 정보를 포함한다. 대표적인 것은 다음과 같다.\n",
    "\n",
    "- `id`: 노드의 고유 아이디\n",
    "- `class`: 노드의 서식 유형\n",
    "- `href`: `a` 태그에만 사용. 링크된 주소."
   ]
  },
  {
   "cell_type": "markdown",
   "metadata": {
    "slideshow": {
     "slide_type": "subslide"
    }
   },
   "source": [
    "## CSS 선택자\n",
    "\n",
    "- HTML에서 특정 노드를 선택하기 위한 표기법\n",
    "- `.cssselect` 함수에 사용한다"
   ]
  },
  {
   "cell_type": "markdown",
   "metadata": {
    "slideshow": {
     "slide_type": "subslide"
    }
   },
   "source": [
    "## 클래스의 선택자\n",
    "\n",
    "- 특정 class의 태그를 지정할 때는 `태그.클래스`와 같이 `.`으로 표시한다\n",
    "- 선택자에서 `p.tit`는 HTML에서 `<p class=\"tit\">`"
   ]
  },
  {
   "cell_type": "code",
   "execution_count": 9,
   "metadata": {},
   "outputs": [
    {
     "data": {
      "text/plain": [
       "[<Element em at 0x2ecdd7d8c78>]"
      ]
     },
     "execution_count": 9,
     "metadata": {},
     "output_type": "execute_result"
    }
   ],
   "source": [
    "root.cssselect('em.cr')"
   ]
  },
  {
   "cell_type": "markdown",
   "metadata": {
    "slideshow": {
     "slide_type": "subslide"
    }
   },
   "source": [
    "## 클래스가 2개일 때\n",
    "\n",
    "- `태그.클래스1.클래스2`와 같이 `.`으로 구분하여 표시한다\n",
    "- 선택자에서 `p.tit.ellipsis`는 HTML에서 `<p class=\"tit ellipsis\">`\n",
    "- `p.tit`이나 `p.ellipsis`만 해도 `p.tit.ellipsis`는 선택 된다"
   ]
  },
  {
   "cell_type": "markdown",
   "metadata": {
    "slideshow": {
     "slide_type": "subslide"
    }
   },
   "source": [
    "## 포함관계인 노드의 선택자\n",
    "\n",
    "\n",
    "\n",
    "```html\n",
    "<p class=\"tit ellipsis\">\n",
    "    <a href=\"...\">아우디 A8</a>\n",
    "</p>\n",
    "```\n",
    "\n",
    "- 위의 예는 `p` 태그 안에 `a` 태그가 포함됨\n",
    "- 선택자에서 포함관계는 공백으로 표시: `p.tit a`"
   ]
  },
  {
   "cell_type": "code",
   "execution_count": 10,
   "metadata": {
    "slideshow": {
     "slide_type": "fragment"
    }
   },
   "outputs": [],
   "source": [
    "links = root.cssselect('p.tit a')"
   ]
  },
  {
   "cell_type": "code",
   "execution_count": 12,
   "metadata": {
    "slideshow": {
     "slide_type": "fragment"
    }
   },
   "outputs": [
    {
     "data": {
      "text/plain": [
       "[<Element a at 0x237a1c264f8>,\n",
       " <Element a at 0x237a1c266d8>,\n",
       " <Element a at 0x237a1c268b8>,\n",
       " <Element a at 0x237a1c26a98>,\n",
       " <Element a at 0x237a1c26c78>,\n",
       " <Element a at 0x237a1c26e58>,\n",
       " <Element a at 0x237a1c27098>,\n",
       " <Element a at 0x237a1c27278>,\n",
       " <Element a at 0x237a1c27458>,\n",
       " <Element a at 0x237a1c27638>,\n",
       " <Element a at 0x237a1c27818>,\n",
       " <Element a at 0x237a1c279f8>,\n",
       " <Element a at 0x237a1c27bd8>,\n",
       " <Element a at 0x237a1c27db8>,\n",
       " <Element a at 0x237a1c27f98>,\n",
       " <Element a at 0x237a1c281d8>,\n",
       " <Element a at 0x237a1c283b8>,\n",
       " <Element a at 0x237a1c28598>,\n",
       " <Element a at 0x237a1c28778>,\n",
       " <Element a at 0x237a1c28958>]"
      ]
     },
     "execution_count": 12,
     "metadata": {},
     "output_type": "execute_result"
    }
   ],
   "source": [
    "links"
   ]
  },
  {
   "cell_type": "markdown",
   "metadata": {
    "slideshow": {
     "slide_type": "slide"
    }
   },
   "source": [
    "## href 속성 모으기\n",
    "\n",
    "링크의 걸린 주소를 수집한다"
   ]
  },
  {
   "cell_type": "code",
   "execution_count": 11,
   "metadata": {},
   "outputs": [],
   "source": [
    "link = links[0]"
   ]
  },
  {
   "cell_type": "code",
   "execution_count": 12,
   "metadata": {},
   "outputs": [
    {
     "data": {
      "text/plain": [
       "'/mycar/mycar_view.php?no=1864265&gubun=I'"
      ]
     },
     "execution_count": 12,
     "metadata": {},
     "output_type": "execute_result"
    }
   ],
   "source": [
    "link.attrib['href'] "
   ]
  },
  {
   "cell_type": "code",
   "execution_count": 14,
   "metadata": {
    "slideshow": {
     "slide_type": "subslide"
    }
   },
   "outputs": [
    {
     "name": "stdout",
     "output_type": "stream",
     "text": [
      "/mycar/mycar_view.php?no=1864265&gubun=I\n",
      "/mycar/mycar_view.php?no=1864267&gubun=I\n",
      "/mycar/mycar_view.php?no=1912765&gubun=I\n",
      "/mycar/mycar_view.php?no=1912006&gubun=I\n",
      "/mycar/mycar_view.php?no=1912005&gubun=I\n",
      "/mycar/mycar_view.php?no=1851814&gubun=I\n",
      "/mycar/mycar_view.php?no=1851812&gubun=I\n",
      "/mycar/mycar_view.php?no=1851811&gubun=I\n",
      "/mycar/mycar_view.php?no=1851815&gubun=I\n",
      "/mycar/mycar_view.php?no=1935145&gubun=I\n",
      "/mycar/mycar_view.php?no=1927755&gubun=I\n",
      "/mycar/mycar_view.php?no=1927754&gubun=I\n",
      "/mycar/mycar_view.php?no=1927756&gubun=I\n",
      "/mycar/mycar_view.php?no=1836640&gubun=I\n",
      "/mycar/mycar_view.php?no=1914535&gubun=I\n",
      "/mycar/mycar_view.php?no=1859421&gubun=I\n",
      "/mycar/mycar_view.php?no=1859419&gubun=I\n",
      "/mycar/mycar_view.php?no=1859418&gubun=I\n",
      "/mycar/mycar_view.php?no=1897770&gubun=I\n",
      "/mycar/mycar_view.php?no=1906683&gubun=I\n"
     ]
    }
   ],
   "source": [
    "for link in links:\n",
    "    print(link.attrib['href'])"
   ]
  },
  {
   "cell_type": "code",
   "execution_count": 15,
   "metadata": {},
   "outputs": [],
   "source": [
    "x = [1,2,3]"
   ]
  },
  {
   "cell_type": "code",
   "execution_count": 16,
   "metadata": {},
   "outputs": [],
   "source": [
    "x.append(5) "
   ]
  },
  {
   "cell_type": "code",
   "execution_count": 18,
   "metadata": {},
   "outputs": [
    {
     "data": {
      "text/plain": [
       "[1, 2, 3, 5]"
      ]
     },
     "execution_count": 18,
     "metadata": {},
     "output_type": "execute_result"
    }
   ],
   "source": [
    "x"
   ]
  },
  {
   "cell_type": "code",
   "execution_count": 19,
   "metadata": {
    "slideshow": {
     "slide_type": "subslide"
    }
   },
   "outputs": [],
   "source": [
    "urls = []\n",
    "for link in links:\n",
    "    urls.append(link.attrib['href'])"
   ]
  },
  {
   "cell_type": "code",
   "execution_count": 22,
   "metadata": {},
   "outputs": [
    {
     "data": {
      "text/plain": [
       "['/mycar/mycar_view.php?no=1943389&gubun=K',\n",
       " '/mycar/mycar_view.php?no=1943379&gubun=K',\n",
       " '/mycar/mycar_view.php?no=1943376&gubun=K',\n",
       " '/mycar/mycar_view.php?no=1943368&gubun=K',\n",
       " '/mycar/mycar_view.php?no=1943365&gubun=K',\n",
       " '/mycar/mycar_view.php?no=1943357&gubun=K',\n",
       " '/mycar/mycar_view.php?no=1943372&gubun=K',\n",
       " '/mycar/mycar_view.php?no=1943391&gubun=K',\n",
       " '/mycar/mycar_view.php?no=1943353&gubun=K',\n",
       " '/mycar/mycar_view.php?no=1943432&gubun=K',\n",
       " '/mycar/mycar_view.php?no=1943349&gubun=K',\n",
       " '/mycar/mycar_view.php?no=1943399&gubun=K',\n",
       " '/mycar/mycar_view.php?no=1949368&gubun=K',\n",
       " '/mycar/mycar_view.php?no=1949365&gubun=K',\n",
       " '/mycar/mycar_view.php?no=1949363&gubun=K',\n",
       " '/mycar/mycar_view.php?no=1949361&gubun=K',\n",
       " '/mycar/mycar_view.php?no=1949360&gubun=K',\n",
       " '/mycar/mycar_view.php?no=1949354&gubun=K',\n",
       " '/mycar/mycar_view.php?no=1917851&gubun=K',\n",
       " '/mycar/mycar_view.php?no=1917812&gubun=K']"
      ]
     },
     "execution_count": 22,
     "metadata": {},
     "output_type": "execute_result"
    }
   ],
   "source": [
    "urls"
   ]
  },
  {
   "cell_type": "markdown",
   "metadata": {
    "slideshow": {
     "slide_type": "slide"
    }
   },
   "source": [
    "## 상대주소\n",
    "\n",
    "- `/mycar/mycar_view.php?no=1944109&gubun=K`는 스키마와 호스트가 생략된 상대주소\n",
    "\n",
    "- 원래 주소 `http://www.bobaedream.co.kr/mycar/mycar_list.php?sel_m_gubun=ALL&page=2`를 이용해 절대주소로 변환"
   ]
  },
  {
   "cell_type": "code",
   "execution_count": 17,
   "metadata": {},
   "outputs": [],
   "source": [
    "import urllib.parse"
   ]
  },
  {
   "cell_type": "code",
   "execution_count": 18,
   "metadata": {
    "slideshow": {
     "slide_type": "fragment"
    }
   },
   "outputs": [
    {
     "data": {
      "text/plain": [
       "'http://www.bobaedream.co.kr/mycar/mycar_view.php?no=1944109&gubun=K'"
      ]
     },
     "execution_count": 18,
     "metadata": {},
     "output_type": "execute_result"
    }
   ],
   "source": [
    "urllib.parse.urljoin(url, '/mycar/mycar_view.php?no=1944109&gubun=K')"
   ]
  },
  {
   "cell_type": "markdown",
   "metadata": {
    "slideshow": {
     "slide_type": "subslide"
    }
   },
   "source": [
    "## 링크된 주소를 절대 주소로 수집"
   ]
  },
  {
   "cell_type": "code",
   "execution_count": 19,
   "metadata": {
    "slideshow": {
     "slide_type": "fragment"
    }
   },
   "outputs": [],
   "source": [
    "urls = []\n",
    "for link in links:\n",
    "    href = urllib.parse.urljoin(url, link.attrib['href'])\n",
    "    urls.append(href)"
   ]
  },
  {
   "cell_type": "code",
   "execution_count": 24,
   "metadata": {},
   "outputs": [
    {
     "data": {
      "text/plain": [
       "['http://www.bobaedream.co.kr/mycar/mycar_view.php?no=1943389&gubun=K',\n",
       " 'http://www.bobaedream.co.kr/mycar/mycar_view.php?no=1943379&gubun=K',\n",
       " 'http://www.bobaedream.co.kr/mycar/mycar_view.php?no=1943376&gubun=K',\n",
       " 'http://www.bobaedream.co.kr/mycar/mycar_view.php?no=1943368&gubun=K',\n",
       " 'http://www.bobaedream.co.kr/mycar/mycar_view.php?no=1943365&gubun=K',\n",
       " 'http://www.bobaedream.co.kr/mycar/mycar_view.php?no=1943357&gubun=K',\n",
       " 'http://www.bobaedream.co.kr/mycar/mycar_view.php?no=1943372&gubun=K',\n",
       " 'http://www.bobaedream.co.kr/mycar/mycar_view.php?no=1943391&gubun=K',\n",
       " 'http://www.bobaedream.co.kr/mycar/mycar_view.php?no=1943353&gubun=K',\n",
       " 'http://www.bobaedream.co.kr/mycar/mycar_view.php?no=1943432&gubun=K',\n",
       " 'http://www.bobaedream.co.kr/mycar/mycar_view.php?no=1943349&gubun=K',\n",
       " 'http://www.bobaedream.co.kr/mycar/mycar_view.php?no=1943399&gubun=K',\n",
       " 'http://www.bobaedream.co.kr/mycar/mycar_view.php?no=1949368&gubun=K',\n",
       " 'http://www.bobaedream.co.kr/mycar/mycar_view.php?no=1949365&gubun=K',\n",
       " 'http://www.bobaedream.co.kr/mycar/mycar_view.php?no=1949363&gubun=K',\n",
       " 'http://www.bobaedream.co.kr/mycar/mycar_view.php?no=1949361&gubun=K',\n",
       " 'http://www.bobaedream.co.kr/mycar/mycar_view.php?no=1949360&gubun=K',\n",
       " 'http://www.bobaedream.co.kr/mycar/mycar_view.php?no=1949354&gubun=K',\n",
       " 'http://www.bobaedream.co.kr/mycar/mycar_view.php?no=1917851&gubun=K',\n",
       " 'http://www.bobaedream.co.kr/mycar/mycar_view.php?no=1917812&gubun=K']"
      ]
     },
     "execution_count": 24,
     "metadata": {},
     "output_type": "execute_result"
    }
   ],
   "source": [
    "urls"
   ]
  },
  {
   "cell_type": "markdown",
   "metadata": {
    "slideshow": {
     "slide_type": "slide"
    }
   },
   "source": [
    "## 링크에서 텍스트를 추출"
   ]
  },
  {
   "cell_type": "code",
   "execution_count": 20,
   "metadata": {},
   "outputs": [],
   "source": [
    "texts = []\n",
    "for link in links:\n",
    "    texts.append(link.text_content())"
   ]
  },
  {
   "cell_type": "code",
   "execution_count": 24,
   "metadata": {},
   "outputs": [
    {
     "data": {
      "text/plain": [
       "['렉서스 뉴 ES 350 슈프림',\n",
       " '재규어 XF 2.2D 럭셔리',\n",
       " 'BMW 730Ld',\n",
       " '링컨 MKZ 2.0 하이브리드 리저브 ',\n",
       " '렉서스 뉴 ES 300h 슈프림',\n",
       " '랜드로버 레인지로버 이보크 2.0 TD4 HSE 다이나믹',\n",
       " 'BMW 뉴 520d M 스포츠 팩 플러스 G30',\n",
       " 'BMW 528i M 에어로 다이나믹',\n",
       " '지프 뉴 체로키 2.2 디젤 리미티드 4WD',\n",
       " '벤츠 S350L 블루이피션시',\n",
       " '랜드로버 디스커버리 스포츠 2.0 TD4 HSE 럭셔리',\n",
       " '벤츠 뉴 E220 d 아방가르드',\n",
       " '링컨 MKZ 2.0 하이브리드 리저브',\n",
       " '벤츠 CLS 400',\n",
       " '벤츠 CLS 250 CDI',\n",
       " 'BMW 640d xDrive 그란 쿠페 M 스포츠',\n",
       " '벤츠 E220 블루텍 아방가르드',\n",
       " '폭스바겐 뉴 CC 2.0 TDI 블루모션',\n",
       " '캐딜락 뉴 CTS 2.0 프리미엄',\n",
       " '벤츠 GLA45 AMG 4매틱']"
      ]
     },
     "execution_count": 24,
     "metadata": {},
     "output_type": "execute_result"
    }
   ],
   "source": [
    "texts"
   ]
  },
  {
   "cell_type": "markdown",
   "metadata": {
    "slideshow": {
     "slide_type": "slide"
    }
   },
   "source": [
    "## 수집된 주소를 저장"
   ]
  },
  {
   "cell_type": "code",
   "execution_count": 25,
   "metadata": {
    "slideshow": {
     "slide_type": "fragment"
    }
   },
   "outputs": [],
   "source": [
    "import pandas"
   ]
  },
  {
   "cell_type": "code",
   "execution_count": 26,
   "metadata": {
    "slideshow": {
     "slide_type": "fragment"
    }
   },
   "outputs": [],
   "source": [
    "df = pandas.DataFrame({'url': urls, 'text': texts})"
   ]
  },
  {
   "cell_type": "code",
   "execution_count": 27,
   "metadata": {
    "slideshow": {
     "slide_type": "subslide"
    }
   },
   "outputs": [
    {
     "data": {
      "text/html": [
       "<div>\n",
       "<style scoped>\n",
       "    .dataframe tbody tr th:only-of-type {\n",
       "        vertical-align: middle;\n",
       "    }\n",
       "\n",
       "    .dataframe tbody tr th {\n",
       "        vertical-align: top;\n",
       "    }\n",
       "\n",
       "    .dataframe thead th {\n",
       "        text-align: right;\n",
       "    }\n",
       "</style>\n",
       "<table border=\"1\" class=\"dataframe\">\n",
       "  <thead>\n",
       "    <tr style=\"text-align: right;\">\n",
       "      <th></th>\n",
       "      <th>url</th>\n",
       "      <th>text</th>\n",
       "    </tr>\n",
       "  </thead>\n",
       "  <tbody>\n",
       "    <tr>\n",
       "      <th>0</th>\n",
       "      <td>http://www.bobaedream.co.kr/mycar/mycar_view.p...</td>\n",
       "      <td>렉서스 뉴 ES 350 슈프림</td>\n",
       "    </tr>\n",
       "    <tr>\n",
       "      <th>1</th>\n",
       "      <td>http://www.bobaedream.co.kr/mycar/mycar_view.p...</td>\n",
       "      <td>재규어 XF 2.2D 럭셔리</td>\n",
       "    </tr>\n",
       "    <tr>\n",
       "      <th>2</th>\n",
       "      <td>http://www.bobaedream.co.kr/mycar/mycar_view.p...</td>\n",
       "      <td>BMW 730Ld</td>\n",
       "    </tr>\n",
       "    <tr>\n",
       "      <th>3</th>\n",
       "      <td>http://www.bobaedream.co.kr/mycar/mycar_view.p...</td>\n",
       "      <td>링컨 MKZ 2.0 하이브리드 리저브</td>\n",
       "    </tr>\n",
       "    <tr>\n",
       "      <th>4</th>\n",
       "      <td>http://www.bobaedream.co.kr/mycar/mycar_view.p...</td>\n",
       "      <td>렉서스 뉴 ES 300h 슈프림</td>\n",
       "    </tr>\n",
       "  </tbody>\n",
       "</table>\n",
       "</div>"
      ],
      "text/plain": [
       "                                                 url                   text\n",
       "0  http://www.bobaedream.co.kr/mycar/mycar_view.p...       렉서스 뉴 ES 350 슈프림\n",
       "1  http://www.bobaedream.co.kr/mycar/mycar_view.p...        재규어 XF 2.2D 럭셔리\n",
       "2  http://www.bobaedream.co.kr/mycar/mycar_view.p...              BMW 730Ld\n",
       "3  http://www.bobaedream.co.kr/mycar/mycar_view.p...  링컨 MKZ 2.0 하이브리드 리저브 \n",
       "4  http://www.bobaedream.co.kr/mycar/mycar_view.p...      렉서스 뉴 ES 300h 슈프림"
      ]
     },
     "execution_count": 27,
     "metadata": {},
     "output_type": "execute_result"
    }
   ],
   "source": [
    "df.head()"
   ]
  },
  {
   "cell_type": "code",
   "execution_count": 28,
   "metadata": {
    "slideshow": {
     "slide_type": "subslide"
    }
   },
   "outputs": [],
   "source": [
    "df.to_excel('중고차.xlsx')"
   ]
  },
  {
   "cell_type": "code",
   "execution_count": null,
   "metadata": {},
   "outputs": [],
   "source": []
  }
 ],
 "metadata": {
  "celltoolbar": "Slideshow",
  "kernelspec": {
   "display_name": "Python 3",
   "language": "python",
   "name": "python3"
  },
  "language_info": {
   "codemirror_mode": {
    "name": "ipython",
    "version": 3
   },
   "file_extension": ".py",
   "mimetype": "text/x-python",
   "name": "python",
   "nbconvert_exporter": "python",
   "pygments_lexer": "ipython3",
   "version": "3.6.4"
  }
 },
 "nbformat": 4,
 "nbformat_minor": 2
}
