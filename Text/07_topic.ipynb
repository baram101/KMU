{
 "cells": [
  {
   "cell_type": "markdown",
   "metadata": {
    "slideshow": {
     "slide_type": "slide"
    }
   },
   "source": [
    "# 주제 분석"
   ]
  },
  {
   "cell_type": "markdown",
   "metadata": {
    "slideshow": {
     "slide_type": "subslide"
    }
   },
   "source": [
    "## 학습 목표\n",
    "\n",
    "- 토픽 모형을 이용해 분석을 실시하고 해석할 수 있다"
   ]
  },
  {
   "cell_type": "markdown",
   "metadata": {
    "slideshow": {
     "slide_type": "slide"
    }
   },
   "source": [
    "## 토픽 모형\n",
    "\n",
    "- 2003년 David Blei, Andrew Ng, 그리고 Michael Jordan이 발표\n",
    "- 여러 개의 텍스트에서 공통된 주제를 추출하는 기법"
   ]
  },
  {
   "cell_type": "markdown",
   "metadata": {
    "slideshow": {
     "slide_type": "subslide"
    }
   },
   "source": [
    "### 토픽 모형의 가정\n",
    "\n",
    "- 하나의 텍스트에는 여러 가지 주제가 일정 비율로 포함되어 있다\n",
    "- 주제마다 고유한 단어의 분포가 있다\n",
    "- 텍스트의 단어 분포는 각 주제의 비율과 각 주제의 단어 분포에 따라 정해진다"
   ]
  },
  {
   "cell_type": "markdown",
   "metadata": {
    "slideshow": {
     "slide_type": "slide"
    }
   },
   "source": [
    "## gensim\n",
    "\n",
    "아나콘다에서는 다음 명령으로 설치"
   ]
  },
  {
   "cell_type": "code",
   "execution_count": null,
   "metadata": {
    "slideshow": {
     "slide_type": "fragment"
    }
   },
   "outputs": [],
   "source": [
    "!conda install -y gensim"
   ]
  },
  {
   "cell_type": "markdown",
   "metadata": {
    "slideshow": {
     "slide_type": "fragment"
    }
   },
   "source": [
    "colab에서는 `pip`로 설치"
   ]
  },
  {
   "cell_type": "code",
   "execution_count": null,
   "metadata": {
    "slideshow": {
     "slide_type": "fragment"
    }
   },
   "outputs": [],
   "source": [
    "!pip install gensim"
   ]
  },
  {
   "cell_type": "markdown",
   "metadata": {
    "slideshow": {
     "slide_type": "slide"
    }
   },
   "source": [
    "## 토픽 모형 실습"
   ]
  },
  {
   "cell_type": "markdown",
   "metadata": {
    "slideshow": {
     "slide_type": "subslide"
    }
   },
   "source": [
    "### 데이터 불러오기"
   ]
  },
  {
   "cell_type": "code",
   "execution_count": 1,
   "metadata": {
    "slideshow": {
     "slide_type": "fragment"
    }
   },
   "outputs": [],
   "source": [
    "import pandas as pd"
   ]
  },
  {
   "cell_type": "code",
   "execution_count": 2,
   "metadata": {
    "slideshow": {
     "slide_type": "fragment"
    }
   },
   "outputs": [],
   "source": [
    "df = pd.read_csv('인공지능.csv', engine='python', index_col=0, encoding='utf8')"
   ]
  },
  {
   "cell_type": "markdown",
   "metadata": {
    "slideshow": {
     "slide_type": "subslide"
    }
   },
   "source": [
    "### WPM 불러오기"
   ]
  },
  {
   "cell_type": "code",
   "execution_count": 3,
   "metadata": {
    "slideshow": {
     "slide_type": "fragment"
    }
   },
   "outputs": [],
   "source": [
    "from subword_nmt.apply_bpe import BPE"
   ]
  },
  {
   "cell_type": "code",
   "execution_count": 4,
   "metadata": {
    "slideshow": {
     "slide_type": "fragment"
    }
   },
   "outputs": [],
   "source": [
    "with open('인공지능BPE.txt', encoding='utf8') as f:\n",
    "    bpe = BPE(f, separator='~')"
   ]
  },
  {
   "cell_type": "markdown",
   "metadata": {
    "slideshow": {
     "slide_type": "subslide"
    }
   },
   "source": [
    "### 토크나이저"
   ]
  },
  {
   "cell_type": "code",
   "execution_count": 5,
   "metadata": {
    "slideshow": {
     "slide_type": "fragment"
    }
   },
   "outputs": [],
   "source": [
    "def tokenizer_wpm(text):\n",
    "    tokens = bpe.process_line(text)\n",
    "    tokens = tokens.split()\n",
    "    return [t for t in tokens\n",
    "            if (not t.endswith('~') and len(t) > 1) or len(t) > 2]"
   ]
  },
  {
   "cell_type": "markdown",
   "metadata": {
    "slideshow": {
     "slide_type": "subslide"
    }
   },
   "source": [
    "### TDM 만들기"
   ]
  },
  {
   "cell_type": "code",
   "execution_count": 6,
   "metadata": {
    "slideshow": {
     "slide_type": "fragment"
    }
   },
   "outputs": [],
   "source": [
    "from sklearn.feature_extraction.text import CountVectorizer"
   ]
  },
  {
   "cell_type": "code",
   "execution_count": 7,
   "metadata": {
    "slideshow": {
     "slide_type": "fragment"
    }
   },
   "outputs": [],
   "source": [
    "cv = CountVectorizer(tokenizer=tokenizer_wpm, max_features=1000)"
   ]
  },
  {
   "cell_type": "code",
   "execution_count": 8,
   "metadata": {
    "slideshow": {
     "slide_type": "fragment"
    }
   },
   "outputs": [],
   "source": [
    "tdm = cv.fit_transform(df['article'])"
   ]
  },
  {
   "cell_type": "code",
   "execution_count": 9,
   "metadata": {
    "slideshow": {
     "slide_type": "fragment"
    }
   },
   "outputs": [],
   "source": [
    "words = cv.get_feature_names()"
   ]
  },
  {
   "cell_type": "markdown",
   "metadata": {
    "slideshow": {
     "slide_type": "subslide"
    }
   },
   "source": [
    "### TDM을 gensim의 형식으로 변환"
   ]
  },
  {
   "cell_type": "code",
   "execution_count": 12,
   "metadata": {
    "slideshow": {
     "slide_type": "fragment"
    }
   },
   "outputs": [
    {
     "name": "stderr",
     "output_type": "stream",
     "text": [
      "C:\\Users\\user\\Anaconda3\\lib\\site-packages\\gensim\\utils.py:1197: UserWarning: detected Windows; aliasing chunkize to chunkize_serial\n",
      "  warnings.warn(\"detected Windows; aliasing chunkize to chunkize_serial\")\n"
     ]
    }
   ],
   "source": [
    "from gensim.matutils import Sparse2Corpus\n",
    "\n",
    "corpus = Sparse2Corpus(tdm.T)"
   ]
  },
  {
   "cell_type": "markdown",
   "metadata": {
    "slideshow": {
     "slide_type": "subslide"
    }
   },
   "source": [
    "### 토픽 모형 분석"
   ]
  },
  {
   "cell_type": "code",
   "execution_count": 13,
   "metadata": {
    "slideshow": {
     "slide_type": "fragment"
    }
   },
   "outputs": [],
   "source": [
    "from gensim.models.ldamodel import LdaModel"
   ]
  },
  {
   "cell_type": "code",
   "execution_count": 14,
   "metadata": {
    "slideshow": {
     "slide_type": "fragment"
    }
   },
   "outputs": [],
   "source": [
    "lda = LdaModel(corpus=corpus,\n",
    "               id2word=dict(enumerate(words)),\n",
    "               num_topics=10,\n",
    "               passes=10,\n",
    "               iterations=50,\n",
    "               random_state=1234)"
   ]
  },
  {
   "cell_type": "markdown",
   "metadata": {
    "slideshow": {
     "slide_type": "slide"
    }
   },
   "source": [
    "## 분석 결과 보기\n",
    "\n",
    "0번 문서의 내용"
   ]
  },
  {
   "cell_type": "code",
   "execution_count": 15,
   "metadata": {
    "slideshow": {
     "slide_type": "fragment"
    }
   },
   "outputs": [
    {
     "data": {
      "text/plain": [
       "'한솔인티큐브의 커뮤니케이션 브랜드 ‘아이작’은 옴니채널과 인공지능(AI) 기술 도입이 어려운 컨택센터를 위한 클라우드 서비스를 선보인다.\\n         기업들은 빠르게 변화하는 시장 환경 속에서 고객의 니즈를 수용할 수 있는 유연한 플랫폼을 필요로 한다. 과거에는 전화라는 하나의 채널로 모이던 고객의 목소리가 최근에는 웹, 모바일 플랫폼 발전에 따라 다양화되고 있다. 다양한 채널은 시대에 따라 새로 추가되기도 하고 사라지기도 한다. 카카오톡이 문자 메시지(SMS) 사용량을 넘어선 것이 대표적인 예이다.\\n         이렇듯 환경과 고객의 변화는 시간이 갈수록 가속화되고 예측이 불가하다. 앞으로 기업들은 어떻게 이러한 환경에 대응하여 최적의 고객 경험을 제공할 수 있을까?\\n         과거와 같이 대규모 투자를 통한 인프라 구축 방식으로는 시장 변화 속도에 따라갈 수 없다. 특히 신기술 도입을 통한 서비스는 론칭 이후 시장의 검증 과정이 필수적이다. 고객의 소리에 따라 서비스를 지속적으로 개선해나가는 과정이 필요하다. AICC(인공지능 컨택센터)의 경우도 마찬가지이다.\\n         인공지능 기술이 최근 각광받고 있음에도 불구하고 기업에서는 선뜻 AICC로의 전환을 결정하기가 어렵다. 기술의 장벽, 높은 초기 비용은 차치하더라도 그 효과성에 의문을 가지기 때문이다.\\n         힌솔인티큐브의 아이작이 제안하는 클라우드 솔루션은 최근 가장 화두에 오르는 인공지능, 옴니채널, 클라우드를 모두 아우른 것이다. 서비스에 단순히 챗봇만을 추가하는 것이 아니라 고객의 다양한 채널에 AI를 접목할 수 있다. 전화 채널과 AI를 결합한 음성 봇은 물론, 문자, 메신저, 카카오톡 등과의 결합한 챗봇, 고객의 요청사항 처리를 자동화할 수 있는 RPA 등 AI와 상담원 간 유기적 협업 체제를 구현할 수 있는 솔루션이다.\\n         또 챗봇, 음성 봇을 포함한 AI 상담 봇은 얼마나 정확하고 많은 데이터를 학습하는 가에 따라 서비스의 질이 달라진다. 기업 관점에서 흩어져 있는 고객 상담 채널을 통합해야 하는 이유가 여기에 있다.\\n         이미 고정형(silo형)으로 인프라가 구축돼 있는 대규모 센터는 단기간에 AI 상담 봇을 한꺼번에 적용하기가 어렵다.\\n         아이작은 클라우드 환경에서 완벽한 옴니채널 환경을 구현함으로써 전체 혹은 일부 고객 서비스에 인공지능 기술과 옴니채널을 접목해볼 수 있다. 고객에 맞는 최적의 서비스 형태를 검증하고, 통합 채널을 통해 기업으로 유입해 오는 고객 데이터를 축적해 보다 향상된 고객 경험을 설계할 수 있다.\\n         한광신 한솔인티큐브 서비스 사업부 사업부장은 “최적의 고객 경험을 제공하고자 하는 많은 기업들이 옴니채널과 인공지능 기술을 통한 혜택을 얻을 수 있다”며 “아이작은 구축형과 클라우드형으로 선택 적용이 가능하고 이미 구축된 컨택센터 또는 클라우드형 컨택센터와 연계하여 유∙무인 서비스를 동시에 적용할 수 있어 대기업이든 스타트업이든 고객이 필요로 하는 서비스를 보다 쉽게 도입할 수 있도록 지원한다”라고 말했다.\\n         그는 이어 “올해는 주요 영업처인 기존 대형 보험, 카드사를 비롯하여 옴니채널 클라우드 컨택센터를 도입한 스타트업까지 아이작 구축 사례를 기반으로 한 다양한 레퍼런스 확보에 집중할 계획”이라고 올해 영업전략을 소개했다.\\n         한솔인티큐브는 지난 2003년부터 국내 컨택센터 분야를 리딩하는 토탈 솔루션 프로바이더이다. 주요 사업은 컨택센터(인공지능, 클라우드 포함) 외 UC, 모바일 사업을 영위하고 있다.\\n         한편 한솔인티큐브는 오는 3월 21일 서울 코엑스 그랜드볼룸에서 열리는 ‘인공지능(AI) 차세대 컨택센터 컨퍼런스2019’ 기술 및 솔루션세션에서 ‘AICC on Cloud’를 주제로 중소규모에서 대기업까지 도입할 수 있는 전략적 AICC 도입방안을 발표할 예정이다.\\n         한솔인티큐브 한광신 사업부장'"
      ]
     },
     "execution_count": 15,
     "metadata": {},
     "output_type": "execute_result"
    }
   ],
   "source": [
    "df.loc[0, 'article']"
   ]
  },
  {
   "cell_type": "markdown",
   "metadata": {
    "slideshow": {
     "slide_type": "subslide"
    }
   },
   "source": [
    "### 문서 정보를 TDM에서 gensim 형식으로 변환"
   ]
  },
  {
   "cell_type": "code",
   "execution_count": 16,
   "metadata": {
    "slideshow": {
     "slide_type": "fragment"
    }
   },
   "outputs": [],
   "source": [
    "row = tdm[0]\n",
    "doc = list(zip(row.indices, row.data))"
   ]
  },
  {
   "cell_type": "markdown",
   "metadata": {
    "slideshow": {
     "slide_type": "subslide"
    }
   },
   "source": [
    "### 문서의 주제 확인\n",
    "\n",
    "- `(2, 0.79), (7, 0.20)`은 2번 주제 79%, 7번 주제 20%가 섞였다는 뜻"
   ]
  },
  {
   "cell_type": "code",
   "execution_count": 17,
   "metadata": {
    "slideshow": {
     "slide_type": "fragment"
    }
   },
   "outputs": [
    {
     "data": {
      "text/plain": [
       "[(2, 0.79535955), (7, 0.2016031)]"
      ]
     },
     "execution_count": 17,
     "metadata": {},
     "output_type": "execute_result"
    }
   ],
   "source": [
    "lda.get_document_topics(doc)"
   ]
  },
  {
   "cell_type": "markdown",
   "metadata": {
    "slideshow": {
     "slide_type": "subslide"
    }
   },
   "source": [
    "### 특정 주제에서 자주 나오는 표현"
   ]
  },
  {
   "cell_type": "code",
   "execution_count": 18,
   "metadata": {
    "slideshow": {
     "slide_type": "fragment"
    }
   },
   "outputs": [
    {
     "data": {
      "text/plain": [
       "[('하고', 0.017391594),\n",
       " ('하는', 0.015492899),\n",
       " ('으로', 0.014047263),\n",
       " ('인공지능', 0.010525397),\n",
       " ('에서', 0.009355502),\n",
       " ('서비스를', 0.009160505),\n",
       " ('있다.', 0.00890011),\n",
       " ('기업~', 0.008296231),\n",
       " ('서비스', 0.008019856),\n",
       " ('통해', 0.0074179773)]"
      ]
     },
     "execution_count": 18,
     "metadata": {},
     "output_type": "execute_result"
    }
   ],
   "source": [
    "lda.show_topic(2)"
   ]
  },
  {
   "cell_type": "code",
   "execution_count": 19,
   "metadata": {
    "slideshow": {
     "slide_type": "subslide"
    }
   },
   "outputs": [
    {
     "data": {
      "text/plain": [
       "[('에서', 0.018277612),\n",
       " ('데이터', 0.014089167),\n",
       " ('하는', 0.013355438),\n",
       " ('하고', 0.011498911),\n",
       " ('인공지능', 0.0112016415),\n",
       " ('한국~', 0.00956583),\n",
       " ('데이터~', 0.008560068),\n",
       " ('인공지능~', 0.008392587),\n",
       " ('으로', 0.008297168),\n",
       " ('의료~', 0.00781262)]"
      ]
     },
     "execution_count": 19,
     "metadata": {},
     "output_type": "execute_result"
    }
   ],
   "source": [
    "lda.show_topic(7)"
   ]
  },
  {
   "cell_type": "markdown",
   "metadata": {
    "slideshow": {
     "slide_type": "slide"
    }
   },
   "source": [
    "## 저장과 불러오기\n",
    "\n",
    "저장"
   ]
  },
  {
   "cell_type": "code",
   "execution_count": 20,
   "metadata": {
    "slideshow": {
     "slide_type": "fragment"
    }
   },
   "outputs": [],
   "source": [
    "lda.save('lda_test.lda')"
   ]
  },
  {
   "cell_type": "markdown",
   "metadata": {
    "slideshow": {
     "slide_type": "fragment"
    }
   },
   "source": [
    "불러오기"
   ]
  },
  {
   "cell_type": "code",
   "execution_count": 21,
   "metadata": {
    "slideshow": {
     "slide_type": "fragment"
    }
   },
   "outputs": [],
   "source": [
    "lda2 = LdaModel.load('lda_test.lda') "
   ]
  }
 ],
 "metadata": {
  "celltoolbar": "Slideshow",
  "kernelspec": {
   "display_name": "Python 3",
   "language": "python",
   "name": "python3"
  },
  "language_info": {
   "codemirror_mode": {
    "name": "ipython",
    "version": 3
   },
   "file_extension": ".py",
   "mimetype": "text/x-python",
   "name": "python",
   "nbconvert_exporter": "python",
   "pygments_lexer": "ipython3",
   "version": "3.6.4"
  }
 },
 "nbformat": 4,
 "nbformat_minor": 2
}
